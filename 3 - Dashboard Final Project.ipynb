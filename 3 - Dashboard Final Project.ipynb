{
 "cells": [
  {
   "cell_type": "markdown",
   "metadata": {
    "application/vnd.databricks.v1+cell": {
     "cellMetadata": {},
     "inputWidgets": {},
     "nuid": "91d100e5-b665-4e70-b7a6-f6a912193aa0",
     "showTitle": false,
     "title": ""
    }
   },
   "source": [
    "# Dashboard\n",
    "\n",
    "- Map with top 10 restaurants in the city by rating\n",
    "- Map with top 10 restaurants in the city by review counts\n",
    "- Rating changing by postal code? Prove it \n",
    "- Graph the distribution of > 4.5* rated and > 10 reviews restaurant by categories\n",
    "\n"
   ]
  },
  {
   "cell_type": "code",
   "execution_count": 0,
   "metadata": {
    "application/vnd.databricks.v1+cell": {
     "cellMetadata": {},
     "inputWidgets": {},
     "nuid": "4a3609e6-1dbf-470a-837b-f26f98c45e60",
     "showTitle": false,
     "title": ""
    }
   },
   "outputs": [
    {
     "output_type": "display_data",
     "data": {
      "text/html": [
       "<style scoped>\n",
       "  .table-result-container {\n",
       "    max-height: 300px;\n",
       "    overflow: auto;\n",
       "  }\n",
       "  table, th, td {\n",
       "    border: 1px solid black;\n",
       "    border-collapse: collapse;\n",
       "  }\n",
       "  th, td {\n",
       "    padding: 5px;\n",
       "  }\n",
       "  th {\n",
       "    text-align: left;\n",
       "  }\n",
       "</style><div class='table-result-container'><table class='table-result'><thead style='background-color: white'><tr><th>name</th><th>review_count</th><th>categories</th><th>rating</th><th>latitude</th><th>price</th><th>distance</th><th>longitude</th><th>postal_code</th></tr></thead><tbody><tr><td>El Sur</td><td>769</td><td>Spanish</td><td>4.5</td><td>40.41105</td><td>2</td><td>1323.9351440693945</td><td>-3.6995454</td><td>28012</td></tr><tr><td>Alhambra</td><td>448</td><td>Spanish</td><td>4</td><td>40.41587</td><td>2</td><td>847.3790987480967</td><td>-3.7016</td><td>28012</td></tr><tr><td>La Bodega de Los Secretos</td><td>31</td><td>Spanish</td><td>4.5</td><td>40.410683</td><td>3</td><td>1375.936331500051</td><td>-3.694688</td><td>28014</td></tr><tr><td>Casa Julio</td><td>42</td><td>Spanish</td><td>4.5</td><td>40.42427</td><td>2</td><td>546.9655482728417</td><td>-3.70368</td><td>28004</td></tr><tr><td>Celso y Manolo</td><td>182</td><td>Spanish</td><td>4.5</td><td>40.420185</td><td>2</td><td>297.6040361411656</td><td>-3.6974769</td><td>28004</td></tr><tr><td>Taberna El Sur de Huertas</td><td>41</td><td>Spanish</td><td>5</td><td>40.41366</td><td>null</td><td>1036.183034652163</td><td>-3.69943</td><td>28014</td></tr><tr><td>Malacatín</td><td>24</td><td>Spanish</td><td>4.5</td><td>40.41031</td><td>null</td><td>1638.679922735727</td><td>-3.70765</td><td>28005</td></tr><tr><td>Más Al Sur</td><td>126</td><td>Spanish</td><td>4.5</td><td>40.41002</td><td>2</td><td>1409.3953170255295</td><td>-3.69693</td><td>28012</td></tr><tr><td>La Casa del Abuelo</td><td>161</td><td>Spanish</td><td>4</td><td>40.415768</td><td>2</td><td>859.0034856078098</td><td>-3.701606</td><td>28012</td></tr><tr><td>Oink</td><td>16</td><td>Spanish</td><td>4.5</td><td>40.42004</td><td>1</td><td>398.07076724778057</td><td>-3.700481</td><td>28013</td></tr><tr><td>Street Xo</td><td>94</td><td>Spanish</td><td>4.5</td><td>40.427647</td><td>3</td><td>1035.445088896326</td><td>-3.687092</td><td>28001</td></tr><tr><td>Vinoteca Moratín</td><td>33</td><td>Spanish</td><td>5</td><td>40.41252</td><td>3</td><td>1168.8084348720095</td><td>-3.69541</td><td>28014</td></tr><tr><td>El Rincón de Ati</td><td>8</td><td>Spanish</td><td>4.5</td><td>40.415123</td><td>2</td><td>1257.8650825827144</td><td>-3.708427</td><td>28005</td></tr><tr><td>La Mi Venta</td><td>102</td><td>Spanish</td><td>4.5</td><td>40.420456</td><td>3</td><td>1282.4301695469583</td><td>-3.7124026</td><td>28013</td></tr><tr><td>Bodega de la Ardosa</td><td>125</td><td>Spanish</td><td>4</td><td>40.42375</td><td>2</td><td>371.17219437757063</td><td>-3.70182</td><td>28004</td></tr><tr><td>Algarabía</td><td>16</td><td>Spanish</td><td>5</td><td>40.41732</td><td>2</td><td>1245.5718114622448</td><td>-3.7103744</td><td>28013</td></tr><tr><td>Lateral</td><td>79</td><td>Spanish</td><td>4</td><td>40.42306</td><td>2</td><td>299.75414566377356</td><td>-3.70113</td><td>28004</td></tr><tr><td>Entrevinos</td><td>11</td><td>Spanish</td><td>4.5</td><td>40.42615</td><td>2</td><td>1679.1324348217292</td><td>-3.71713</td><td>28008</td></tr><tr><td>Los Montes de Galicia</td><td>54</td><td>Spanish</td><td>4.5</td><td>40.4346</td><td>3</td><td>2810.2129913861268</td><td>-3.66854</td><td>28028</td></tr><tr><td>Sacha</td><td>12</td><td>Spanish</td><td>4.5</td><td>40.460682</td><td>4</td><td>4292.8105582067265</td><td>-3.6874075</td><td>28036</td></tr><tr><td>Malaspina</td><td>210</td><td>Spanish</td><td>4</td><td>40.41582</td><td>1</td><td>880.0271748434934</td><td>-3.70253</td><td>28012</td></tr><tr><td>Tierra del Queiles</td><td>20</td><td>Spanish</td><td>4.5</td><td>40.42661</td><td>2</td><td>888.0611582031488</td><td>-3.68828</td><td>28001</td></tr><tr><td>Casa Toni</td><td>86</td><td>Spanish</td><td>4.5</td><td>40.415554</td><td>1</td><td>889.604983373482</td><td>-3.7018628</td><td>28012</td></tr><tr><td>La Austriaca</td><td>23</td><td>Spanish</td><td>4.5</td><td>40.42139</td><td>2</td><td>371.7496282903476</td><td>-3.70149</td><td>28004</td></tr><tr><td>Ciudad de Tui</td><td>26</td><td>Spanish</td><td>4</td><td>40.41823</td><td>null</td><td>659.7646610690329</td><td>-3.70241</td><td>28013</td></tr><tr><td>O Pazo de Lugo</td><td>55</td><td>Spanish</td><td>4</td><td>40.407417</td><td>2</td><td>1720.5167688397755</td><td>-3.6962805</td><td>28012</td></tr><tr><td>El Comunista</td><td>9</td><td>Spanish</td><td>4.5</td><td>40.42219</td><td>2</td><td>70.33818378885029</td><td>-3.69756</td><td>28004</td></tr><tr><td>La Garriga</td><td>2</td><td>Spanish</td><td>5</td><td>40.426544</td><td>null</td><td>560.7903673495854</td><td>-3.69306</td><td>28004</td></tr><tr><td>Selva</td><td>9</td><td>Spanish</td><td>4.5</td><td>40.423363</td><td>2</td><td>936.2070628085398</td><td>-3.708626</td><td>28015</td></tr><tr><td>Rosi La Loca</td><td>180</td><td>Spanish</td><td>4.5</td><td>40.415813</td><td>3</td><td>906.7764467348135</td><td>-3.7029788</td><td>28012</td></tr><tr><td>El Lagar</td><td>14</td><td>Spanish</td><td>4.5</td><td>40.42866</td><td>1</td><td>2003.3739086320672</td><td>-3.71991</td><td>28008</td></tr><tr><td>La Descubierta</td><td>73</td><td>Spanish</td><td>4</td><td>40.41525</td><td>1</td><td>946.019092804493</td><td>-3.70262</td><td>28012</td></tr><tr><td>Casa Amadeo</td><td>15</td><td>Spanish</td><td>4.5</td><td>40.41052</td><td>1</td><td>1606.8643189404181</td><td>-3.70749</td><td>28005</td></tr><tr><td>La Gastro</td><td>69</td><td>Spanish</td><td>4.5</td><td>40.42129</td><td>2</td><td>488.7083814997758</td><td>-3.70289</td><td>28004</td></tr><tr><td>El Tigre</td><td>366</td><td>Spanish</td><td>3.5</td><td>40.420254</td><td>1</td><td>290.9915674469935</td><td>-3.6979134</td><td>28004</td></tr><tr><td>La Española</td><td>8</td><td>Spanish</td><td>4.5</td><td>40.420994</td><td>null</td><td>320.6234167699696</td><td>-3.700475</td><td>28004</td></tr><tr><td>El Asador de Aranda</td><td>29</td><td>Spanish</td><td>4.5</td><td>40.41985</td><td>3</td><td>922.8203902039091</td><td>-3.70764</td><td>28013</td></tr><tr><td>Botín</td><td>615</td><td>Spanish</td><td>4</td><td>40.41406</td><td>3</td><td>1304.2170679660362</td><td>-3.70803</td><td>28005</td></tr><tr><td>El Barril</td><td>21</td><td>Spanish</td><td>5</td><td>40.42199</td><td>3</td><td>630.0871640719441</td><td>-3.69023</td><td>28001</td></tr><tr><td>La Perejila</td><td>32</td><td>Spanish</td><td>4.5</td><td>40.41229</td><td>2</td><td>1530.886543775833</td><td>-3.70924</td><td>28005</td></tr><tr><td>Tribuetxe</td><td>20</td><td>Spanish</td><td>4.5</td><td>40.407425</td><td>1</td><td>1780.9484656935279</td><td>-3.703198</td><td>28012</td></tr><tr><td>Los Arcos</td><td>6</td><td>Spanish</td><td>5</td><td>40.43787</td><td>3</td><td>1675.278430632665</td><td>-3.6992831</td><td>28010</td></tr><tr><td>La Dominga</td><td>26</td><td>Spanish</td><td>4</td><td>40.42526</td><td>2</td><td>567.3408517478088</td><td>-3.70348</td><td>28004</td></tr><tr><td>La Tasqueria</td><td>21</td><td>Spanish</td><td>5</td><td>40.42228</td><td>3</td><td>2019.6198202824544</td><td>-3.67374</td><td>28009</td></tr><tr><td>Angelita</td><td>29</td><td>Spanish</td><td>5</td><td>40.420277</td><td>3</td><td>372.5374556274898</td><td>-3.700387</td><td>28004</td></tr><tr><td>Casa Dani</td><td>35</td><td>Spanish</td><td>4.5</td><td>40.426846</td><td>1</td><td>1094.0981652402868</td><td>-3.6857686</td><td>28001</td></tr><tr><td>La Sanabresa</td><td>52</td><td>Spanish</td><td>4.5</td><td>40.41254</td><td>2</td><td>1148.4834173354568</td><td>-3.69854</td><td>28014</td></tr><tr><td>Casa Lucas</td><td>154</td><td>Spanish</td><td>4.5</td><td>40.412327</td><td>2</td><td>1541.9081259234936</td><td>-3.709429</td><td>28005</td></tr><tr><td>El Cogollo</td><td>20</td><td>Spanish</td><td>4.5</td><td>40.417</td><td>2</td><td>1106.3064051275262</td><td>-3.7081468</td><td>28013</td></tr><tr><td>Lakasa</td><td>48</td><td>Spanish</td><td>5</td><td>40.440876</td><td>2</td><td>2020.5902312080937</td><td>-3.700715</td><td>28003</td></tr><tr><td>Steak Burger</td><td>3</td><td>Burgers</td><td>4.5</td><td>40.41983</td><td>null</td><td>885.8031586140268</td><td>-3.707263</td><td>28013</td></tr><tr><td>Bacoa</td><td>67</td><td>Burgers</td><td>4.5</td><td>40.4167</td><td>2</td><td>764.7506754570883</td><td>-3.701595</td><td>28014</td></tr><tr><td>Viva Burger</td><td>34</td><td>Burgers</td><td>4.5</td><td>40.41247</td><td>2</td><td>1683.8474441060912</td><td>-3.71181</td><td>28005</td></tr><tr><td>Steak Burger</td><td>21</td><td>Burgers</td><td>4</td><td>40.419746</td><td>null</td><td>379.9067300855736</td><td>-3.699429</td><td>28013</td></tr><tr><td>Burnout</td><td>28</td><td>Burgers</td><td>4.5</td><td>40.43248</td><td>2</td><td>1185.7862478138004</td><td>-3.70367</td><td>28010</td></tr><tr><td>Federal</td><td>180</td><td>Burgers</td><td>4</td><td>40.42705</td><td>2</td><td>1090.3118768624156</td><td>-3.70923</td><td>28015</td></tr><tr><td>Steak Burger</td><td>25</td><td>Burgers</td><td>4</td><td>40.40964</td><td>2</td><td>1506.045945872656</td><td>-3.693706</td><td>28012</td></tr><tr><td>Moline's Grill</td><td>1</td><td>Burgers</td><td>5</td><td>40.408627</td><td>null</td><td>1636.697580764222</td><td>-3.6926575</td><td>28012</td></tr><tr><td>Zombie</td><td>54</td><td>Burgers</td><td>4</td><td>40.42321</td><td>2</td><td>609.4105630939849</td><td>-3.7047706</td><td>28004</td></tr><tr><td>Mad Mad Vegan</td><td>14</td><td>Burgers</td><td>5</td><td>40.422703</td><td>null</td><td>88.35952856228302</td><td>-3.698609</td><td>28004</td></tr><tr><td>Munchies Hot Dog</td><td>25</td><td>Burgers</td><td>4</td><td>40.4137</td><td>1</td><td>1022.4985490488237</td><td>-3.69913</td><td>28014</td></tr><tr><td>Five Guys</td><td>17</td><td>Burgers</td><td>4</td><td>40.420452</td><td>2</td><td>724.1376317449414</td><td>-3.7055347</td><td>28013</td></tr><tr><td>The Mad Café</td><td>51</td><td>Burgers</td><td>4.5</td><td>40.41225</td><td>2</td><td>1523.7896540257736</td><td>-3.70888</td><td>28005</td></tr><tr><td>Steak 'n Shake</td><td>33</td><td>Burgers</td><td>3.5</td><td>40.41656</td><td>2</td><td>741.9874349730312</td><td>-3.7002788</td><td>28014</td></tr><tr><td>New York Burger</td><td>24</td><td>Burgers</td><td>4.5</td><td>40.450138</td><td>1</td><td>3075.7635209239843</td><td>-3.6915689</td><td>28046</td></tr><tr><td>Goiko Grill</td><td>45</td><td>Burgers</td><td>4</td><td>40.42896</td><td>2</td><td>1984.3728826077909</td><td>-3.675554</td><td>28006</td></tr><tr><td>McDonald's</td><td>25</td><td>Burgers</td><td>4</td><td>40.41986</td><td>1</td><td>492.6528185606649</td><td>-3.7018702</td><td>28013</td></tr><tr><td>Naked & Sated</td><td>6</td><td>Burgers</td><td>5</td><td>40.46335</td><td>null</td><td>4539.55684957293</td><td>-3.69064</td><td>28020</td></tr><tr><td>Juancho’s BBQ</td><td>4</td><td>Burgers</td><td>4.5</td><td>40.436317</td><td>null</td><td>1496.4159937738232</td><td>-3.697322</td><td>28010</td></tr><tr><td>Goiko Grill</td><td>70</td><td>Burgers</td><td>4.5</td><td>40.437668</td><td>1</td><td>1886.4628184569287</td><td>-3.686709</td><td>28006</td></tr><tr><td>Rolling Dance & Burger</td><td>4</td><td>Burgers</td><td>4.5</td><td>40.47205</td><td>2</td><td>5625.145609505655</td><td>-3.6820524</td><td>28036</td></tr><tr><td>Goiko Grill</td><td>18</td><td>Burgers</td><td>4</td><td>40.41494</td><td>2</td><td>857.9076724337576</td><td>-3.69859</td><td>28014</td></tr><tr><td>La Trastienda Tapas</td><td>5</td><td>Burgers</td><td>4</td><td>40.422</td><td>2</td><td>95.65511145937545</td><td>-3.6975672</td><td>28004</td></tr><tr><td>Burnout</td><td>11</td><td>Burgers</td><td>4.5</td><td>40.4208</td><td>2</td><td>440.75710302522737</td><td>-3.70209</td><td>28004</td></tr><tr><td>Hard Rock Cafe</td><td>109</td><td>Burgers</td><td>4</td><td>40.426224</td><td>2</td><td>772.9589767071259</td><td>-3.6895945</td><td>28046</td></tr><tr><td>Goiko Grill</td><td>9</td><td>Burgers</td><td>4.5</td><td>40.458473</td><td>2</td><td>4199.438176581559</td><td>-3.6810682</td><td>28016</td></tr><tr><td>Bentley's</td><td>12</td><td>Burgers</td><td>4</td><td>40.419575</td><td>2</td><td>835.9441616287093</td><td>-3.7064683</td><td>28013</td></tr><tr><td>s10bar</td><td>10</td><td>Burgers</td><td>3.5</td><td>40.43625</td><td>1</td><td>1977.934394894583</td><td>-3.71293</td><td>28015</td></tr><tr><td>Cokuy</td><td>2</td><td>Burgers</td><td>4.5</td><td>40.4158</td><td>null</td><td>901.220624078146</td><td>-3.702809</td><td>28012</td></tr><tr><td>Goiko Grill</td><td>41</td><td>Burgers</td><td>4</td><td>40.42938</td><td>2</td><td>840.091922029471</td><td>-3.70217</td><td>28004</td></tr><tr><td>La Mucca</td><td>7</td><td>Burgers</td><td>4</td><td>40.427193</td><td>null</td><td>593.774347218791</td><td>-3.701686</td><td>28004</td></tr><tr><td>Diurno</td><td>73</td><td>Burgers</td><td>4</td><td>40.42123</td><td>2</td><td>181.88790341618449</td><td>-3.69717</td><td>28004</td></tr><tr><td>Tommy Mel´s</td><td>7</td><td>Burgers</td><td>4</td><td>40.423748</td><td>2</td><td>1904.7813667856042</td><td>-3.6751144</td><td>28009</td></tr><tr><td>Zenith</td><td>33</td><td>Burgers</td><td>4.5</td><td>40.42235</td><td>null</td><td>330.30348687855644</td><td>-3.7016</td><td>28004</td></tr><tr><td>Anauco</td><td>7</td><td>Burgers</td><td>4</td><td>40.42009</td><td>2</td><td>327.0667231780543</td><td>-3.69915</td><td>28004</td></tr><tr><td>Alta Burgersía</td><td>21</td><td>Burgers</td><td>4</td><td>40.41333</td><td>1</td><td>1076.5736060546099</td><td>-3.6998408</td><td>28012</td></tr><tr><td>Carmencita</td><td>153</td><td>Burgers</td><td>4.5</td><td>40.426086</td><td>2</td><td>907.9863770759232</td><td>-3.707439</td><td>28015</td></tr><tr><td>Burger King</td><td>2</td><td>Burgers</td><td>4</td><td>40.42703</td><td>null</td><td>492.182563029827</td><td>-3.69592</td><td>28004</td></tr><tr><td>Carl's Jr.</td><td>2</td><td>Burgers</td><td>4</td><td>40.420948</td><td>null</td><td>856.0545150202773</td><td>-3.707382</td><td>28013</td></tr><tr><td>Skyline Diner</td><td>20</td><td>Burgers</td><td>4.5</td><td>40.41268</td><td>2</td><td>1143.2003384440857</td><td>-3.6956754</td><td>28014</td></tr><tr><td>Foster's Hollywood</td><td>2</td><td>Burgers</td><td>3.5</td><td>40.405262</td><td>null</td><td>1981.148064157556</td><td>-3.701242</td><td>28012</td></tr><tr><td>Food Truck</td><td>33</td><td>Burgers</td><td>4.5</td><td>40.42375</td><td>2</td><td>156.68651580601073</td><td>-3.69618</td><td>28004</td></tr><tr><td>Hamburguesa Nostra</td><td>7</td><td>Burgers</td><td>4</td><td>40.47458</td><td>2</td><td>5812.567773122338</td><td>-3.687613</td><td>28046</td></tr><tr><td>Juanchi's Burger</td><td>1</td><td>Burgers</td><td>5</td><td>40.43085</td><td>null</td><td>2124.138913417375</td><td>-3.67501</td><td>28002</td></tr><tr><td>La Puerta Amarilla</td><td>3</td><td>Burgers</td><td>4.5</td><td>40.411552</td><td>null</td><td>1269.8879374525043</td><td>-3.6954682</td><td>28014</td></tr><tr><td>Masa Madre</td><td>12</td><td>Burgers</td><td>4.5</td><td>40.42142</td><td>null</td><td>164.1884140173169</td><td>-3.69838</td><td>28004</td></tr><tr><td>La Gringa</td><td>60</td><td>Burgers</td><td>4.5</td><td>40.426147</td><td>1</td><td>947.1811780352955</td><td>-3.707908</td><td>28015</td></tr><tr><td>Burger Shack</td><td>1</td><td>Burgers</td><td>4</td><td>40.421997</td><td>null</td><td>136.91058365528525</td><td>-3.6964347</td><td>28004</td></tr><tr><td>New York Burger</td><td>50</td><td>Burgers</td><td>4</td><td>40.4221</td><td>2</td><td>572.505669037329</td><td>-3.69082</td><td>28001</td></tr><tr><td>VIPS</td><td>2</td><td>Burgers</td><td>4</td><td>40.47621</td><td>2</td><td>6016.154755508205</td><td>-3.685775</td><td>28046</td></tr><tr><td>Grazie Mille</td><td>74</td><td>Italian</td><td>4</td><td>40.41611</td><td>2</td><td>1124.0231004567572</td><td>-3.70744</td><td>28013</td></tr><tr><td>Pizzaiolo</td><td>111</td><td>Italian</td><td>4.5</td><td>40.42375</td><td>2</td><td>127.1759631338847</td><td>-3.69851</td><td>28004</td></tr><tr><td>Trattoria Pulcinella</td><td>31</td><td>Italian</td><td>4.5</td><td>40.42458</td><td>3</td><td>213.80119474053967</td><td>-3.69657</td><td>28004</td></tr><tr><td>Araldo</td><td>9</td><td>Italian</td><td>5</td><td>40.417576</td><td>null</td><td>589.2465691606419</td><td>-3.6981282</td><td>28014</td></tr><tr><td>Flavia</td><td>44</td><td>Italian</td><td>4.5</td><td>40.42239</td><td>2</td><td>680.121843136792</td><td>-3.68959</td><td>28001</td></tr><tr><td>Malatesta</td><td>51</td><td>Italian</td><td>4</td><td>40.4165</td><td>2</td><td>1066.865619950464</td><td>-3.7070215</td><td>28013</td></tr><tr><td>Il Regno di Napoli</td><td>15</td><td>Italian</td><td>4.5</td><td>40.42782</td><td>2</td><td>750.5585941275872</td><td>-3.70358</td><td>28004</td></tr><tr><td>Come Prima</td><td>18</td><td>Italian</td><td>4.5</td><td>40.41401</td><td>2</td><td>977.7756847131163</td><td>-3.69946</td><td>28014</td></tr><tr><td>Vesuvio</td><td>46</td><td>Italian</td><td>4.5</td><td>40.420986</td><td>1</td><td>336.6517267620623</td><td>-3.7007115</td><td>28004</td></tr><tr><td>La Tavernetta</td><td>6</td><td>Italian</td><td>4.5</td><td>40.4261</td><td>3</td><td>467.4383786947757</td><td>-3.69413</td><td>28004</td></tr><tr><td>Oven</td><td>51</td><td>Italian</td><td>4.5</td><td>40.42517</td><td>2</td><td>366.44865696195694</td><td>-3.70075</td><td>28004</td></tr><tr><td>Little Eataly</td><td>2</td><td>Italian</td><td>4.5</td><td>40.39402</td><td>null</td><td>3208.092385629896</td><td>-3.69799</td><td>28045</td></tr><tr><td>Da Nicola</td><td>38</td><td>Italian</td><td>4.5</td><td>40.42312</td><td>2</td><td>939.3995899152179</td><td>-3.70851</td><td>28015</td></tr><tr><td>Oven</td><td>30</td><td>Italian</td><td>4</td><td>40.41935</td><td>2</td><td>391.24137975900635</td><td>-3.6978981</td><td>28013</td></tr><tr><td>La Pizzateca</td><td>49</td><td>Italian</td><td>4.5</td><td>40.41275</td><td>1</td><td>1135.4881319340707</td><td>-3.69928</td><td>28014</td></tr><tr><td>La Tagliatella</td><td>6</td><td>Italian</td><td>4</td><td>40.41976</td><td>null</td><td>852.8009879410962</td><td>-3.70679</td><td>28013</td></tr><tr><td>Casa Bianco</td><td>4</td><td>Italian</td><td>5</td><td>40.41486</td><td>3</td><td>1259.3239562337224</td><td>-3.7081156</td><td>28012</td></tr><tr><td>Fratelli d'Italia</td><td>20</td><td>Italian</td><td>4.5</td><td>40.40887</td><td>1</td><td>1590.6244316723469</td><td>-3.701509</td><td>28012</td></tr><tr><td>Ôven</td><td>28</td><td>Italian</td><td>4.5</td><td>40.409473</td><td>null</td><td>1530.105277642872</td><td>-3.693401</td><td>28012</td></tr><tr><td>Ristorante Il Pastaio</td><td>22</td><td>Italian</td><td>4.5</td><td>40.44204</td><td>2</td><td>2133.383536508534</td><td>-3.696866</td><td>28003</td></tr><tr><td>La Tagliatella</td><td>7</td><td>Italian</td><td>4.5</td><td>40.42413</td><td>2</td><td>2077.6147433546594</td><td>-3.673099</td><td>28009</td></tr><tr><td>Ornella</td><td>12</td><td>Italian</td><td>3.5</td><td>40.423283</td><td>3</td><td>1132.2225436036554</td><td>-3.6842222</td><td>28001</td></tr><tr><td>Oliveto</td><td>16</td><td>Italian</td><td>4</td><td>40.40979</td><td>2</td><td>1456.4016545306733</td><td>-3.6964464</td><td>28012</td></tr><tr><td>La Saletta</td><td>4</td><td>Italian</td><td>4.5</td><td>40.41142</td><td>2</td><td>1251.9185393748037</td><td>-3.69879</td><td>28012</td></tr><tr><td>Gioia</td><td>2</td><td>Italian</td><td>4.5</td><td>40.42216</td><td>3</td><td>106.04678146607492</td><td>-3.69839</td><td>28004</td></tr><tr><td>Bresca</td><td>15</td><td>Italian</td><td>4.5</td><td>40.41072</td><td>null</td><td>1359.9061502885393</td><td>-3.69954</td><td>28012</td></tr><tr><td>La Pasta degl'Angeli</td><td>4</td><td>Italian</td><td>4</td><td>40.421898</td><td>null</td><td>162.82189260970674</td><td>-3.699037</td><td>28004</td></tr><tr><td>Angelita</td><td>29</td><td>Italian</td><td>5</td><td>40.420277</td><td>3</td><td>372.5374556274898</td><td>-3.700387</td><td>28004</td></tr><tr><td>La Tagliatella</td><td>12</td><td>Italian</td><td>4</td><td>40.420044</td><td>2</td><td>352.8375009931065</td><td>-3.695663</td><td>28004</td></tr><tr><td>Ginos</td><td>4</td><td>Italian</td><td>4</td><td>40.417633</td><td>2</td><td>609.1326001777951</td><td>-3.699736</td><td>28014</td></tr><tr><td>Pizza Emporio</td><td>4</td><td>Italian</td><td>5</td><td>40.428947</td><td>1</td><td>1095.2377715771497</td><td>-3.6874144</td><td>28001</td></tr><tr><td>Il Siciliano</td><td>1</td><td>Italian</td><td>5</td><td>40.41713</td><td>1</td><td>989.864446124471</td><td>-3.70648</td><td>28013</td></tr><tr><td>Da Gavino</td><td>6</td><td>Italian</td><td>4</td><td>40.42625</td><td>3</td><td>393.98918911987215</td><td>-3.69632</td><td>28004</td></tr><tr><td>Piccolo Diávolo</td><td>13</td><td>Italian</td><td>4</td><td>40.41143</td><td>2</td><td>1286.5170897886294</td><td>-3.69556</td><td>28014</td></tr><tr><td>Davanti</td><td>2</td><td>Italian</td><td>5</td><td>40.42212</td><td>null</td><td>104.12057105481111</td><td>-3.696836</td><td>28004</td></tr><tr><td>Massart</td><td>24</td><td>Italian</td><td>4</td><td>40.435303</td><td>1</td><td>2228.9328208031056</td><td>-3.718232</td><td>28015</td></tr><tr><td>Pizzart</td><td>1</td><td>Italian</td><td>5</td><td>40.41703</td><td>null</td><td>665.8878783433142</td><td>-3.6998</td><td>28014</td></tr><tr><td>Il Siciliano</td><td>1</td><td>Italian</td><td>5</td><td>40.42522</td><td>null</td><td>552.4803087860035</td><td>-3.70331</td><td>28004</td></tr><tr><td>La Pentola Magica</td><td>3</td><td>Italian</td><td>4.5</td><td>40.404945</td><td>1</td><td>2358.825957613841</td><td>-3.682662</td><td>28007</td></tr><tr><td>Il Piccolino Della Farfalla</td><td>33</td><td>Italian</td><td>4</td><td>40.41397</td><td>1</td><td>1034.1791561981606</td><td>-3.70099</td><td>28012</td></tr><tr><td>Nina Pasta Bar</td><td>4</td><td>Italian</td><td>5</td><td>40.40949</td><td>null</td><td>1766.9758803141417</td><td>-3.708867</td><td>28005</td></tr><tr><td>Ginos</td><td>2</td><td>Italian</td><td>4</td><td>40.42205</td><td>null</td><td>1920.3818721216405</td><td>-3.720247</td><td>28008</td></tr><tr><td>Trattoria Limbara</td><td>2</td><td>Italian</td><td>3</td><td>40.43176</td><td>1</td><td>1063.7876971394164</td><td>-3.7024</td><td>28010</td></tr><tr><td>La Tagliatella</td><td>7</td><td>Italian</td><td>4</td><td>40.43917</td><td>2</td><td>2734.910679896878</td><td>-3.6734002</td><td>28002</td></tr><tr><td>Luna Rossa</td><td>8</td><td>Italian</td><td>4</td><td>40.4232</td><td>1</td><td>828.9114906004456</td><td>-3.70736</td><td>28015</td></tr><tr><td>Al Dente</td><td>2</td><td>Italian</td><td>4.5</td><td>40.43109</td><td>null</td><td>1622.4418459478902</td><td>-3.7134109</td><td>28015</td></tr><tr><td>Ginos Velázquez</td><td>1</td><td>Italian</td><td>5</td><td>40.439777</td><td>1</td><td>2280.6067527945406</td><td>-3.682355</td><td>28006</td></tr><tr><td>Grosso Napoletano</td><td>11</td><td>Italian</td><td>4</td><td>40.42606</td><td>2</td><td>1788.954414253439</td><td>-3.6769</td><td>28001</td></tr><tr><td>Don Giovanni</td><td>17</td><td>Italian</td><td>4.5</td><td>40.4073</td><td>3</td><td>2256.845362718719</td><td>-3.68047</td><td>28014</td></tr><tr><td>La Piemontesa</td><td>3</td><td>Italian</td><td>4</td><td>40.461693</td><td>2</td><td>4341.666733739132</td><td>-3.692228</td><td>28020</td></tr><tr><td>Takos al Pastor</td><td>418</td><td>Mexican</td><td>4.5</td><td>40.418964</td><td>1</td><td>671.6237992836653</td><td>-3.7036471</td><td>28013</td></tr><tr><td>La Mordida</td><td>47</td><td>Mexican</td><td>4.5</td><td>40.42441</td><td>2</td><td>220.59324282461054</td><td>-3.695961</td><td>28004</td></tr><tr><td>Rosa Negra</td><td>70</td><td>Mexican</td><td>4</td><td>40.41385</td><td>2</td><td>1008.3544873488044</td><td>-3.69896</td><td>28014</td></tr><tr><td>Central Mexicana</td><td>3</td><td>Mexican</td><td>4.5</td><td>40.41912</td><td>2</td><td>751.6082646898791</td><td>-3.705</td><td>28013</td></tr><tr><td>Tierra</td><td>13</td><td>Mexican</td><td>4.5</td><td>40.41557</td><td>1</td><td>897.5709127153445</td><td>-3.70224</td><td>28012</td></tr><tr><td>El Chaparrito</td><td>17</td><td>Mexican</td><td>4.5</td><td>40.415634</td><td>2</td><td>1331.1089491528676</td><td>-3.7101238</td><td>28013</td></tr><tr><td>Taquería Mi Ciudad</td><td>47</td><td>Mexican</td><td>4</td><td>40.41743</td><td>1</td><td>1119.4904749653303</td><td>-3.708722</td><td>28013</td></tr><tr><td>Takos al Pastor</td><td>26</td><td>Mexican</td><td>4.5</td><td>40.414806</td><td>null</td><td>1183.1483702893581</td><td>-3.706722</td><td>28013</td></tr><tr><td>Tacos y Tapas</td><td>6</td><td>Mexican</td><td>4.5</td><td>40.4125</td><td>2</td><td>1705.1806778885027</td><td>-3.71245</td><td>28005</td></tr><tr><td>La Mordida</td><td>10</td><td>Mexican</td><td>4.5</td><td>40.4137</td><td>2</td><td>2254.650225232564</td><td>-3.6738248</td><td>28009</td></tr><tr><td>La Mayor</td><td>57</td><td>Mexican</td><td>4.5</td><td>40.41508</td><td>2</td><td>1503.04561234145</td><td>-3.71213</td><td>28013</td></tr><tr><td>La Malinche</td><td>6</td><td>Mexican</td><td>4.5</td><td>40.42083</td><td>2</td><td>1091.4171166278284</td><td>-3.71017</td><td>28013</td></tr><tr><td>Tierra</td><td>55</td><td>Mexican</td><td>4</td><td>40.43604</td><td>1</td><td>1959.4554995160177</td><td>-3.71294</td><td>28015</td></tr><tr><td>Taquería Mi Ciudad</td><td>47</td><td>Mexican</td><td>4</td><td>40.416996</td><td>1</td><td>1122.2033744000246</td><td>-3.708374</td><td>28013</td></tr><tr><td>Tiki Taco</td><td>26</td><td>Mexican</td><td>4</td><td>40.42225</td><td>null</td><td>852.8733774919483</td><td>-3.70759</td><td>28015</td></tr><tr><td>Mestizo</td><td>24</td><td>Mexican</td><td>4</td><td>40.42178</td><td>2</td><td>675.2692765430174</td><td>-3.68975</td><td>28001</td></tr><tr><td>La Venganza de Malinche</td><td>14</td><td>Mexican</td><td>4</td><td>40.41896</td><td>2</td><td>532.3277020220784</td><td>-3.70138</td><td>28015</td></tr><tr><td>Juana la Loca</td><td>216</td><td>Mexican</td><td>4.5</td><td>40.411358</td><td>3</td><td>1715.626437811679</td><td>-3.711094</td><td>28005</td></tr><tr><td>Mexcalista</td><td>6</td><td>Mexican</td><td>5</td><td>40.41443</td><td>null</td><td>937.7743525091706</td><td>-3.69859</td><td>28014</td></tr><tr><td>El Rincón de los Cuates</td><td>4</td><td>Mexican</td><td>4</td><td>40.421223</td><td>null</td><td>217.20413675626872</td><td>-3.698988</td><td>28004</td></tr><tr><td>La Rebonita</td><td>15</td><td>Mexican</td><td>4</td><td>40.411602</td><td>1</td><td>1276.9913280536578</td><td>-3.70056</td><td>28012</td></tr><tr><td>Sol Azteca</td><td>2</td><td>Mexican</td><td>4.5</td><td>40.431797</td><td>null</td><td>1928.7201354742579</td><td>-3.678058</td><td>28006</td></tr><tr><td>Tacos Margaritas Y Punto</td><td>4</td><td>Mexican</td><td>5</td><td>40.415607</td><td>null</td><td>1272.604481430856</td><td>-3.7092133</td><td>28005</td></tr><tr><td>Tierra</td><td>20</td><td>Mexican</td><td>4.5</td><td>40.45645</td><td>1</td><td>3755.997494351485</td><td>-3.69292</td><td>28020</td></tr><tr><td>Antigua Taquería</td><td>8</td><td>Mexican</td><td>4</td><td>40.40945</td><td>1</td><td>1588.5227025666645</td><td>-3.70428</td><td>28012</td></tr><tr><td>DF Bar</td><td>48</td><td>Mexican</td><td>4.5</td><td>40.41286</td><td>1</td><td>1127.1226339084799</td><td>-3.69924</td><td>28014</td></tr><tr><td>Tacos Chapultepec</td><td>35</td><td>Mexican</td><td>4</td><td>40.43015</td><td>1</td><td>887.7436852310107</td><td>-3.70177</td><td>28010</td></tr><tr><td>Punto MX</td><td>26</td><td>Mexican</td><td>4</td><td>40.42768</td><td>4</td><td>1716.9847815364612</td><td>-3.67832</td><td>28001</td></tr><tr><td>Sahuaro</td><td>16</td><td>Mexican</td><td>4.5</td><td>40.411137</td><td>2</td><td>1535.2244254392795</td><td>-3.707162</td><td>28005</td></tr><tr><td>El Rey de Los Tacos</td><td>12</td><td>Mexican</td><td>4</td><td>40.41938</td><td>null</td><td>1088.479658534812</td><td>-3.70962</td><td>28013</td></tr><tr><td>Las Mañanitas</td><td>19</td><td>Mexican</td><td>3.5</td><td>40.42664</td><td>2</td><td>525.9924416037366</td><td>-3.70132</td><td>28004</td></tr><tr><td>Chilango</td><td>13</td><td>Mexican</td><td>4</td><td>40.42874</td><td>2</td><td>831.0576402864496</td><td>-3.70395</td><td>28004</td></tr><tr><td>La Tomata</td><td>11</td><td>Mexican</td><td>4</td><td>40.43118</td><td>3</td><td>1000.3424975807408</td><td>-3.70217</td><td>28010</td></tr><tr><td>La Mordida</td><td>4</td><td>Mexican</td><td>4.5</td><td>40.4562</td><td>2</td><td>3707.4136787763873</td><td>-3.69693</td><td>28020</td></tr><tr><td>Ricos Tacos</td><td>2</td><td>Mexican</td><td>5</td><td>40.42407</td><td>null</td><td>2081.0114566913</td><td>-3.67292</td><td>28009</td></tr><tr><td>Cherry Pecas</td><td>8</td><td>Mexican</td><td>4</td><td>40.441032</td><td>null</td><td>2517.372752804476</td><td>-3.715326</td><td>28003</td></tr><tr><td>La Taqueria del Alamillo</td><td>36</td><td>Mexican</td><td>4</td><td>40.414036</td><td>2</td><td>1465.397331422587</td><td>-3.7104418</td><td>28005</td></tr><tr><td>La Taquería de Birrä</td><td>8</td><td>Mexican</td><td>3.5</td><td>40.41166</td><td>1</td><td>1833.1250099562526</td><td>-3.71348</td><td>28005</td></tr><tr><td>La Venganza de Malinche</td><td>6</td><td>Mexican</td><td>3.5</td><td>40.417484</td><td>2</td><td>993.0872758447316</td><td>-3.7069554</td><td>28013</td></tr><tr><td>Taco & Burro Maya</td><td>3</td><td>Mexican</td><td>5</td><td>40.401745</td><td>null</td><td>2350.7463388220676</td><td>-3.6989076</td><td>28045</td></tr><tr><td>La Diavla</td><td>1</td><td>Mexican</td><td>5</td><td>40.42136</td><td>null</td><td>1599.98845480739</td><td>-3.67883</td><td>28009</td></tr><tr><td>La Lupita</td><td>11</td><td>Mexican</td><td>3.5</td><td>40.422543</td><td>2</td><td>1027.340667977444</td><td>-3.685457</td><td>28001</td></tr><tr><td>Corazón Agavero Mezcaloteca</td><td>17</td><td>Mexican</td><td>4.5</td><td>40.40944</td><td>1</td><td>1842.9248676229263</td><td>-3.710356</td><td>28005</td></tr><tr><td>Jleo's</td><td>7</td><td>Mexican</td><td>4.5</td><td>40.431656</td><td>1</td><td>1463.662624243902</td><td>-3.710451</td><td>28015</td></tr><tr><td>El Kártel de Malasaña</td><td>5</td><td>Mexican</td><td>4</td><td>40.42563</td><td>1</td><td>507.96465621394026</td><td>-3.70217</td><td>28004</td></tr><tr><td>Mexico 1800</td><td>1</td><td>Mexican</td><td>4</td><td>40.42205</td><td>null</td><td>735.7002709776398</td><td>-3.706212</td><td>28004</td></tr><tr><td>100% México, Hecho a Mano</td><td>7</td><td>Mexican</td><td>4.5</td><td>40.4243</td><td>2</td><td>1389.3875584816656</td><td>-3.68146</td><td>28001</td></tr><tr><td>La Chelinda</td><td>7</td><td>Mexican</td><td>4</td><td>40.456566</td><td>2</td><td>3773.027158686561</td><td>-3.6924388</td><td>28020</td></tr><tr><td>No Q No</td><td>3</td><td>Mexican</td><td>4.5</td><td>40.46251</td><td>2</td><td>9956.13300669362</td><td>-3.5921</td><td>28042</td></tr><tr><td>Tacazzo</td><td>8</td><td>Mexican</td><td>4</td><td>40.417114</td><td>2</td><td>1928.8848667754253</td><td>-3.676086</td><td>28009</td></tr></tbody></table></div>"
      ]
     },
     "metadata": {
      "application/vnd.databricks.v1+output": {
       "addedWidgets": {},
       "aggData": [],
       "aggError": "",
       "aggOverflow": false,
       "aggSchema": [],
       "aggSeriesLimitReached": false,
       "aggType": "",
       "arguments": {},
       "columnCustomDisplayInfos": {},
       "data": [
        [
         "El Sur",
         "769",
         "Spanish",
         "4.5",
         "40.41105",
         "2",
         "1323.9351440693945",
         "-3.6995454",
         "28012"
        ],
        [
         "Alhambra",
         "448",
         "Spanish",
         "4",
         "40.41587",
         "2",
         "847.3790987480967",
         "-3.7016",
         "28012"
        ],
        [
         "La Bodega de Los Secretos",
         "31",
         "Spanish",
         "4.5",
         "40.410683",
         "3",
         "1375.936331500051",
         "-3.694688",
         "28014"
        ],
        [
         "Casa Julio",
         "42",
         "Spanish",
         "4.5",
         "40.42427",
         "2",
         "546.9655482728417",
         "-3.70368",
         "28004"
        ],
        [
         "Celso y Manolo",
         "182",
         "Spanish",
         "4.5",
         "40.420185",
         "2",
         "297.6040361411656",
         "-3.6974769",
         "28004"
        ],
        [
         "Taberna El Sur de Huertas",
         "41",
         "Spanish",
         "5",
         "40.41366",
         "null",
         "1036.183034652163",
         "-3.69943",
         "28014"
        ],
        [
         "Malacatín",
         "24",
         "Spanish",
         "4.5",
         "40.41031",
         "null",
         "1638.679922735727",
         "-3.70765",
         "28005"
        ],
        [
         "Más Al Sur",
         "126",
         "Spanish",
         "4.5",
         "40.41002",
         "2",
         "1409.3953170255295",
         "-3.69693",
         "28012"
        ],
        [
         "La Casa del Abuelo",
         "161",
         "Spanish",
         "4",
         "40.415768",
         "2",
         "859.0034856078098",
         "-3.701606",
         "28012"
        ],
        [
         "Oink",
         "16",
         "Spanish",
         "4.5",
         "40.42004",
         "1",
         "398.07076724778057",
         "-3.700481",
         "28013"
        ],
        [
         "Street Xo",
         "94",
         "Spanish",
         "4.5",
         "40.427647",
         "3",
         "1035.445088896326",
         "-3.687092",
         "28001"
        ],
        [
         "Vinoteca Moratín",
         "33",
         "Spanish",
         "5",
         "40.41252",
         "3",
         "1168.8084348720095",
         "-3.69541",
         "28014"
        ],
        [
         "El Rincón de Ati",
         "8",
         "Spanish",
         "4.5",
         "40.415123",
         "2",
         "1257.8650825827144",
         "-3.708427",
         "28005"
        ],
        [
         "La Mi Venta",
         "102",
         "Spanish",
         "4.5",
         "40.420456",
         "3",
         "1282.4301695469583",
         "-3.7124026",
         "28013"
        ],
        [
         "Bodega de la Ardosa",
         "125",
         "Spanish",
         "4",
         "40.42375",
         "2",
         "371.17219437757063",
         "-3.70182",
         "28004"
        ],
        [
         "Algarabía",
         "16",
         "Spanish",
         "5",
         "40.41732",
         "2",
         "1245.5718114622448",
         "-3.7103744",
         "28013"
        ],
        [
         "Lateral",
         "79",
         "Spanish",
         "4",
         "40.42306",
         "2",
         "299.75414566377356",
         "-3.70113",
         "28004"
        ],
        [
         "Entrevinos",
         "11",
         "Spanish",
         "4.5",
         "40.42615",
         "2",
         "1679.1324348217292",
         "-3.71713",
         "28008"
        ],
        [
         "Los Montes de Galicia",
         "54",
         "Spanish",
         "4.5",
         "40.4346",
         "3",
         "2810.2129913861268",
         "-3.66854",
         "28028"
        ],
        [
         "Sacha",
         "12",
         "Spanish",
         "4.5",
         "40.460682",
         "4",
         "4292.8105582067265",
         "-3.6874075",
         "28036"
        ],
        [
         "Malaspina",
         "210",
         "Spanish",
         "4",
         "40.41582",
         "1",
         "880.0271748434934",
         "-3.70253",
         "28012"
        ],
        [
         "Tierra del Queiles",
         "20",
         "Spanish",
         "4.5",
         "40.42661",
         "2",
         "888.0611582031488",
         "-3.68828",
         "28001"
        ],
        [
         "Casa Toni",
         "86",
         "Spanish",
         "4.5",
         "40.415554",
         "1",
         "889.604983373482",
         "-3.7018628",
         "28012"
        ],
        [
         "La Austriaca",
         "23",
         "Spanish",
         "4.5",
         "40.42139",
         "2",
         "371.7496282903476",
         "-3.70149",
         "28004"
        ],
        [
         "Ciudad de Tui",
         "26",
         "Spanish",
         "4",
         "40.41823",
         "null",
         "659.7646610690329",
         "-3.70241",
         "28013"
        ],
        [
         "O Pazo de Lugo",
         "55",
         "Spanish",
         "4",
         "40.407417",
         "2",
         "1720.5167688397755",
         "-3.6962805",
         "28012"
        ],
        [
         "El Comunista",
         "9",
         "Spanish",
         "4.5",
         "40.42219",
         "2",
         "70.33818378885029",
         "-3.69756",
         "28004"
        ],
        [
         "La Garriga",
         "2",
         "Spanish",
         "5",
         "40.426544",
         "null",
         "560.7903673495854",
         "-3.69306",
         "28004"
        ],
        [
         "Selva",
         "9",
         "Spanish",
         "4.5",
         "40.423363",
         "2",
         "936.2070628085398",
         "-3.708626",
         "28015"
        ],
        [
         "Rosi La Loca",
         "180",
         "Spanish",
         "4.5",
         "40.415813",
         "3",
         "906.7764467348135",
         "-3.7029788",
         "28012"
        ],
        [
         "El Lagar",
         "14",
         "Spanish",
         "4.5",
         "40.42866",
         "1",
         "2003.3739086320672",
         "-3.71991",
         "28008"
        ],
        [
         "La Descubierta",
         "73",
         "Spanish",
         "4",
         "40.41525",
         "1",
         "946.019092804493",
         "-3.70262",
         "28012"
        ],
        [
         "Casa Amadeo",
         "15",
         "Spanish",
         "4.5",
         "40.41052",
         "1",
         "1606.8643189404181",
         "-3.70749",
         "28005"
        ],
        [
         "La Gastro",
         "69",
         "Spanish",
         "4.5",
         "40.42129",
         "2",
         "488.7083814997758",
         "-3.70289",
         "28004"
        ],
        [
         "El Tigre",
         "366",
         "Spanish",
         "3.5",
         "40.420254",
         "1",
         "290.9915674469935",
         "-3.6979134",
         "28004"
        ],
        [
         "La Española",
         "8",
         "Spanish",
         "4.5",
         "40.420994",
         "null",
         "320.6234167699696",
         "-3.700475",
         "28004"
        ],
        [
         "El Asador de Aranda",
         "29",
         "Spanish",
         "4.5",
         "40.41985",
         "3",
         "922.8203902039091",
         "-3.70764",
         "28013"
        ],
        [
         "Botín",
         "615",
         "Spanish",
         "4",
         "40.41406",
         "3",
         "1304.2170679660362",
         "-3.70803",
         "28005"
        ],
        [
         "El Barril",
         "21",
         "Spanish",
         "5",
         "40.42199",
         "3",
         "630.0871640719441",
         "-3.69023",
         "28001"
        ],
        [
         "La Perejila",
         "32",
         "Spanish",
         "4.5",
         "40.41229",
         "2",
         "1530.886543775833",
         "-3.70924",
         "28005"
        ],
        [
         "Tribuetxe",
         "20",
         "Spanish",
         "4.5",
         "40.407425",
         "1",
         "1780.9484656935279",
         "-3.703198",
         "28012"
        ],
        [
         "Los Arcos",
         "6",
         "Spanish",
         "5",
         "40.43787",
         "3",
         "1675.278430632665",
         "-3.6992831",
         "28010"
        ],
        [
         "La Dominga",
         "26",
         "Spanish",
         "4",
         "40.42526",
         "2",
         "567.3408517478088",
         "-3.70348",
         "28004"
        ],
        [
         "La Tasqueria",
         "21",
         "Spanish",
         "5",
         "40.42228",
         "3",
         "2019.6198202824544",
         "-3.67374",
         "28009"
        ],
        [
         "Angelita",
         "29",
         "Spanish",
         "5",
         "40.420277",
         "3",
         "372.5374556274898",
         "-3.700387",
         "28004"
        ],
        [
         "Casa Dani",
         "35",
         "Spanish",
         "4.5",
         "40.426846",
         "1",
         "1094.0981652402868",
         "-3.6857686",
         "28001"
        ],
        [
         "La Sanabresa",
         "52",
         "Spanish",
         "4.5",
         "40.41254",
         "2",
         "1148.4834173354568",
         "-3.69854",
         "28014"
        ],
        [
         "Casa Lucas",
         "154",
         "Spanish",
         "4.5",
         "40.412327",
         "2",
         "1541.9081259234936",
         "-3.709429",
         "28005"
        ],
        [
         "El Cogollo",
         "20",
         "Spanish",
         "4.5",
         "40.417",
         "2",
         "1106.3064051275262",
         "-3.7081468",
         "28013"
        ],
        [
         "Lakasa",
         "48",
         "Spanish",
         "5",
         "40.440876",
         "2",
         "2020.5902312080937",
         "-3.700715",
         "28003"
        ],
        [
         "Steak Burger",
         "3",
         "Burgers",
         "4.5",
         "40.41983",
         "null",
         "885.8031586140268",
         "-3.707263",
         "28013"
        ],
        [
         "Bacoa",
         "67",
         "Burgers",
         "4.5",
         "40.4167",
         "2",
         "764.7506754570883",
         "-3.701595",
         "28014"
        ],
        [
         "Viva Burger",
         "34",
         "Burgers",
         "4.5",
         "40.41247",
         "2",
         "1683.8474441060912",
         "-3.71181",
         "28005"
        ],
        [
         "Steak Burger",
         "21",
         "Burgers",
         "4",
         "40.419746",
         "null",
         "379.9067300855736",
         "-3.699429",
         "28013"
        ],
        [
         "Burnout",
         "28",
         "Burgers",
         "4.5",
         "40.43248",
         "2",
         "1185.7862478138004",
         "-3.70367",
         "28010"
        ],
        [
         "Federal",
         "180",
         "Burgers",
         "4",
         "40.42705",
         "2",
         "1090.3118768624156",
         "-3.70923",
         "28015"
        ],
        [
         "Steak Burger",
         "25",
         "Burgers",
         "4",
         "40.40964",
         "2",
         "1506.045945872656",
         "-3.693706",
         "28012"
        ],
        [
         "Moline's Grill",
         "1",
         "Burgers",
         "5",
         "40.408627",
         "null",
         "1636.697580764222",
         "-3.6926575",
         "28012"
        ],
        [
         "Zombie",
         "54",
         "Burgers",
         "4",
         "40.42321",
         "2",
         "609.4105630939849",
         "-3.7047706",
         "28004"
        ],
        [
         "Mad Mad Vegan",
         "14",
         "Burgers",
         "5",
         "40.422703",
         "null",
         "88.35952856228302",
         "-3.698609",
         "28004"
        ],
        [
         "Munchies Hot Dog",
         "25",
         "Burgers",
         "4",
         "40.4137",
         "1",
         "1022.4985490488237",
         "-3.69913",
         "28014"
        ],
        [
         "Five Guys",
         "17",
         "Burgers",
         "4",
         "40.420452",
         "2",
         "724.1376317449414",
         "-3.7055347",
         "28013"
        ],
        [
         "The Mad Café",
         "51",
         "Burgers",
         "4.5",
         "40.41225",
         "2",
         "1523.7896540257736",
         "-3.70888",
         "28005"
        ],
        [
         "Steak 'n Shake",
         "33",
         "Burgers",
         "3.5",
         "40.41656",
         "2",
         "741.9874349730312",
         "-3.7002788",
         "28014"
        ],
        [
         "New York Burger",
         "24",
         "Burgers",
         "4.5",
         "40.450138",
         "1",
         "3075.7635209239843",
         "-3.6915689",
         "28046"
        ],
        [
         "Goiko Grill",
         "45",
         "Burgers",
         "4",
         "40.42896",
         "2",
         "1984.3728826077909",
         "-3.675554",
         "28006"
        ],
        [
         "McDonald's",
         "25",
         "Burgers",
         "4",
         "40.41986",
         "1",
         "492.6528185606649",
         "-3.7018702",
         "28013"
        ],
        [
         "Naked & Sated",
         "6",
         "Burgers",
         "5",
         "40.46335",
         "null",
         "4539.55684957293",
         "-3.69064",
         "28020"
        ],
        [
         "Juancho’s BBQ",
         "4",
         "Burgers",
         "4.5",
         "40.436317",
         "null",
         "1496.4159937738232",
         "-3.697322",
         "28010"
        ],
        [
         "Goiko Grill",
         "70",
         "Burgers",
         "4.5",
         "40.437668",
         "1",
         "1886.4628184569287",
         "-3.686709",
         "28006"
        ],
        [
         "Rolling Dance & Burger",
         "4",
         "Burgers",
         "4.5",
         "40.47205",
         "2",
         "5625.145609505655",
         "-3.6820524",
         "28036"
        ],
        [
         "Goiko Grill",
         "18",
         "Burgers",
         "4",
         "40.41494",
         "2",
         "857.9076724337576",
         "-3.69859",
         "28014"
        ],
        [
         "La Trastienda Tapas",
         "5",
         "Burgers",
         "4",
         "40.422",
         "2",
         "95.65511145937545",
         "-3.6975672",
         "28004"
        ],
        [
         "Burnout",
         "11",
         "Burgers",
         "4.5",
         "40.4208",
         "2",
         "440.75710302522737",
         "-3.70209",
         "28004"
        ],
        [
         "Hard Rock Cafe",
         "109",
         "Burgers",
         "4",
         "40.426224",
         "2",
         "772.9589767071259",
         "-3.6895945",
         "28046"
        ],
        [
         "Goiko Grill",
         "9",
         "Burgers",
         "4.5",
         "40.458473",
         "2",
         "4199.438176581559",
         "-3.6810682",
         "28016"
        ],
        [
         "Bentley's",
         "12",
         "Burgers",
         "4",
         "40.419575",
         "2",
         "835.9441616287093",
         "-3.7064683",
         "28013"
        ],
        [
         "s10bar",
         "10",
         "Burgers",
         "3.5",
         "40.43625",
         "1",
         "1977.934394894583",
         "-3.71293",
         "28015"
        ],
        [
         "Cokuy",
         "2",
         "Burgers",
         "4.5",
         "40.4158",
         "null",
         "901.220624078146",
         "-3.702809",
         "28012"
        ],
        [
         "Goiko Grill",
         "41",
         "Burgers",
         "4",
         "40.42938",
         "2",
         "840.091922029471",
         "-3.70217",
         "28004"
        ],
        [
         "La Mucca",
         "7",
         "Burgers",
         "4",
         "40.427193",
         "null",
         "593.774347218791",
         "-3.701686",
         "28004"
        ],
        [
         "Diurno",
         "73",
         "Burgers",
         "4",
         "40.42123",
         "2",
         "181.88790341618449",
         "-3.69717",
         "28004"
        ],
        [
         "Tommy Mel´s",
         "7",
         "Burgers",
         "4",
         "40.423748",
         "2",
         "1904.7813667856042",
         "-3.6751144",
         "28009"
        ],
        [
         "Zenith",
         "33",
         "Burgers",
         "4.5",
         "40.42235",
         "null",
         "330.30348687855644",
         "-3.7016",
         "28004"
        ],
        [
         "Anauco",
         "7",
         "Burgers",
         "4",
         "40.42009",
         "2",
         "327.0667231780543",
         "-3.69915",
         "28004"
        ],
        [
         "Alta Burgersía",
         "21",
         "Burgers",
         "4",
         "40.41333",
         "1",
         "1076.5736060546099",
         "-3.6998408",
         "28012"
        ],
        [
         "Carmencita",
         "153",
         "Burgers",
         "4.5",
         "40.426086",
         "2",
         "907.9863770759232",
         "-3.707439",
         "28015"
        ],
        [
         "Burger King",
         "2",
         "Burgers",
         "4",
         "40.42703",
         "null",
         "492.182563029827",
         "-3.69592",
         "28004"
        ],
        [
         "Carl's Jr.",
         "2",
         "Burgers",
         "4",
         "40.420948",
         "null",
         "856.0545150202773",
         "-3.707382",
         "28013"
        ],
        [
         "Skyline Diner",
         "20",
         "Burgers",
         "4.5",
         "40.41268",
         "2",
         "1143.2003384440857",
         "-3.6956754",
         "28014"
        ],
        [
         "Foster's Hollywood",
         "2",
         "Burgers",
         "3.5",
         "40.405262",
         "null",
         "1981.148064157556",
         "-3.701242",
         "28012"
        ],
        [
         "Food Truck",
         "33",
         "Burgers",
         "4.5",
         "40.42375",
         "2",
         "156.68651580601073",
         "-3.69618",
         "28004"
        ],
        [
         "Hamburguesa Nostra",
         "7",
         "Burgers",
         "4",
         "40.47458",
         "2",
         "5812.567773122338",
         "-3.687613",
         "28046"
        ],
        [
         "Juanchi's Burger",
         "1",
         "Burgers",
         "5",
         "40.43085",
         "null",
         "2124.138913417375",
         "-3.67501",
         "28002"
        ],
        [
         "La Puerta Amarilla",
         "3",
         "Burgers",
         "4.5",
         "40.411552",
         "null",
         "1269.8879374525043",
         "-3.6954682",
         "28014"
        ],
        [
         "Masa Madre",
         "12",
         "Burgers",
         "4.5",
         "40.42142",
         "null",
         "164.1884140173169",
         "-3.69838",
         "28004"
        ],
        [
         "La Gringa",
         "60",
         "Burgers",
         "4.5",
         "40.426147",
         "1",
         "947.1811780352955",
         "-3.707908",
         "28015"
        ],
        [
         "Burger Shack",
         "1",
         "Burgers",
         "4",
         "40.421997",
         "null",
         "136.91058365528525",
         "-3.6964347",
         "28004"
        ],
        [
         "New York Burger",
         "50",
         "Burgers",
         "4",
         "40.4221",
         "2",
         "572.505669037329",
         "-3.69082",
         "28001"
        ],
        [
         "VIPS",
         "2",
         "Burgers",
         "4",
         "40.47621",
         "2",
         "6016.154755508205",
         "-3.685775",
         "28046"
        ],
        [
         "Grazie Mille",
         "74",
         "Italian",
         "4",
         "40.41611",
         "2",
         "1124.0231004567572",
         "-3.70744",
         "28013"
        ],
        [
         "Pizzaiolo",
         "111",
         "Italian",
         "4.5",
         "40.42375",
         "2",
         "127.1759631338847",
         "-3.69851",
         "28004"
        ],
        [
         "Trattoria Pulcinella",
         "31",
         "Italian",
         "4.5",
         "40.42458",
         "3",
         "213.80119474053967",
         "-3.69657",
         "28004"
        ],
        [
         "Araldo",
         "9",
         "Italian",
         "5",
         "40.417576",
         "null",
         "589.2465691606419",
         "-3.6981282",
         "28014"
        ],
        [
         "Flavia",
         "44",
         "Italian",
         "4.5",
         "40.42239",
         "2",
         "680.121843136792",
         "-3.68959",
         "28001"
        ],
        [
         "Malatesta",
         "51",
         "Italian",
         "4",
         "40.4165",
         "2",
         "1066.865619950464",
         "-3.7070215",
         "28013"
        ],
        [
         "Il Regno di Napoli",
         "15",
         "Italian",
         "4.5",
         "40.42782",
         "2",
         "750.5585941275872",
         "-3.70358",
         "28004"
        ],
        [
         "Come Prima",
         "18",
         "Italian",
         "4.5",
         "40.41401",
         "2",
         "977.7756847131163",
         "-3.69946",
         "28014"
        ],
        [
         "Vesuvio",
         "46",
         "Italian",
         "4.5",
         "40.420986",
         "1",
         "336.6517267620623",
         "-3.7007115",
         "28004"
        ],
        [
         "La Tavernetta",
         "6",
         "Italian",
         "4.5",
         "40.4261",
         "3",
         "467.4383786947757",
         "-3.69413",
         "28004"
        ],
        [
         "Oven",
         "51",
         "Italian",
         "4.5",
         "40.42517",
         "2",
         "366.44865696195694",
         "-3.70075",
         "28004"
        ],
        [
         "Little Eataly",
         "2",
         "Italian",
         "4.5",
         "40.39402",
         "null",
         "3208.092385629896",
         "-3.69799",
         "28045"
        ],
        [
         "Da Nicola",
         "38",
         "Italian",
         "4.5",
         "40.42312",
         "2",
         "939.3995899152179",
         "-3.70851",
         "28015"
        ],
        [
         "Oven",
         "30",
         "Italian",
         "4",
         "40.41935",
         "2",
         "391.24137975900635",
         "-3.6978981",
         "28013"
        ],
        [
         "La Pizzateca",
         "49",
         "Italian",
         "4.5",
         "40.41275",
         "1",
         "1135.4881319340707",
         "-3.69928",
         "28014"
        ],
        [
         "La Tagliatella",
         "6",
         "Italian",
         "4",
         "40.41976",
         "null",
         "852.8009879410962",
         "-3.70679",
         "28013"
        ],
        [
         "Casa Bianco",
         "4",
         "Italian",
         "5",
         "40.41486",
         "3",
         "1259.3239562337224",
         "-3.7081156",
         "28012"
        ],
        [
         "Fratelli d'Italia",
         "20",
         "Italian",
         "4.5",
         "40.40887",
         "1",
         "1590.6244316723469",
         "-3.701509",
         "28012"
        ],
        [
         "Ôven",
         "28",
         "Italian",
         "4.5",
         "40.409473",
         "null",
         "1530.105277642872",
         "-3.693401",
         "28012"
        ],
        [
         "Ristorante Il Pastaio",
         "22",
         "Italian",
         "4.5",
         "40.44204",
         "2",
         "2133.383536508534",
         "-3.696866",
         "28003"
        ],
        [
         "La Tagliatella",
         "7",
         "Italian",
         "4.5",
         "40.42413",
         "2",
         "2077.6147433546594",
         "-3.673099",
         "28009"
        ],
        [
         "Ornella",
         "12",
         "Italian",
         "3.5",
         "40.423283",
         "3",
         "1132.2225436036554",
         "-3.6842222",
         "28001"
        ],
        [
         "Oliveto",
         "16",
         "Italian",
         "4",
         "40.40979",
         "2",
         "1456.4016545306733",
         "-3.6964464",
         "28012"
        ],
        [
         "La Saletta",
         "4",
         "Italian",
         "4.5",
         "40.41142",
         "2",
         "1251.9185393748037",
         "-3.69879",
         "28012"
        ],
        [
         "Gioia",
         "2",
         "Italian",
         "4.5",
         "40.42216",
         "3",
         "106.04678146607492",
         "-3.69839",
         "28004"
        ],
        [
         "Bresca",
         "15",
         "Italian",
         "4.5",
         "40.41072",
         "null",
         "1359.9061502885393",
         "-3.69954",
         "28012"
        ],
        [
         "La Pasta degl'Angeli",
         "4",
         "Italian",
         "4",
         "40.421898",
         "null",
         "162.82189260970674",
         "-3.699037",
         "28004"
        ],
        [
         "Angelita",
         "29",
         "Italian",
         "5",
         "40.420277",
         "3",
         "372.5374556274898",
         "-3.700387",
         "28004"
        ],
        [
         "La Tagliatella",
         "12",
         "Italian",
         "4",
         "40.420044",
         "2",
         "352.8375009931065",
         "-3.695663",
         "28004"
        ],
        [
         "Ginos",
         "4",
         "Italian",
         "4",
         "40.417633",
         "2",
         "609.1326001777951",
         "-3.699736",
         "28014"
        ],
        [
         "Pizza Emporio",
         "4",
         "Italian",
         "5",
         "40.428947",
         "1",
         "1095.2377715771497",
         "-3.6874144",
         "28001"
        ],
        [
         "Il Siciliano",
         "1",
         "Italian",
         "5",
         "40.41713",
         "1",
         "989.864446124471",
         "-3.70648",
         "28013"
        ],
        [
         "Da Gavino",
         "6",
         "Italian",
         "4",
         "40.42625",
         "3",
         "393.98918911987215",
         "-3.69632",
         "28004"
        ],
        [
         "Piccolo Diávolo",
         "13",
         "Italian",
         "4",
         "40.41143",
         "2",
         "1286.5170897886294",
         "-3.69556",
         "28014"
        ],
        [
         "Davanti",
         "2",
         "Italian",
         "5",
         "40.42212",
         "null",
         "104.12057105481111",
         "-3.696836",
         "28004"
        ],
        [
         "Massart",
         "24",
         "Italian",
         "4",
         "40.435303",
         "1",
         "2228.9328208031056",
         "-3.718232",
         "28015"
        ],
        [
         "Pizzart",
         "1",
         "Italian",
         "5",
         "40.41703",
         "null",
         "665.8878783433142",
         "-3.6998",
         "28014"
        ],
        [
         "Il Siciliano",
         "1",
         "Italian",
         "5",
         "40.42522",
         "null",
         "552.4803087860035",
         "-3.70331",
         "28004"
        ],
        [
         "La Pentola Magica",
         "3",
         "Italian",
         "4.5",
         "40.404945",
         "1",
         "2358.825957613841",
         "-3.682662",
         "28007"
        ],
        [
         "Il Piccolino Della Farfalla",
         "33",
         "Italian",
         "4",
         "40.41397",
         "1",
         "1034.1791561981606",
         "-3.70099",
         "28012"
        ],
        [
         "Nina Pasta Bar",
         "4",
         "Italian",
         "5",
         "40.40949",
         "null",
         "1766.9758803141417",
         "-3.708867",
         "28005"
        ],
        [
         "Ginos",
         "2",
         "Italian",
         "4",
         "40.42205",
         "null",
         "1920.3818721216405",
         "-3.720247",
         "28008"
        ],
        [
         "Trattoria Limbara",
         "2",
         "Italian",
         "3",
         "40.43176",
         "1",
         "1063.7876971394164",
         "-3.7024",
         "28010"
        ],
        [
         "La Tagliatella",
         "7",
         "Italian",
         "4",
         "40.43917",
         "2",
         "2734.910679896878",
         "-3.6734002",
         "28002"
        ],
        [
         "Luna Rossa",
         "8",
         "Italian",
         "4",
         "40.4232",
         "1",
         "828.9114906004456",
         "-3.70736",
         "28015"
        ],
        [
         "Al Dente",
         "2",
         "Italian",
         "4.5",
         "40.43109",
         "null",
         "1622.4418459478902",
         "-3.7134109",
         "28015"
        ],
        [
         "Ginos Velázquez",
         "1",
         "Italian",
         "5",
         "40.439777",
         "1",
         "2280.6067527945406",
         "-3.682355",
         "28006"
        ],
        [
         "Grosso Napoletano",
         "11",
         "Italian",
         "4",
         "40.42606",
         "2",
         "1788.954414253439",
         "-3.6769",
         "28001"
        ],
        [
         "Don Giovanni",
         "17",
         "Italian",
         "4.5",
         "40.4073",
         "3",
         "2256.845362718719",
         "-3.68047",
         "28014"
        ],
        [
         "La Piemontesa",
         "3",
         "Italian",
         "4",
         "40.461693",
         "2",
         "4341.666733739132",
         "-3.692228",
         "28020"
        ],
        [
         "Takos al Pastor",
         "418",
         "Mexican",
         "4.5",
         "40.418964",
         "1",
         "671.6237992836653",
         "-3.7036471",
         "28013"
        ],
        [
         "La Mordida",
         "47",
         "Mexican",
         "4.5",
         "40.42441",
         "2",
         "220.59324282461054",
         "-3.695961",
         "28004"
        ],
        [
         "Rosa Negra",
         "70",
         "Mexican",
         "4",
         "40.41385",
         "2",
         "1008.3544873488044",
         "-3.69896",
         "28014"
        ],
        [
         "Central Mexicana",
         "3",
         "Mexican",
         "4.5",
         "40.41912",
         "2",
         "751.6082646898791",
         "-3.705",
         "28013"
        ],
        [
         "Tierra",
         "13",
         "Mexican",
         "4.5",
         "40.41557",
         "1",
         "897.5709127153445",
         "-3.70224",
         "28012"
        ],
        [
         "El Chaparrito",
         "17",
         "Mexican",
         "4.5",
         "40.415634",
         "2",
         "1331.1089491528676",
         "-3.7101238",
         "28013"
        ],
        [
         "Taquería Mi Ciudad",
         "47",
         "Mexican",
         "4",
         "40.41743",
         "1",
         "1119.4904749653303",
         "-3.708722",
         "28013"
        ],
        [
         "Takos al Pastor",
         "26",
         "Mexican",
         "4.5",
         "40.414806",
         "null",
         "1183.1483702893581",
         "-3.706722",
         "28013"
        ],
        [
         "Tacos y Tapas",
         "6",
         "Mexican",
         "4.5",
         "40.4125",
         "2",
         "1705.1806778885027",
         "-3.71245",
         "28005"
        ],
        [
         "La Mordida",
         "10",
         "Mexican",
         "4.5",
         "40.4137",
         "2",
         "2254.650225232564",
         "-3.6738248",
         "28009"
        ],
        [
         "La Mayor",
         "57",
         "Mexican",
         "4.5",
         "40.41508",
         "2",
         "1503.04561234145",
         "-3.71213",
         "28013"
        ],
        [
         "La Malinche",
         "6",
         "Mexican",
         "4.5",
         "40.42083",
         "2",
         "1091.4171166278284",
         "-3.71017",
         "28013"
        ],
        [
         "Tierra",
         "55",
         "Mexican",
         "4",
         "40.43604",
         "1",
         "1959.4554995160177",
         "-3.71294",
         "28015"
        ],
        [
         "Taquería Mi Ciudad",
         "47",
         "Mexican",
         "4",
         "40.416996",
         "1",
         "1122.2033744000246",
         "-3.708374",
         "28013"
        ],
        [
         "Tiki Taco",
         "26",
         "Mexican",
         "4",
         "40.42225",
         "null",
         "852.8733774919483",
         "-3.70759",
         "28015"
        ],
        [
         "Mestizo",
         "24",
         "Mexican",
         "4",
         "40.42178",
         "2",
         "675.2692765430174",
         "-3.68975",
         "28001"
        ],
        [
         "La Venganza de Malinche",
         "14",
         "Mexican",
         "4",
         "40.41896",
         "2",
         "532.3277020220784",
         "-3.70138",
         "28015"
        ],
        [
         "Juana la Loca",
         "216",
         "Mexican",
         "4.5",
         "40.411358",
         "3",
         "1715.626437811679",
         "-3.711094",
         "28005"
        ],
        [
         "Mexcalista",
         "6",
         "Mexican",
         "5",
         "40.41443",
         "null",
         "937.7743525091706",
         "-3.69859",
         "28014"
        ],
        [
         "El Rincón de los Cuates",
         "4",
         "Mexican",
         "4",
         "40.421223",
         "null",
         "217.20413675626872",
         "-3.698988",
         "28004"
        ],
        [
         "La Rebonita",
         "15",
         "Mexican",
         "4",
         "40.411602",
         "1",
         "1276.9913280536578",
         "-3.70056",
         "28012"
        ],
        [
         "Sol Azteca",
         "2",
         "Mexican",
         "4.5",
         "40.431797",
         "null",
         "1928.7201354742579",
         "-3.678058",
         "28006"
        ],
        [
         "Tacos Margaritas Y Punto",
         "4",
         "Mexican",
         "5",
         "40.415607",
         "null",
         "1272.604481430856",
         "-3.7092133",
         "28005"
        ],
        [
         "Tierra",
         "20",
         "Mexican",
         "4.5",
         "40.45645",
         "1",
         "3755.997494351485",
         "-3.69292",
         "28020"
        ],
        [
         "Antigua Taquería",
         "8",
         "Mexican",
         "4",
         "40.40945",
         "1",
         "1588.5227025666645",
         "-3.70428",
         "28012"
        ],
        [
         "DF Bar",
         "48",
         "Mexican",
         "4.5",
         "40.41286",
         "1",
         "1127.1226339084799",
         "-3.69924",
         "28014"
        ],
        [
         "Tacos Chapultepec",
         "35",
         "Mexican",
         "4",
         "40.43015",
         "1",
         "887.7436852310107",
         "-3.70177",
         "28010"
        ],
        [
         "Punto MX",
         "26",
         "Mexican",
         "4",
         "40.42768",
         "4",
         "1716.9847815364612",
         "-3.67832",
         "28001"
        ],
        [
         "Sahuaro",
         "16",
         "Mexican",
         "4.5",
         "40.411137",
         "2",
         "1535.2244254392795",
         "-3.707162",
         "28005"
        ],
        [
         "El Rey de Los Tacos",
         "12",
         "Mexican",
         "4",
         "40.41938",
         "null",
         "1088.479658534812",
         "-3.70962",
         "28013"
        ],
        [
         "Las Mañanitas",
         "19",
         "Mexican",
         "3.5",
         "40.42664",
         "2",
         "525.9924416037366",
         "-3.70132",
         "28004"
        ],
        [
         "Chilango",
         "13",
         "Mexican",
         "4",
         "40.42874",
         "2",
         "831.0576402864496",
         "-3.70395",
         "28004"
        ],
        [
         "La Tomata",
         "11",
         "Mexican",
         "4",
         "40.43118",
         "3",
         "1000.3424975807408",
         "-3.70217",
         "28010"
        ],
        [
         "La Mordida",
         "4",
         "Mexican",
         "4.5",
         "40.4562",
         "2",
         "3707.4136787763873",
         "-3.69693",
         "28020"
        ],
        [
         "Ricos Tacos",
         "2",
         "Mexican",
         "5",
         "40.42407",
         "null",
         "2081.0114566913",
         "-3.67292",
         "28009"
        ],
        [
         "Cherry Pecas",
         "8",
         "Mexican",
         "4",
         "40.441032",
         "null",
         "2517.372752804476",
         "-3.715326",
         "28003"
        ],
        [
         "La Taqueria del Alamillo",
         "36",
         "Mexican",
         "4",
         "40.414036",
         "2",
         "1465.397331422587",
         "-3.7104418",
         "28005"
        ],
        [
         "La Taquería de Birrä",
         "8",
         "Mexican",
         "3.5",
         "40.41166",
         "1",
         "1833.1250099562526",
         "-3.71348",
         "28005"
        ],
        [
         "La Venganza de Malinche",
         "6",
         "Mexican",
         "3.5",
         "40.417484",
         "2",
         "993.0872758447316",
         "-3.7069554",
         "28013"
        ],
        [
         "Taco & Burro Maya",
         "3",
         "Mexican",
         "5",
         "40.401745",
         "null",
         "2350.7463388220676",
         "-3.6989076",
         "28045"
        ],
        [
         "La Diavla",
         "1",
         "Mexican",
         "5",
         "40.42136",
         "null",
         "1599.98845480739",
         "-3.67883",
         "28009"
        ],
        [
         "La Lupita",
         "11",
         "Mexican",
         "3.5",
         "40.422543",
         "2",
         "1027.340667977444",
         "-3.685457",
         "28001"
        ],
        [
         "Corazón Agavero Mezcaloteca",
         "17",
         "Mexican",
         "4.5",
         "40.40944",
         "1",
         "1842.9248676229263",
         "-3.710356",
         "28005"
        ],
        [
         "Jleo's",
         "7",
         "Mexican",
         "4.5",
         "40.431656",
         "1",
         "1463.662624243902",
         "-3.710451",
         "28015"
        ],
        [
         "El Kártel de Malasaña",
         "5",
         "Mexican",
         "4",
         "40.42563",
         "1",
         "507.96465621394026",
         "-3.70217",
         "28004"
        ],
        [
         "Mexico 1800",
         "1",
         "Mexican",
         "4",
         "40.42205",
         "null",
         "735.7002709776398",
         "-3.706212",
         "28004"
        ],
        [
         "100% México, Hecho a Mano",
         "7",
         "Mexican",
         "4.5",
         "40.4243",
         "2",
         "1389.3875584816656",
         "-3.68146",
         "28001"
        ],
        [
         "La Chelinda",
         "7",
         "Mexican",
         "4",
         "40.456566",
         "2",
         "3773.027158686561",
         "-3.6924388",
         "28020"
        ],
        [
         "No Q No",
         "3",
         "Mexican",
         "4.5",
         "40.46251",
         "2",
         "9956.13300669362",
         "-3.5921",
         "28042"
        ],
        [
         "Tacazzo",
         "8",
         "Mexican",
         "4",
         "40.417114",
         "2",
         "1928.8848667754253",
         "-3.676086",
         "28009"
        ]
       ],
       "datasetInfos": [],
       "dbfsResultPath": null,
       "isJsonSchema": true,
       "metadata": {},
       "overflow": false,
       "plotOptions": {
        "customPlotOptions": {},
        "displayType": "table",
        "pivotAggregation": null,
        "pivotColumns": null,
        "xColumns": null,
        "yColumns": null
       },
       "removedWidgets": [],
       "schema": [
        {
         "metadata": "{}",
         "name": "name",
         "type": "\"string\""
        },
        {
         "metadata": "{}",
         "name": "review_count",
         "type": "\"string\""
        },
        {
         "metadata": "{}",
         "name": "categories",
         "type": "\"string\""
        },
        {
         "metadata": "{}",
         "name": "rating",
         "type": "\"string\""
        },
        {
         "metadata": "{}",
         "name": "latitude",
         "type": "\"string\""
        },
        {
         "metadata": "{}",
         "name": "price",
         "type": "\"string\""
        },
        {
         "metadata": "{}",
         "name": "distance",
         "type": "\"string\""
        },
        {
         "metadata": "{}",
         "name": "longitude",
         "type": "\"string\""
        },
        {
         "metadata": "{}",
         "name": "postal_code",
         "type": "\"string\""
        }
       ],
       "type": "table"
      }
     },
     "output_type": "display_data"
    }
   ],
   "source": [
    "data = spark.read.csv('/FileStore/tables/df_silver.csv', header = True)\n",
    "display(data)"
   ]
  },
  {
   "cell_type": "code",
   "execution_count": 0,
   "metadata": {
    "application/vnd.databricks.v1+cell": {
     "cellMetadata": {},
     "inputWidgets": {},
     "nuid": "5ab050b6-107e-4ddc-8f4e-2117890cf999",
     "showTitle": false,
     "title": ""
    }
   },
   "outputs": [
    {
     "output_type": "stream",
     "name": "stdout",
     "output_type": "stream",
     "text": [
      "Out[31]: [('name', 'string'),\n ('review_count', 'string'),\n ('categories', 'string'),\n ('rating', 'string'),\n ('latitude', 'string'),\n ('price', 'string'),\n ('distance', 'string'),\n ('longitude', 'string'),\n ('postal_code', 'string')]"
     ]
    }
   ],
   "source": [
    "data.dtypes"
   ]
  },
  {
   "cell_type": "code",
   "execution_count": 0,
   "metadata": {
    "application/vnd.databricks.v1+cell": {
     "cellMetadata": {},
     "inputWidgets": {},
     "nuid": "74c3f269-2219-484c-aacd-875e05b09a95",
     "showTitle": false,
     "title": ""
    }
   },
   "outputs": [],
   "source": [
    "data = data.withColumn(\"rating\", data[\"rating\"].cast('float'))\n",
    "data = data.withColumn(\"review_count\", data[\"review_count\"].cast('float'))\n",
    "data = data.withColumn(\"price\", data[\"price\"].cast('int'))\n",
    "data = data.withColumn(\"latitude\", data[\"latitude\"].cast('float'))\n",
    "data = data.withColumn(\"longitude\", data[\"longitude\"].cast('float'))\n",
    "data = data.withColumn(\"postal_code\", data[\"postal_code\"].cast('int'))"
   ]
  },
  {
   "cell_type": "code",
   "execution_count": 0,
   "metadata": {
    "application/vnd.databricks.v1+cell": {
     "cellMetadata": {},
     "inputWidgets": {},
     "nuid": "6370344f-5abb-4cd9-a579-441fa21b864a",
     "showTitle": false,
     "title": ""
    }
   },
   "outputs": [
    {
     "output_type": "stream",
     "name": "stdout",
     "output_type": "stream",
     "text": [
      "Requirement already satisfied: folium in /databricks/python3/lib/python3.8/site-packages (0.14.0)\r\nRequirement already satisfied: jinja2>=2.9 in /databricks/python3/lib/python3.8/site-packages (from folium) (2.11.3)\r\nRequirement already satisfied: numpy in /databricks/python3/lib/python3.8/site-packages (from folium) (1.20.1)\r\nRequirement already satisfied: requests in /databricks/python3/lib/python3.8/site-packages (from folium) (2.25.1)\r\nRequirement already satisfied: branca>=0.6.0 in /databricks/python3/lib/python3.8/site-packages (from folium) (0.6.0)\r\nRequirement already satisfied: MarkupSafe>=0.23 in /databricks/python3/lib/python3.8/site-packages (from jinja2>=2.9->folium) (2.0.1)\r\nRequirement already satisfied: urllib3<1.27,>=1.21.1 in /databricks/python3/lib/python3.8/site-packages (from requests->folium) (1.25.11)\r\nRequirement already satisfied: idna<3,>=2.5 in /databricks/python3/lib/python3.8/site-packages (from requests->folium) (2.10)\r\nRequirement already satisfied: certifi>=2017.4.17 in /databricks/python3/lib/python3.8/site-packages (from requests->folium) (2020.12.5)\r\nRequirement already satisfied: chardet<5,>=3.0.2 in /databricks/python3/lib/python3.8/site-packages (from requests->folium) (4.0.0)\r\n\u001B[33mWARNING: You are using pip version 21.0.1; however, version 22.3.1 is available.\r\nYou should consider upgrading via the '/databricks/python3/bin/python -m pip install --upgrade pip' command.\u001B[0m\r\n"
     ]
    }
   ],
   "source": [
    "! pip install folium\n",
    "import folium"
   ]
  },
  {
   "cell_type": "markdown",
   "metadata": {
    "application/vnd.databricks.v1+cell": {
     "cellMetadata": {},
     "inputWidgets": {},
     "nuid": "fa2eae5b-f49a-4404-ae2f-bb5d71cda5f7",
     "showTitle": false,
     "title": ""
    }
   },
   "source": [
    "### Query 1\n",
    "Map with top 10 restaurants in the city by rating."
   ]
  },
  {
   "cell_type": "code",
   "execution_count": 0,
   "metadata": {
    "application/vnd.databricks.v1+cell": {
     "cellMetadata": {},
     "inputWidgets": {},
     "nuid": "fda23109-f2b1-4cd3-821f-4bb30ce03b7a",
     "showTitle": false,
     "title": ""
    }
   },
   "outputs": [],
   "source": [
    "q1 = data.sort(\"rating\", ascending=False)\n",
    "df1 = q1.toPandas()\n",
    "limit = 10\n",
    "df1 = df1.iloc[0:limit, :]"
   ]
  },
  {
   "cell_type": "code",
   "execution_count": 0,
   "metadata": {
    "application/vnd.databricks.v1+cell": {
     "cellMetadata": {},
     "inputWidgets": {},
     "nuid": "98ffdd5b-4f86-4491-bc48-8700fe7a7064",
     "showTitle": false,
     "title": ""
    }
   },
   "outputs": [
    {
     "output_type": "display_data",
     "data": {
      "text/html": [
       "<div>\n",
       "<style scoped>\n",
       "    .dataframe tbody tr th:only-of-type {\n",
       "        vertical-align: middle;\n",
       "    }\n",
       "\n",
       "    .dataframe tbody tr th {\n",
       "        vertical-align: top;\n",
       "    }\n",
       "\n",
       "    .dataframe thead th {\n",
       "        text-align: right;\n",
       "    }\n",
       "</style>\n",
       "<table border=\"1\" class=\"dataframe\">\n",
       "  <thead>\n",
       "    <tr style=\"text-align: right;\">\n",
       "      <th></th>\n",
       "      <th>name</th>\n",
       "      <th>review_count</th>\n",
       "      <th>categories</th>\n",
       "      <th>rating</th>\n",
       "      <th>latitude</th>\n",
       "      <th>price</th>\n",
       "      <th>distance</th>\n",
       "      <th>longitude</th>\n",
       "      <th>postal_code</th>\n",
       "    </tr>\n",
       "  </thead>\n",
       "  <tbody>\n",
       "    <tr>\n",
       "      <th>0</th>\n",
       "      <td>Taberna El Sur de Huertas</td>\n",
       "      <td>41.0</td>\n",
       "      <td>Spanish</td>\n",
       "      <td>5.0</td>\n",
       "      <td>40.413658</td>\n",
       "      <td>NaN</td>\n",
       "      <td>1036.183034652163</td>\n",
       "      <td>-3.699430</td>\n",
       "      <td>28014</td>\n",
       "    </tr>\n",
       "    <tr>\n",
       "      <th>1</th>\n",
       "      <td>Vinoteca Moratín</td>\n",
       "      <td>33.0</td>\n",
       "      <td>Spanish</td>\n",
       "      <td>5.0</td>\n",
       "      <td>40.412521</td>\n",
       "      <td>3.0</td>\n",
       "      <td>1168.8084348720095</td>\n",
       "      <td>-3.695410</td>\n",
       "      <td>28014</td>\n",
       "    </tr>\n",
       "    <tr>\n",
       "      <th>2</th>\n",
       "      <td>Algarabía</td>\n",
       "      <td>16.0</td>\n",
       "      <td>Spanish</td>\n",
       "      <td>5.0</td>\n",
       "      <td>40.417320</td>\n",
       "      <td>2.0</td>\n",
       "      <td>1245.5718114622448</td>\n",
       "      <td>-3.710374</td>\n",
       "      <td>28013</td>\n",
       "    </tr>\n",
       "    <tr>\n",
       "      <th>3</th>\n",
       "      <td>La Garriga</td>\n",
       "      <td>2.0</td>\n",
       "      <td>Spanish</td>\n",
       "      <td>5.0</td>\n",
       "      <td>40.426544</td>\n",
       "      <td>NaN</td>\n",
       "      <td>560.7903673495854</td>\n",
       "      <td>-3.693060</td>\n",
       "      <td>28004</td>\n",
       "    </tr>\n",
       "    <tr>\n",
       "      <th>4</th>\n",
       "      <td>El Barril</td>\n",
       "      <td>21.0</td>\n",
       "      <td>Spanish</td>\n",
       "      <td>5.0</td>\n",
       "      <td>40.421989</td>\n",
       "      <td>3.0</td>\n",
       "      <td>630.0871640719441</td>\n",
       "      <td>-3.690230</td>\n",
       "      <td>28001</td>\n",
       "    </tr>\n",
       "    <tr>\n",
       "      <th>5</th>\n",
       "      <td>Los Arcos</td>\n",
       "      <td>6.0</td>\n",
       "      <td>Spanish</td>\n",
       "      <td>5.0</td>\n",
       "      <td>40.437870</td>\n",
       "      <td>3.0</td>\n",
       "      <td>1675.278430632665</td>\n",
       "      <td>-3.699283</td>\n",
       "      <td>28010</td>\n",
       "    </tr>\n",
       "    <tr>\n",
       "      <th>6</th>\n",
       "      <td>La Tasqueria</td>\n",
       "      <td>21.0</td>\n",
       "      <td>Spanish</td>\n",
       "      <td>5.0</td>\n",
       "      <td>40.422279</td>\n",
       "      <td>3.0</td>\n",
       "      <td>2019.6198202824544</td>\n",
       "      <td>-3.673740</td>\n",
       "      <td>28009</td>\n",
       "    </tr>\n",
       "    <tr>\n",
       "      <th>7</th>\n",
       "      <td>Angelita</td>\n",
       "      <td>29.0</td>\n",
       "      <td>Spanish</td>\n",
       "      <td>5.0</td>\n",
       "      <td>40.420277</td>\n",
       "      <td>3.0</td>\n",
       "      <td>372.5374556274898</td>\n",
       "      <td>-3.700387</td>\n",
       "      <td>28004</td>\n",
       "    </tr>\n",
       "    <tr>\n",
       "      <th>8</th>\n",
       "      <td>Lakasa</td>\n",
       "      <td>48.0</td>\n",
       "      <td>Spanish</td>\n",
       "      <td>5.0</td>\n",
       "      <td>40.440876</td>\n",
       "      <td>2.0</td>\n",
       "      <td>2020.5902312080937</td>\n",
       "      <td>-3.700715</td>\n",
       "      <td>28003</td>\n",
       "    </tr>\n",
       "    <tr>\n",
       "      <th>9</th>\n",
       "      <td>Moline's Grill</td>\n",
       "      <td>1.0</td>\n",
       "      <td>Burgers</td>\n",
       "      <td>5.0</td>\n",
       "      <td>40.408627</td>\n",
       "      <td>NaN</td>\n",
       "      <td>1636.697580764222</td>\n",
       "      <td>-3.692657</td>\n",
       "      <td>28012</td>\n",
       "    </tr>\n",
       "  </tbody>\n",
       "</table>\n",
       "</div>"
      ]
     },
     "metadata": {
      "application/vnd.databricks.v1+output": {
       "addedWidgets": {},
       "arguments": {},
       "data": "<div>\n<style scoped>\n    .dataframe tbody tr th:only-of-type {\n        vertical-align: middle;\n    }\n\n    .dataframe tbody tr th {\n        vertical-align: top;\n    }\n\n    .dataframe thead th {\n        text-align: right;\n    }\n</style>\n<table border=\"1\" class=\"dataframe\">\n  <thead>\n    <tr style=\"text-align: right;\">\n      <th></th>\n      <th>name</th>\n      <th>review_count</th>\n      <th>categories</th>\n      <th>rating</th>\n      <th>latitude</th>\n      <th>price</th>\n      <th>distance</th>\n      <th>longitude</th>\n      <th>postal_code</th>\n    </tr>\n  </thead>\n  <tbody>\n    <tr>\n      <th>0</th>\n      <td>Taberna El Sur de Huertas</td>\n      <td>41.0</td>\n      <td>Spanish</td>\n      <td>5.0</td>\n      <td>40.413658</td>\n      <td>NaN</td>\n      <td>1036.183034652163</td>\n      <td>-3.699430</td>\n      <td>28014</td>\n    </tr>\n    <tr>\n      <th>1</th>\n      <td>Vinoteca Moratín</td>\n      <td>33.0</td>\n      <td>Spanish</td>\n      <td>5.0</td>\n      <td>40.412521</td>\n      <td>3.0</td>\n      <td>1168.8084348720095</td>\n      <td>-3.695410</td>\n      <td>28014</td>\n    </tr>\n    <tr>\n      <th>2</th>\n      <td>Algarabía</td>\n      <td>16.0</td>\n      <td>Spanish</td>\n      <td>5.0</td>\n      <td>40.417320</td>\n      <td>2.0</td>\n      <td>1245.5718114622448</td>\n      <td>-3.710374</td>\n      <td>28013</td>\n    </tr>\n    <tr>\n      <th>3</th>\n      <td>La Garriga</td>\n      <td>2.0</td>\n      <td>Spanish</td>\n      <td>5.0</td>\n      <td>40.426544</td>\n      <td>NaN</td>\n      <td>560.7903673495854</td>\n      <td>-3.693060</td>\n      <td>28004</td>\n    </tr>\n    <tr>\n      <th>4</th>\n      <td>El Barril</td>\n      <td>21.0</td>\n      <td>Spanish</td>\n      <td>5.0</td>\n      <td>40.421989</td>\n      <td>3.0</td>\n      <td>630.0871640719441</td>\n      <td>-3.690230</td>\n      <td>28001</td>\n    </tr>\n    <tr>\n      <th>5</th>\n      <td>Los Arcos</td>\n      <td>6.0</td>\n      <td>Spanish</td>\n      <td>5.0</td>\n      <td>40.437870</td>\n      <td>3.0</td>\n      <td>1675.278430632665</td>\n      <td>-3.699283</td>\n      <td>28010</td>\n    </tr>\n    <tr>\n      <th>6</th>\n      <td>La Tasqueria</td>\n      <td>21.0</td>\n      <td>Spanish</td>\n      <td>5.0</td>\n      <td>40.422279</td>\n      <td>3.0</td>\n      <td>2019.6198202824544</td>\n      <td>-3.673740</td>\n      <td>28009</td>\n    </tr>\n    <tr>\n      <th>7</th>\n      <td>Angelita</td>\n      <td>29.0</td>\n      <td>Spanish</td>\n      <td>5.0</td>\n      <td>40.420277</td>\n      <td>3.0</td>\n      <td>372.5374556274898</td>\n      <td>-3.700387</td>\n      <td>28004</td>\n    </tr>\n    <tr>\n      <th>8</th>\n      <td>Lakasa</td>\n      <td>48.0</td>\n      <td>Spanish</td>\n      <td>5.0</td>\n      <td>40.440876</td>\n      <td>2.0</td>\n      <td>2020.5902312080937</td>\n      <td>-3.700715</td>\n      <td>28003</td>\n    </tr>\n    <tr>\n      <th>9</th>\n      <td>Moline's Grill</td>\n      <td>1.0</td>\n      <td>Burgers</td>\n      <td>5.0</td>\n      <td>40.408627</td>\n      <td>NaN</td>\n      <td>1636.697580764222</td>\n      <td>-3.692657</td>\n      <td>28012</td>\n    </tr>\n  </tbody>\n</table>\n</div>",
       "datasetInfos": [],
       "metadata": {},
       "removedWidgets": [],
       "textData": null,
       "type": "htmlSandbox"
      }
     },
     "output_type": "display_data"
    }
   ],
   "source": [
    "df1"
   ]
  },
  {
   "cell_type": "code",
   "execution_count": 0,
   "metadata": {
    "application/vnd.databricks.v1+cell": {
     "cellMetadata": {},
     "inputWidgets": {},
     "nuid": "abfade16-a0bd-4bd2-aef3-0ae4d65f36dd",
     "showTitle": false,
     "title": ""
    }
   },
   "outputs": [],
   "source": [
    "# Madrid coordinates\n",
    "latitude = 40.416775\n",
    "longitude = -3.703790\n",
    "\n",
    "# create map\n",
    "madrid_map = folium.Map(location=[latitude, longitude], zoom_start=12)"
   ]
  },
  {
   "cell_type": "code",
   "execution_count": 0,
   "metadata": {
    "application/vnd.databricks.v1+cell": {
     "cellMetadata": {},
     "inputWidgets": {},
     "nuid": "e8b04638-9aea-4974-80d7-9a302554c65a",
     "showTitle": false,
     "title": ""
    }
   },
   "outputs": [
    {
     "output_type": "display_data",
     "data": {
      "text/html": [
       "<div style=\"width:100%;\"><div style=\"position:relative;width:100%;height:0;padding-bottom:60%;\"><span style=\"color:#565656\">Make this Notebook Trusted to load map: File -> Trust Notebook</span><iframe srcdoc=\"&lt;!DOCTYPE html&gt;\n",
       "&lt;html&gt;\n",
       "&lt;head&gt;\n",
       "    \n",
       "    &lt;meta http-equiv=&quot;content-type&quot; content=&quot;text/html; charset=UTF-8&quot; /&gt;\n",
       "    \n",
       "        &lt;script&gt;\n",
       "            L_NO_TOUCH = false;\n",
       "            L_DISABLE_3D = false;\n",
       "        &lt;/script&gt;\n",
       "    \n",
       "    &lt;style&gt;html, body {width: 100%;height: 100%;margin: 0;padding: 0;}&lt;/style&gt;\n",
       "    &lt;style&gt;#map {position:absolute;top:0;bottom:0;right:0;left:0;}&lt;/style&gt;\n",
       "    &lt;script src=&quot;https://cdn.jsdelivr.net/npm/leaflet@1.9.3/dist/leaflet.js&quot;&gt;&lt;/script&gt;\n",
       "    &lt;script src=&quot;https://code.jquery.com/jquery-1.12.4.min.js&quot;&gt;&lt;/script&gt;\n",
       "    &lt;script src=&quot;https://cdn.jsdelivr.net/npm/bootstrap@5.2.2/dist/js/bootstrap.bundle.min.js&quot;&gt;&lt;/script&gt;\n",
       "    &lt;script src=&quot;https://cdnjs.cloudflare.com/ajax/libs/Leaflet.awesome-markers/2.0.2/leaflet.awesome-markers.js&quot;&gt;&lt;/script&gt;\n",
       "    &lt;link rel=&quot;stylesheet&quot; href=&quot;https://cdn.jsdelivr.net/npm/leaflet@1.9.3/dist/leaflet.css&quot;/&gt;\n",
       "    &lt;link rel=&quot;stylesheet&quot; href=&quot;https://cdn.jsdelivr.net/npm/bootstrap@5.2.2/dist/css/bootstrap.min.css&quot;/&gt;\n",
       "    &lt;link rel=&quot;stylesheet&quot; href=&quot;https://netdna.bootstrapcdn.com/bootstrap/3.0.0/css/bootstrap.min.css&quot;/&gt;\n",
       "    &lt;link rel=&quot;stylesheet&quot; href=&quot;https://cdn.jsdelivr.net/npm/@fortawesome/fontawesome-free@6.2.0/css/all.min.css&quot;/&gt;\n",
       "    &lt;link rel=&quot;stylesheet&quot; href=&quot;https://cdnjs.cloudflare.com/ajax/libs/Leaflet.awesome-markers/2.0.2/leaflet.awesome-markers.css&quot;/&gt;\n",
       "    &lt;link rel=&quot;stylesheet&quot; href=&quot;https://cdn.jsdelivr.net/gh/python-visualization/folium/folium/templates/leaflet.awesome.rotate.min.css&quot;/&gt;\n",
       "    \n",
       "            &lt;meta name=&quot;viewport&quot; content=&quot;width=device-width,\n",
       "                initial-scale=1.0, maximum-scale=1.0, user-scalable=no&quot; /&gt;\n",
       "            &lt;style&gt;\n",
       "                #map_5d38ca04869c53bd56d06fd6c7a5ad5e {\n",
       "                    position: relative;\n",
       "                    width: 100.0%;\n",
       "                    height: 100.0%;\n",
       "                    left: 0.0%;\n",
       "                    top: 0.0%;\n",
       "                }\n",
       "                .leaflet-container { font-size: 1rem; }\n",
       "            &lt;/style&gt;\n",
       "        \n",
       "&lt;/head&gt;\n",
       "&lt;body&gt;\n",
       "    \n",
       "    \n",
       "            &lt;div class=&quot;folium-map&quot; id=&quot;map_5d38ca04869c53bd56d06fd6c7a5ad5e&quot; &gt;&lt;/div&gt;\n",
       "        \n",
       "&lt;/body&gt;\n",
       "&lt;script&gt;\n",
       "    \n",
       "    \n",
       "            var map_5d38ca04869c53bd56d06fd6c7a5ad5e = L.map(\n",
       "                &quot;map_5d38ca04869c53bd56d06fd6c7a5ad5e&quot;,\n",
       "                {\n",
       "                    center: [40.416775, -3.70379],\n",
       "                    crs: L.CRS.EPSG3857,\n",
       "                    zoom: 12,\n",
       "                    zoomControl: true,\n",
       "                    preferCanvas: false,\n",
       "                }\n",
       "            );\n",
       "\n",
       "            \n",
       "\n",
       "        \n",
       "    \n",
       "            var tile_layer_d2f258e0d58fb5e8f5434c146f7ded49 = L.tileLayer(\n",
       "                &quot;https://{s}.tile.openstreetmap.org/{z}/{x}/{y}.png&quot;,\n",
       "                {&quot;attribution&quot;: &quot;Data by \\u0026copy; \\u003ca target=\\&quot;_blank\\&quot; href=\\&quot;http://openstreetmap.org\\&quot;\\u003eOpenStreetMap\\u003c/a\\u003e, under \\u003ca target=\\&quot;_blank\\&quot; href=\\&quot;http://www.openstreetmap.org/copyright\\&quot;\\u003eODbL\\u003c/a\\u003e.&quot;, &quot;detectRetina&quot;: false, &quot;maxNativeZoom&quot;: 18, &quot;maxZoom&quot;: 18, &quot;minZoom&quot;: 0, &quot;noWrap&quot;: false, &quot;opacity&quot;: 1, &quot;subdomains&quot;: &quot;abc&quot;, &quot;tms&quot;: false}\n",
       "            ).addTo(map_5d38ca04869c53bd56d06fd6c7a5ad5e);\n",
       "        \n",
       "    \n",
       "            var marker_0ce2e0493fc4f68f3ec35935a11f8c82 = L.marker(\n",
       "                [40.413658142089844, -3.699429988861084],\n",
       "                {}\n",
       "            ).addTo(map_5d38ca04869c53bd56d06fd6c7a5ad5e);\n",
       "        \n",
       "    \n",
       "        var popup_5caf7cf48c2cf069a764c64859859c61 = L.popup({&quot;maxWidth&quot;: &quot;100%&quot;});\n",
       "\n",
       "        \n",
       "            \n",
       "                var html_ccd51fb05dd1a2d4398a9185dfed058a = $(`&lt;div id=&quot;html_ccd51fb05dd1a2d4398a9185dfed058a&quot; style=&quot;width: 100.0%; height: 100.0%;&quot;&gt;Taberna El Sur de Huertas&lt;/div&gt;`)[0];\n",
       "                popup_5caf7cf48c2cf069a764c64859859c61.setContent(html_ccd51fb05dd1a2d4398a9185dfed058a);\n",
       "            \n",
       "        \n",
       "\n",
       "        marker_0ce2e0493fc4f68f3ec35935a11f8c82.bindPopup(popup_5caf7cf48c2cf069a764c64859859c61)\n",
       "        ;\n",
       "\n",
       "        \n",
       "    \n",
       "    \n",
       "            var marker_7cdc2310f09ac3a3d38f391c90b1eb51 = L.marker(\n",
       "                [40.41252136230469, -3.6954100131988525],\n",
       "                {}\n",
       "            ).addTo(map_5d38ca04869c53bd56d06fd6c7a5ad5e);\n",
       "        \n",
       "    \n",
       "        var popup_22a4ca3dc7342959f953e0575b05ca5c = L.popup({&quot;maxWidth&quot;: &quot;100%&quot;});\n",
       "\n",
       "        \n",
       "            \n",
       "                var html_cb41b4841fcd31ee22ec1904a3615948 = $(`&lt;div id=&quot;html_cb41b4841fcd31ee22ec1904a3615948&quot; style=&quot;width: 100.0%; height: 100.0%;&quot;&gt;Vinoteca Moratín&lt;/div&gt;`)[0];\n",
       "                popup_22a4ca3dc7342959f953e0575b05ca5c.setContent(html_cb41b4841fcd31ee22ec1904a3615948);\n",
       "            \n",
       "        \n",
       "\n",
       "        marker_7cdc2310f09ac3a3d38f391c90b1eb51.bindPopup(popup_22a4ca3dc7342959f953e0575b05ca5c)\n",
       "        ;\n",
       "\n",
       "        \n",
       "    \n",
       "    \n",
       "            var marker_f1c7caedfda684c811d6d6678051bd70 = L.marker(\n",
       "                [40.417320251464844, -3.710374355316162],\n",
       "                {}\n",
       "            ).addTo(map_5d38ca04869c53bd56d06fd6c7a5ad5e);\n",
       "        \n",
       "    \n",
       "        var popup_94beca3f615a07838101abd8197f76c0 = L.popup({&quot;maxWidth&quot;: &quot;100%&quot;});\n",
       "\n",
       "        \n",
       "            \n",
       "                var html_99fa34404ef3a8f257242acb743f3501 = $(`&lt;div id=&quot;html_99fa34404ef3a8f257242acb743f3501&quot; style=&quot;width: 100.0%; height: 100.0%;&quot;&gt;Algarabía&lt;/div&gt;`)[0];\n",
       "                popup_94beca3f615a07838101abd8197f76c0.setContent(html_99fa34404ef3a8f257242acb743f3501);\n",
       "            \n",
       "        \n",
       "\n",
       "        marker_f1c7caedfda684c811d6d6678051bd70.bindPopup(popup_94beca3f615a07838101abd8197f76c0)\n",
       "        ;\n",
       "\n",
       "        \n",
       "    \n",
       "    \n",
       "            var marker_e3af586dacb9ea6c95b69ace42418ec5 = L.marker(\n",
       "                [40.426544189453125, -3.6930599212646484],\n",
       "                {}\n",
       "            ).addTo(map_5d38ca04869c53bd56d06fd6c7a5ad5e);\n",
       "        \n",
       "    \n",
       "        var popup_95ef4a94999e0407f093654ed20cd97f = L.popup({&quot;maxWidth&quot;: &quot;100%&quot;});\n",
       "\n",
       "        \n",
       "            \n",
       "                var html_289b240cd0010ae32ac1312908e015d4 = $(`&lt;div id=&quot;html_289b240cd0010ae32ac1312908e015d4&quot; style=&quot;width: 100.0%; height: 100.0%;&quot;&gt;La Garriga&lt;/div&gt;`)[0];\n",
       "                popup_95ef4a94999e0407f093654ed20cd97f.setContent(html_289b240cd0010ae32ac1312908e015d4);\n",
       "            \n",
       "        \n",
       "\n",
       "        marker_e3af586dacb9ea6c95b69ace42418ec5.bindPopup(popup_95ef4a94999e0407f093654ed20cd97f)\n",
       "        ;\n",
       "\n",
       "        \n",
       "    \n",
       "    \n",
       "            var marker_3e60b534e22179d8c1eb49a5abee3a3d = L.marker(\n",
       "                [40.42198944091797, -3.690229892730713],\n",
       "                {}\n",
       "            ).addTo(map_5d38ca04869c53bd56d06fd6c7a5ad5e);\n",
       "        \n",
       "    \n",
       "        var popup_aa505f8d92fddd64cd33138cc2b087d1 = L.popup({&quot;maxWidth&quot;: &quot;100%&quot;});\n",
       "\n",
       "        \n",
       "            \n",
       "                var html_6b79dbb55568cba977950c962add973d = $(`&lt;div id=&quot;html_6b79dbb55568cba977950c962add973d&quot; style=&quot;width: 100.0%; height: 100.0%;&quot;&gt;El Barril&lt;/div&gt;`)[0];\n",
       "                popup_aa505f8d92fddd64cd33138cc2b087d1.setContent(html_6b79dbb55568cba977950c962add973d);\n",
       "            \n",
       "        \n",
       "\n",
       "        marker_3e60b534e22179d8c1eb49a5abee3a3d.bindPopup(popup_aa505f8d92fddd64cd33138cc2b087d1)\n",
       "        ;\n",
       "\n",
       "        \n",
       "    \n",
       "    \n",
       "            var marker_9a3efb4e0b221b87a0a627ba84b3f56a = L.marker(\n",
       "                [40.437870025634766, -3.6992831230163574],\n",
       "                {}\n",
       "            ).addTo(map_5d38ca04869c53bd56d06fd6c7a5ad5e);\n",
       "        \n",
       "    \n",
       "        var popup_61c1855eef6a8708afa414f5b0ef48a1 = L.popup({&quot;maxWidth&quot;: &quot;100%&quot;});\n",
       "\n",
       "        \n",
       "            \n",
       "                var html_79ac7357bbdc710a68ab8f50e0fc6ef5 = $(`&lt;div id=&quot;html_79ac7357bbdc710a68ab8f50e0fc6ef5&quot; style=&quot;width: 100.0%; height: 100.0%;&quot;&gt;Los Arcos&lt;/div&gt;`)[0];\n",
       "                popup_61c1855eef6a8708afa414f5b0ef48a1.setContent(html_79ac7357bbdc710a68ab8f50e0fc6ef5);\n",
       "            \n",
       "        \n",
       "\n",
       "        marker_9a3efb4e0b221b87a0a627ba84b3f56a.bindPopup(popup_61c1855eef6a8708afa414f5b0ef48a1)\n",
       "        ;\n",
       "\n",
       "        \n",
       "    \n",
       "    \n",
       "            var marker_a6d532b99f79fd90c87297153afd2f19 = L.marker(\n",
       "                [40.422279357910156, -3.6737399101257324],\n",
       "                {}\n",
       "            ).addTo(map_5d38ca04869c53bd56d06fd6c7a5ad5e);\n",
       "        \n",
       "    \n",
       "        var popup_c37d92e978527e63c75b95300dc9e6d8 = L.popup({&quot;maxWidth&quot;: &quot;100%&quot;});\n",
       "\n",
       "        \n",
       "            \n",
       "                var html_30d164d04e085b88e6752e6f62a492ef = $(`&lt;div id=&quot;html_30d164d04e085b88e6752e6f62a492ef&quot; style=&quot;width: 100.0%; height: 100.0%;&quot;&gt;La Tasqueria&lt;/div&gt;`)[0];\n",
       "                popup_c37d92e978527e63c75b95300dc9e6d8.setContent(html_30d164d04e085b88e6752e6f62a492ef);\n",
       "            \n",
       "        \n",
       "\n",
       "        marker_a6d532b99f79fd90c87297153afd2f19.bindPopup(popup_c37d92e978527e63c75b95300dc9e6d8)\n",
       "        ;\n",
       "\n",
       "        \n",
       "    \n",
       "    \n",
       "            var marker_b08e4e54ca9a461fbecdfd9899a43342 = L.marker(\n",
       "                [40.4202766418457, -3.7003870010375977],\n",
       "                {}\n",
       "            ).addTo(map_5d38ca04869c53bd56d06fd6c7a5ad5e);\n",
       "        \n",
       "    \n",
       "        var popup_fd2e5676d91279b45a4d36e3c504459f = L.popup({&quot;maxWidth&quot;: &quot;100%&quot;});\n",
       "\n",
       "        \n",
       "            \n",
       "                var html_0d4b28f12faa16ad1117fed02b38e359 = $(`&lt;div id=&quot;html_0d4b28f12faa16ad1117fed02b38e359&quot; style=&quot;width: 100.0%; height: 100.0%;&quot;&gt;Angelita&lt;/div&gt;`)[0];\n",
       "                popup_fd2e5676d91279b45a4d36e3c504459f.setContent(html_0d4b28f12faa16ad1117fed02b38e359);\n",
       "            \n",
       "        \n",
       "\n",
       "        marker_b08e4e54ca9a461fbecdfd9899a43342.bindPopup(popup_fd2e5676d91279b45a4d36e3c504459f)\n",
       "        ;\n",
       "\n",
       "        \n",
       "    \n",
       "    \n",
       "            var marker_dad67af593f7fb0ceb21e6342d0b2efa = L.marker(\n",
       "                [40.44087600708008, -3.7007150650024414],\n",
       "                {}\n",
       "            ).addTo(map_5d38ca04869c53bd56d06fd6c7a5ad5e);\n",
       "        \n",
       "    \n",
       "        var popup_e90ac520fc5c203c4b8940ab8241c83b = L.popup({&quot;maxWidth&quot;: &quot;100%&quot;});\n",
       "\n",
       "        \n",
       "            \n",
       "                var html_20fcad4cef64a1dbe88b3e364d3130c5 = $(`&lt;div id=&quot;html_20fcad4cef64a1dbe88b3e364d3130c5&quot; style=&quot;width: 100.0%; height: 100.0%;&quot;&gt;Lakasa&lt;/div&gt;`)[0];\n",
       "                popup_e90ac520fc5c203c4b8940ab8241c83b.setContent(html_20fcad4cef64a1dbe88b3e364d3130c5);\n",
       "            \n",
       "        \n",
       "\n",
       "        marker_dad67af593f7fb0ceb21e6342d0b2efa.bindPopup(popup_e90ac520fc5c203c4b8940ab8241c83b)\n",
       "        ;\n",
       "\n",
       "        \n",
       "    \n",
       "    \n",
       "            var marker_730c008e4885bb081865bed8ba9bb8f9 = L.marker(\n",
       "                [40.408626556396484, -3.692657470703125],\n",
       "                {}\n",
       "            ).addTo(map_5d38ca04869c53bd56d06fd6c7a5ad5e);\n",
       "        \n",
       "    \n",
       "        var popup_304cbac68a91d3964e6a15709fd6a121 = L.popup({&quot;maxWidth&quot;: &quot;100%&quot;});\n",
       "\n",
       "        \n",
       "            \n",
       "                var html_76970aadaa58e88a6e8fe8502c19a2b9 = $(`&lt;div id=&quot;html_76970aadaa58e88a6e8fe8502c19a2b9&quot; style=&quot;width: 100.0%; height: 100.0%;&quot;&gt;Moline&#x27;s Grill&lt;/div&gt;`)[0];\n",
       "                popup_304cbac68a91d3964e6a15709fd6a121.setContent(html_76970aadaa58e88a6e8fe8502c19a2b9);\n",
       "            \n",
       "        \n",
       "\n",
       "        marker_730c008e4885bb081865bed8ba9bb8f9.bindPopup(popup_304cbac68a91d3964e6a15709fd6a121)\n",
       "        ;\n",
       "\n",
       "        \n",
       "    \n",
       "    \n",
       "            var feature_group_f696182641a6fbc62836afe9dcf856a8 = L.featureGroup(\n",
       "                {}\n",
       "            ).addTo(map_5d38ca04869c53bd56d06fd6c7a5ad5e);\n",
       "        \n",
       "    \n",
       "            var circle_marker_630bed8fbd08bb2c153749fec3baba7e = L.circleMarker(\n",
       "                [40.413658142089844, -3.699429988861084],\n",
       "                {&quot;bubblingMouseEvents&quot;: true, &quot;color&quot;: &quot;blue&quot;, &quot;dashArray&quot;: null, &quot;dashOffset&quot;: null, &quot;fill&quot;: true, &quot;fillColor&quot;: &quot;yellow&quot;, &quot;fillOpacity&quot;: 0.6, &quot;fillRule&quot;: &quot;evenodd&quot;, &quot;lineCap&quot;: &quot;round&quot;, &quot;lineJoin&quot;: &quot;round&quot;, &quot;opacity&quot;: 1.0, &quot;radius&quot;: 5, &quot;stroke&quot;: true, &quot;weight&quot;: 3}\n",
       "            ).addTo(feature_group_f696182641a6fbc62836afe9dcf856a8);\n",
       "        \n",
       "    \n",
       "            var circle_marker_3ca3191ec3fde62ebb0b144aeea2f96b = L.circleMarker(\n",
       "                [40.41252136230469, -3.6954100131988525],\n",
       "                {&quot;bubblingMouseEvents&quot;: true, &quot;color&quot;: &quot;blue&quot;, &quot;dashArray&quot;: null, &quot;dashOffset&quot;: null, &quot;fill&quot;: true, &quot;fillColor&quot;: &quot;yellow&quot;, &quot;fillOpacity&quot;: 0.6, &quot;fillRule&quot;: &quot;evenodd&quot;, &quot;lineCap&quot;: &quot;round&quot;, &quot;lineJoin&quot;: &quot;round&quot;, &quot;opacity&quot;: 1.0, &quot;radius&quot;: 5, &quot;stroke&quot;: true, &quot;weight&quot;: 3}\n",
       "            ).addTo(feature_group_f696182641a6fbc62836afe9dcf856a8);\n",
       "        \n",
       "    \n",
       "            var circle_marker_f8a2f0560108690164f4c31caedfe0a1 = L.circleMarker(\n",
       "                [40.417320251464844, -3.710374355316162],\n",
       "                {&quot;bubblingMouseEvents&quot;: true, &quot;color&quot;: &quot;blue&quot;, &quot;dashArray&quot;: null, &quot;dashOffset&quot;: null, &quot;fill&quot;: true, &quot;fillColor&quot;: &quot;yellow&quot;, &quot;fillOpacity&quot;: 0.6, &quot;fillRule&quot;: &quot;evenodd&quot;, &quot;lineCap&quot;: &quot;round&quot;, &quot;lineJoin&quot;: &quot;round&quot;, &quot;opacity&quot;: 1.0, &quot;radius&quot;: 5, &quot;stroke&quot;: true, &quot;weight&quot;: 3}\n",
       "            ).addTo(feature_group_f696182641a6fbc62836afe9dcf856a8);\n",
       "        \n",
       "    \n",
       "            var circle_marker_6db97777aae2596918ee75bb2c9b39d9 = L.circleMarker(\n",
       "                [40.426544189453125, -3.6930599212646484],\n",
       "                {&quot;bubblingMouseEvents&quot;: true, &quot;color&quot;: &quot;blue&quot;, &quot;dashArray&quot;: null, &quot;dashOffset&quot;: null, &quot;fill&quot;: true, &quot;fillColor&quot;: &quot;yellow&quot;, &quot;fillOpacity&quot;: 0.6, &quot;fillRule&quot;: &quot;evenodd&quot;, &quot;lineCap&quot;: &quot;round&quot;, &quot;lineJoin&quot;: &quot;round&quot;, &quot;opacity&quot;: 1.0, &quot;radius&quot;: 5, &quot;stroke&quot;: true, &quot;weight&quot;: 3}\n",
       "            ).addTo(feature_group_f696182641a6fbc62836afe9dcf856a8);\n",
       "        \n",
       "    \n",
       "            var circle_marker_cf9b349b60cb290e15c49164958cd2a7 = L.circleMarker(\n",
       "                [40.42198944091797, -3.690229892730713],\n",
       "                {&quot;bubblingMouseEvents&quot;: true, &quot;color&quot;: &quot;blue&quot;, &quot;dashArray&quot;: null, &quot;dashOffset&quot;: null, &quot;fill&quot;: true, &quot;fillColor&quot;: &quot;yellow&quot;, &quot;fillOpacity&quot;: 0.6, &quot;fillRule&quot;: &quot;evenodd&quot;, &quot;lineCap&quot;: &quot;round&quot;, &quot;lineJoin&quot;: &quot;round&quot;, &quot;opacity&quot;: 1.0, &quot;radius&quot;: 5, &quot;stroke&quot;: true, &quot;weight&quot;: 3}\n",
       "            ).addTo(feature_group_f696182641a6fbc62836afe9dcf856a8);\n",
       "        \n",
       "    \n",
       "            var circle_marker_1d8d262ff07dc8c87589d2a40b0de4d9 = L.circleMarker(\n",
       "                [40.437870025634766, -3.6992831230163574],\n",
       "                {&quot;bubblingMouseEvents&quot;: true, &quot;color&quot;: &quot;blue&quot;, &quot;dashArray&quot;: null, &quot;dashOffset&quot;: null, &quot;fill&quot;: true, &quot;fillColor&quot;: &quot;yellow&quot;, &quot;fillOpacity&quot;: 0.6, &quot;fillRule&quot;: &quot;evenodd&quot;, &quot;lineCap&quot;: &quot;round&quot;, &quot;lineJoin&quot;: &quot;round&quot;, &quot;opacity&quot;: 1.0, &quot;radius&quot;: 5, &quot;stroke&quot;: true, &quot;weight&quot;: 3}\n",
       "            ).addTo(feature_group_f696182641a6fbc62836afe9dcf856a8);\n",
       "        \n",
       "    \n",
       "            var circle_marker_51e15d512ead9c2c3a5b45b44c97462f = L.circleMarker(\n",
       "                [40.422279357910156, -3.6737399101257324],\n",
       "                {&quot;bubblingMouseEvents&quot;: true, &quot;color&quot;: &quot;blue&quot;, &quot;dashArray&quot;: null, &quot;dashOffset&quot;: null, &quot;fill&quot;: true, &quot;fillColor&quot;: &quot;yellow&quot;, &quot;fillOpacity&quot;: 0.6, &quot;fillRule&quot;: &quot;evenodd&quot;, &quot;lineCap&quot;: &quot;round&quot;, &quot;lineJoin&quot;: &quot;round&quot;, &quot;opacity&quot;: 1.0, &quot;radius&quot;: 5, &quot;stroke&quot;: true, &quot;weight&quot;: 3}\n",
       "            ).addTo(feature_group_f696182641a6fbc62836afe9dcf856a8);\n",
       "        \n",
       "    \n",
       "            var circle_marker_ebff8d08dd33b5eee91a5104b0c1dd08 = L.circleMarker(\n",
       "                [40.4202766418457, -3.7003870010375977],\n",
       "                {&quot;bubblingMouseEvents&quot;: true, &quot;color&quot;: &quot;blue&quot;, &quot;dashArray&quot;: null, &quot;dashOffset&quot;: null, &quot;fill&quot;: true, &quot;fillColor&quot;: &quot;yellow&quot;, &quot;fillOpacity&quot;: 0.6, &quot;fillRule&quot;: &quot;evenodd&quot;, &quot;lineCap&quot;: &quot;round&quot;, &quot;lineJoin&quot;: &quot;round&quot;, &quot;opacity&quot;: 1.0, &quot;radius&quot;: 5, &quot;stroke&quot;: true, &quot;weight&quot;: 3}\n",
       "            ).addTo(feature_group_f696182641a6fbc62836afe9dcf856a8);\n",
       "        \n",
       "    \n",
       "            var circle_marker_dceaceac5e05c3f4d27c49ccb9a45e53 = L.circleMarker(\n",
       "                [40.44087600708008, -3.7007150650024414],\n",
       "                {&quot;bubblingMouseEvents&quot;: true, &quot;color&quot;: &quot;blue&quot;, &quot;dashArray&quot;: null, &quot;dashOffset&quot;: null, &quot;fill&quot;: true, &quot;fillColor&quot;: &quot;yellow&quot;, &quot;fillOpacity&quot;: 0.6, &quot;fillRule&quot;: &quot;evenodd&quot;, &quot;lineCap&quot;: &quot;round&quot;, &quot;lineJoin&quot;: &quot;round&quot;, &quot;opacity&quot;: 1.0, &quot;radius&quot;: 5, &quot;stroke&quot;: true, &quot;weight&quot;: 3}\n",
       "            ).addTo(feature_group_f696182641a6fbc62836afe9dcf856a8);\n",
       "        \n",
       "    \n",
       "            var circle_marker_aad646567a9039440a47a76bc726c4a5 = L.circleMarker(\n",
       "                [40.408626556396484, -3.692657470703125],\n",
       "                {&quot;bubblingMouseEvents&quot;: true, &quot;color&quot;: &quot;blue&quot;, &quot;dashArray&quot;: null, &quot;dashOffset&quot;: null, &quot;fill&quot;: true, &quot;fillColor&quot;: &quot;yellow&quot;, &quot;fillOpacity&quot;: 0.6, &quot;fillRule&quot;: &quot;evenodd&quot;, &quot;lineCap&quot;: &quot;round&quot;, &quot;lineJoin&quot;: &quot;round&quot;, &quot;opacity&quot;: 1.0, &quot;radius&quot;: 5, &quot;stroke&quot;: true, &quot;weight&quot;: 3}\n",
       "            ).addTo(feature_group_f696182641a6fbc62836afe9dcf856a8);\n",
       "        \n",
       "&lt;/script&gt;\n",
       "&lt;/html&gt;\" style=\"position:absolute;width:100%;height:100%;left:0;top:0;border:none !important;\" allowfullscreen webkitallowfullscreen mozallowfullscreen></iframe></div></div>"
      ]
     },
     "metadata": {
      "application/vnd.databricks.v1+output": {
       "addedWidgets": {},
       "arguments": {},
       "data": "<div style=\"width:100%;\"><div style=\"position:relative;width:100%;height:0;padding-bottom:60%;\"><span style=\"color:#565656\">Make this Notebook Trusted to load map: File -> Trust Notebook</span><iframe srcdoc=\"&lt;!DOCTYPE html&gt;\n&lt;html&gt;\n&lt;head&gt;\n    \n    &lt;meta http-equiv=&quot;content-type&quot; content=&quot;text/html; charset=UTF-8&quot; /&gt;\n    \n        &lt;script&gt;\n            L_NO_TOUCH = false;\n            L_DISABLE_3D = false;\n        &lt;/script&gt;\n    \n    &lt;style&gt;html, body {width: 100%;height: 100%;margin: 0;padding: 0;}&lt;/style&gt;\n    &lt;style&gt;#map {position:absolute;top:0;bottom:0;right:0;left:0;}&lt;/style&gt;\n    &lt;script src=&quot;https://cdn.jsdelivr.net/npm/leaflet@1.9.3/dist/leaflet.js&quot;&gt;&lt;/script&gt;\n    &lt;script src=&quot;https://code.jquery.com/jquery-1.12.4.min.js&quot;&gt;&lt;/script&gt;\n    &lt;script src=&quot;https://cdn.jsdelivr.net/npm/bootstrap@5.2.2/dist/js/bootstrap.bundle.min.js&quot;&gt;&lt;/script&gt;\n    &lt;script src=&quot;https://cdnjs.cloudflare.com/ajax/libs/Leaflet.awesome-markers/2.0.2/leaflet.awesome-markers.js&quot;&gt;&lt;/script&gt;\n    &lt;link rel=&quot;stylesheet&quot; href=&quot;https://cdn.jsdelivr.net/npm/leaflet@1.9.3/dist/leaflet.css&quot;/&gt;\n    &lt;link rel=&quot;stylesheet&quot; href=&quot;https://cdn.jsdelivr.net/npm/bootstrap@5.2.2/dist/css/bootstrap.min.css&quot;/&gt;\n    &lt;link rel=&quot;stylesheet&quot; href=&quot;https://netdna.bootstrapcdn.com/bootstrap/3.0.0/css/bootstrap.min.css&quot;/&gt;\n    &lt;link rel=&quot;stylesheet&quot; href=&quot;https://cdn.jsdelivr.net/npm/@fortawesome/fontawesome-free@6.2.0/css/all.min.css&quot;/&gt;\n    &lt;link rel=&quot;stylesheet&quot; href=&quot;https://cdnjs.cloudflare.com/ajax/libs/Leaflet.awesome-markers/2.0.2/leaflet.awesome-markers.css&quot;/&gt;\n    &lt;link rel=&quot;stylesheet&quot; href=&quot;https://cdn.jsdelivr.net/gh/python-visualization/folium/folium/templates/leaflet.awesome.rotate.min.css&quot;/&gt;\n    \n            &lt;meta name=&quot;viewport&quot; content=&quot;width=device-width,\n                initial-scale=1.0, maximum-scale=1.0, user-scalable=no&quot; /&gt;\n            &lt;style&gt;\n                #map_5d38ca04869c53bd56d06fd6c7a5ad5e {\n                    position: relative;\n                    width: 100.0%;\n                    height: 100.0%;\n                    left: 0.0%;\n                    top: 0.0%;\n                }\n                .leaflet-container { font-size: 1rem; }\n            &lt;/style&gt;\n        \n&lt;/head&gt;\n&lt;body&gt;\n    \n    \n            &lt;div class=&quot;folium-map&quot; id=&quot;map_5d38ca04869c53bd56d06fd6c7a5ad5e&quot; &gt;&lt;/div&gt;\n        \n&lt;/body&gt;\n&lt;script&gt;\n    \n    \n            var map_5d38ca04869c53bd56d06fd6c7a5ad5e = L.map(\n                &quot;map_5d38ca04869c53bd56d06fd6c7a5ad5e&quot;,\n                {\n                    center: [40.416775, -3.70379],\n                    crs: L.CRS.EPSG3857,\n                    zoom: 12,\n                    zoomControl: true,\n                    preferCanvas: false,\n                }\n            );\n\n            \n\n        \n    \n            var tile_layer_d2f258e0d58fb5e8f5434c146f7ded49 = L.tileLayer(\n                &quot;https://{s}.tile.openstreetmap.org/{z}/{x}/{y}.png&quot;,\n                {&quot;attribution&quot;: &quot;Data by \\u0026copy; \\u003ca target=\\&quot;_blank\\&quot; href=\\&quot;http://openstreetmap.org\\&quot;\\u003eOpenStreetMap\\u003c/a\\u003e, under \\u003ca target=\\&quot;_blank\\&quot; href=\\&quot;http://www.openstreetmap.org/copyright\\&quot;\\u003eODbL\\u003c/a\\u003e.&quot;, &quot;detectRetina&quot;: false, &quot;maxNativeZoom&quot;: 18, &quot;maxZoom&quot;: 18, &quot;minZoom&quot;: 0, &quot;noWrap&quot;: false, &quot;opacity&quot;: 1, &quot;subdomains&quot;: &quot;abc&quot;, &quot;tms&quot;: false}\n            ).addTo(map_5d38ca04869c53bd56d06fd6c7a5ad5e);\n        \n    \n            var marker_0ce2e0493fc4f68f3ec35935a11f8c82 = L.marker(\n                [40.413658142089844, -3.699429988861084],\n                {}\n            ).addTo(map_5d38ca04869c53bd56d06fd6c7a5ad5e);\n        \n    \n        var popup_5caf7cf48c2cf069a764c64859859c61 = L.popup({&quot;maxWidth&quot;: &quot;100%&quot;});\n\n        \n            \n                var html_ccd51fb05dd1a2d4398a9185dfed058a = $(`&lt;div id=&quot;html_ccd51fb05dd1a2d4398a9185dfed058a&quot; style=&quot;width: 100.0%; height: 100.0%;&quot;&gt;Taberna El Sur de Huertas&lt;/div&gt;`)[0];\n                popup_5caf7cf48c2cf069a764c64859859c61.setContent(html_ccd51fb05dd1a2d4398a9185dfed058a);\n            \n        \n\n        marker_0ce2e0493fc4f68f3ec35935a11f8c82.bindPopup(popup_5caf7cf48c2cf069a764c64859859c61)\n        ;\n\n        \n    \n    \n            var marker_7cdc2310f09ac3a3d38f391c90b1eb51 = L.marker(\n                [40.41252136230469, -3.6954100131988525],\n                {}\n            ).addTo(map_5d38ca04869c53bd56d06fd6c7a5ad5e);\n        \n    \n        var popup_22a4ca3dc7342959f953e0575b05ca5c = L.popup({&quot;maxWidth&quot;: &quot;100%&quot;});\n\n        \n            \n                var html_cb41b4841fcd31ee22ec1904a3615948 = $(`&lt;div id=&quot;html_cb41b4841fcd31ee22ec1904a3615948&quot; style=&quot;width: 100.0%; height: 100.0%;&quot;&gt;Vinoteca Moratín&lt;/div&gt;`)[0];\n                popup_22a4ca3dc7342959f953e0575b05ca5c.setContent(html_cb41b4841fcd31ee22ec1904a3615948);\n            \n        \n\n        marker_7cdc2310f09ac3a3d38f391c90b1eb51.bindPopup(popup_22a4ca3dc7342959f953e0575b05ca5c)\n        ;\n\n        \n    \n    \n            var marker_f1c7caedfda684c811d6d6678051bd70 = L.marker(\n                [40.417320251464844, -3.710374355316162],\n                {}\n            ).addTo(map_5d38ca04869c53bd56d06fd6c7a5ad5e);\n        \n    \n        var popup_94beca3f615a07838101abd8197f76c0 = L.popup({&quot;maxWidth&quot;: &quot;100%&quot;});\n\n        \n            \n                var html_99fa34404ef3a8f257242acb743f3501 = $(`&lt;div id=&quot;html_99fa34404ef3a8f257242acb743f3501&quot; style=&quot;width: 100.0%; height: 100.0%;&quot;&gt;Algarabía&lt;/div&gt;`)[0];\n                popup_94beca3f615a07838101abd8197f76c0.setContent(html_99fa34404ef3a8f257242acb743f3501);\n            \n        \n\n        marker_f1c7caedfda684c811d6d6678051bd70.bindPopup(popup_94beca3f615a07838101abd8197f76c0)\n        ;\n\n        \n    \n    \n            var marker_e3af586dacb9ea6c95b69ace42418ec5 = L.marker(\n                [40.426544189453125, -3.6930599212646484],\n                {}\n            ).addTo(map_5d38ca04869c53bd56d06fd6c7a5ad5e);\n        \n    \n        var popup_95ef4a94999e0407f093654ed20cd97f = L.popup({&quot;maxWidth&quot;: &quot;100%&quot;});\n\n        \n            \n                var html_289b240cd0010ae32ac1312908e015d4 = $(`&lt;div id=&quot;html_289b240cd0010ae32ac1312908e015d4&quot; style=&quot;width: 100.0%; height: 100.0%;&quot;&gt;La Garriga&lt;/div&gt;`)[0];\n                popup_95ef4a94999e0407f093654ed20cd97f.setContent(html_289b240cd0010ae32ac1312908e015d4);\n            \n        \n\n        marker_e3af586dacb9ea6c95b69ace42418ec5.bindPopup(popup_95ef4a94999e0407f093654ed20cd97f)\n        ;\n\n        \n    \n    \n            var marker_3e60b534e22179d8c1eb49a5abee3a3d = L.marker(\n                [40.42198944091797, -3.690229892730713],\n                {}\n            ).addTo(map_5d38ca04869c53bd56d06fd6c7a5ad5e);\n        \n    \n        var popup_aa505f8d92fddd64cd33138cc2b087d1 = L.popup({&quot;maxWidth&quot;: &quot;100%&quot;});\n\n        \n            \n                var html_6b79dbb55568cba977950c962add973d = $(`&lt;div id=&quot;html_6b79dbb55568cba977950c962add973d&quot; style=&quot;width: 100.0%; height: 100.0%;&quot;&gt;El Barril&lt;/div&gt;`)[0];\n                popup_aa505f8d92fddd64cd33138cc2b087d1.setContent(html_6b79dbb55568cba977950c962add973d);\n            \n        \n\n        marker_3e60b534e22179d8c1eb49a5abee3a3d.bindPopup(popup_aa505f8d92fddd64cd33138cc2b087d1)\n        ;\n\n        \n    \n    \n            var marker_9a3efb4e0b221b87a0a627ba84b3f56a = L.marker(\n                [40.437870025634766, -3.6992831230163574],\n                {}\n            ).addTo(map_5d38ca04869c53bd56d06fd6c7a5ad5e);\n        \n    \n        var popup_61c1855eef6a8708afa414f5b0ef48a1 = L.popup({&quot;maxWidth&quot;: &quot;100%&quot;});\n\n        \n            \n                var html_79ac7357bbdc710a68ab8f50e0fc6ef5 = $(`&lt;div id=&quot;html_79ac7357bbdc710a68ab8f50e0fc6ef5&quot; style=&quot;width: 100.0%; height: 100.0%;&quot;&gt;Los Arcos&lt;/div&gt;`)[0];\n                popup_61c1855eef6a8708afa414f5b0ef48a1.setContent(html_79ac7357bbdc710a68ab8f50e0fc6ef5);\n            \n        \n\n        marker_9a3efb4e0b221b87a0a627ba84b3f56a.bindPopup(popup_61c1855eef6a8708afa414f5b0ef48a1)\n        ;\n\n        \n    \n    \n            var marker_a6d532b99f79fd90c87297153afd2f19 = L.marker(\n                [40.422279357910156, -3.6737399101257324],\n                {}\n            ).addTo(map_5d38ca04869c53bd56d06fd6c7a5ad5e);\n        \n    \n        var popup_c37d92e978527e63c75b95300dc9e6d8 = L.popup({&quot;maxWidth&quot;: &quot;100%&quot;});\n\n        \n            \n                var html_30d164d04e085b88e6752e6f62a492ef = $(`&lt;div id=&quot;html_30d164d04e085b88e6752e6f62a492ef&quot; style=&quot;width: 100.0%; height: 100.0%;&quot;&gt;La Tasqueria&lt;/div&gt;`)[0];\n                popup_c37d92e978527e63c75b95300dc9e6d8.setContent(html_30d164d04e085b88e6752e6f62a492ef);\n            \n        \n\n        marker_a6d532b99f79fd90c87297153afd2f19.bindPopup(popup_c37d92e978527e63c75b95300dc9e6d8)\n        ;\n\n        \n    \n    \n            var marker_b08e4e54ca9a461fbecdfd9899a43342 = L.marker(\n                [40.4202766418457, -3.7003870010375977],\n                {}\n            ).addTo(map_5d38ca04869c53bd56d06fd6c7a5ad5e);\n        \n    \n        var popup_fd2e5676d91279b45a4d36e3c504459f = L.popup({&quot;maxWidth&quot;: &quot;100%&quot;});\n\n        \n            \n                var html_0d4b28f12faa16ad1117fed02b38e359 = $(`&lt;div id=&quot;html_0d4b28f12faa16ad1117fed02b38e359&quot; style=&quot;width: 100.0%; height: 100.0%;&quot;&gt;Angelita&lt;/div&gt;`)[0];\n                popup_fd2e5676d91279b45a4d36e3c504459f.setContent(html_0d4b28f12faa16ad1117fed02b38e359);\n            \n        \n\n        marker_b08e4e54ca9a461fbecdfd9899a43342.bindPopup(popup_fd2e5676d91279b45a4d36e3c504459f)\n        ;\n\n        \n    \n    \n            var marker_dad67af593f7fb0ceb21e6342d0b2efa = L.marker(\n                [40.44087600708008, -3.7007150650024414],\n                {}\n            ).addTo(map_5d38ca04869c53bd56d06fd6c7a5ad5e);\n        \n    \n        var popup_e90ac520fc5c203c4b8940ab8241c83b = L.popup({&quot;maxWidth&quot;: &quot;100%&quot;});\n\n        \n            \n                var html_20fcad4cef64a1dbe88b3e364d3130c5 = $(`&lt;div id=&quot;html_20fcad4cef64a1dbe88b3e364d3130c5&quot; style=&quot;width: 100.0%; height: 100.0%;&quot;&gt;Lakasa&lt;/div&gt;`)[0];\n                popup_e90ac520fc5c203c4b8940ab8241c83b.setContent(html_20fcad4cef64a1dbe88b3e364d3130c5);\n            \n        \n\n        marker_dad67af593f7fb0ceb21e6342d0b2efa.bindPopup(popup_e90ac520fc5c203c4b8940ab8241c83b)\n        ;\n\n        \n    \n    \n            var marker_730c008e4885bb081865bed8ba9bb8f9 = L.marker(\n                [40.408626556396484, -3.692657470703125],\n                {}\n            ).addTo(map_5d38ca04869c53bd56d06fd6c7a5ad5e);\n        \n    \n        var popup_304cbac68a91d3964e6a15709fd6a121 = L.popup({&quot;maxWidth&quot;: &quot;100%&quot;});\n\n        \n            \n                var html_76970aadaa58e88a6e8fe8502c19a2b9 = $(`&lt;div id=&quot;html_76970aadaa58e88a6e8fe8502c19a2b9&quot; style=&quot;width: 100.0%; height: 100.0%;&quot;&gt;Moline&#x27;s Grill&lt;/div&gt;`)[0];\n                popup_304cbac68a91d3964e6a15709fd6a121.setContent(html_76970aadaa58e88a6e8fe8502c19a2b9);\n            \n        \n\n        marker_730c008e4885bb081865bed8ba9bb8f9.bindPopup(popup_304cbac68a91d3964e6a15709fd6a121)\n        ;\n\n        \n    \n    \n            var feature_group_f696182641a6fbc62836afe9dcf856a8 = L.featureGroup(\n                {}\n            ).addTo(map_5d38ca04869c53bd56d06fd6c7a5ad5e);\n        \n    \n            var circle_marker_630bed8fbd08bb2c153749fec3baba7e = L.circleMarker(\n                [40.413658142089844, -3.699429988861084],\n                {&quot;bubblingMouseEvents&quot;: true, &quot;color&quot;: &quot;blue&quot;, &quot;dashArray&quot;: null, &quot;dashOffset&quot;: null, &quot;fill&quot;: true, &quot;fillColor&quot;: &quot;yellow&quot;, &quot;fillOpacity&quot;: 0.6, &quot;fillRule&quot;: &quot;evenodd&quot;, &quot;lineCap&quot;: &quot;round&quot;, &quot;lineJoin&quot;: &quot;round&quot;, &quot;opacity&quot;: 1.0, &quot;radius&quot;: 5, &quot;stroke&quot;: true, &quot;weight&quot;: 3}\n            ).addTo(feature_group_f696182641a6fbc62836afe9dcf856a8);\n        \n    \n            var circle_marker_3ca3191ec3fde62ebb0b144aeea2f96b = L.circleMarker(\n                [40.41252136230469, -3.6954100131988525],\n                {&quot;bubblingMouseEvents&quot;: true, &quot;color&quot;: &quot;blue&quot;, &quot;dashArray&quot;: null, &quot;dashOffset&quot;: null, &quot;fill&quot;: true, &quot;fillColor&quot;: &quot;yellow&quot;, &quot;fillOpacity&quot;: 0.6, &quot;fillRule&quot;: &quot;evenodd&quot;, &quot;lineCap&quot;: &quot;round&quot;, &quot;lineJoin&quot;: &quot;round&quot;, &quot;opacity&quot;: 1.0, &quot;radius&quot;: 5, &quot;stroke&quot;: true, &quot;weight&quot;: 3}\n            ).addTo(feature_group_f696182641a6fbc62836afe9dcf856a8);\n        \n    \n            var circle_marker_f8a2f0560108690164f4c31caedfe0a1 = L.circleMarker(\n                [40.417320251464844, -3.710374355316162],\n                {&quot;bubblingMouseEvents&quot;: true, &quot;color&quot;: &quot;blue&quot;, &quot;dashArray&quot;: null, &quot;dashOffset&quot;: null, &quot;fill&quot;: true, &quot;fillColor&quot;: &quot;yellow&quot;, &quot;fillOpacity&quot;: 0.6, &quot;fillRule&quot;: &quot;evenodd&quot;, &quot;lineCap&quot;: &quot;round&quot;, &quot;lineJoin&quot;: &quot;round&quot;, &quot;opacity&quot;: 1.0, &quot;radius&quot;: 5, &quot;stroke&quot;: true, &quot;weight&quot;: 3}\n            ).addTo(feature_group_f696182641a6fbc62836afe9dcf856a8);\n        \n    \n            var circle_marker_6db97777aae2596918ee75bb2c9b39d9 = L.circleMarker(\n                [40.426544189453125, -3.6930599212646484],\n                {&quot;bubblingMouseEvents&quot;: true, &quot;color&quot;: &quot;blue&quot;, &quot;dashArray&quot;: null, &quot;dashOffset&quot;: null, &quot;fill&quot;: true, &quot;fillColor&quot;: &quot;yellow&quot;, &quot;fillOpacity&quot;: 0.6, &quot;fillRule&quot;: &quot;evenodd&quot;, &quot;lineCap&quot;: &quot;round&quot;, &quot;lineJoin&quot;: &quot;round&quot;, &quot;opacity&quot;: 1.0, &quot;radius&quot;: 5, &quot;stroke&quot;: true, &quot;weight&quot;: 3}\n            ).addTo(feature_group_f696182641a6fbc62836afe9dcf856a8);\n        \n    \n            var circle_marker_cf9b349b60cb290e15c49164958cd2a7 = L.circleMarker(\n                [40.42198944091797, -3.690229892730713],\n                {&quot;bubblingMouseEvents&quot;: true, &quot;color&quot;: &quot;blue&quot;, &quot;dashArray&quot;: null, &quot;dashOffset&quot;: null, &quot;fill&quot;: true, &quot;fillColor&quot;: &quot;yellow&quot;, &quot;fillOpacity&quot;: 0.6, &quot;fillRule&quot;: &quot;evenodd&quot;, &quot;lineCap&quot;: &quot;round&quot;, &quot;lineJoin&quot;: &quot;round&quot;, &quot;opacity&quot;: 1.0, &quot;radius&quot;: 5, &quot;stroke&quot;: true, &quot;weight&quot;: 3}\n            ).addTo(feature_group_f696182641a6fbc62836afe9dcf856a8);\n        \n    \n            var circle_marker_1d8d262ff07dc8c87589d2a40b0de4d9 = L.circleMarker(\n                [40.437870025634766, -3.6992831230163574],\n                {&quot;bubblingMouseEvents&quot;: true, &quot;color&quot;: &quot;blue&quot;, &quot;dashArray&quot;: null, &quot;dashOffset&quot;: null, &quot;fill&quot;: true, &quot;fillColor&quot;: &quot;yellow&quot;, &quot;fillOpacity&quot;: 0.6, &quot;fillRule&quot;: &quot;evenodd&quot;, &quot;lineCap&quot;: &quot;round&quot;, &quot;lineJoin&quot;: &quot;round&quot;, &quot;opacity&quot;: 1.0, &quot;radius&quot;: 5, &quot;stroke&quot;: true, &quot;weight&quot;: 3}\n            ).addTo(feature_group_f696182641a6fbc62836afe9dcf856a8);\n        \n    \n            var circle_marker_51e15d512ead9c2c3a5b45b44c97462f = L.circleMarker(\n                [40.422279357910156, -3.6737399101257324],\n                {&quot;bubblingMouseEvents&quot;: true, &quot;color&quot;: &quot;blue&quot;, &quot;dashArray&quot;: null, &quot;dashOffset&quot;: null, &quot;fill&quot;: true, &quot;fillColor&quot;: &quot;yellow&quot;, &quot;fillOpacity&quot;: 0.6, &quot;fillRule&quot;: &quot;evenodd&quot;, &quot;lineCap&quot;: &quot;round&quot;, &quot;lineJoin&quot;: &quot;round&quot;, &quot;opacity&quot;: 1.0, &quot;radius&quot;: 5, &quot;stroke&quot;: true, &quot;weight&quot;: 3}\n            ).addTo(feature_group_f696182641a6fbc62836afe9dcf856a8);\n        \n    \n            var circle_marker_ebff8d08dd33b5eee91a5104b0c1dd08 = L.circleMarker(\n                [40.4202766418457, -3.7003870010375977],\n                {&quot;bubblingMouseEvents&quot;: true, &quot;color&quot;: &quot;blue&quot;, &quot;dashArray&quot;: null, &quot;dashOffset&quot;: null, &quot;fill&quot;: true, &quot;fillColor&quot;: &quot;yellow&quot;, &quot;fillOpacity&quot;: 0.6, &quot;fillRule&quot;: &quot;evenodd&quot;, &quot;lineCap&quot;: &quot;round&quot;, &quot;lineJoin&quot;: &quot;round&quot;, &quot;opacity&quot;: 1.0, &quot;radius&quot;: 5, &quot;stroke&quot;: true, &quot;weight&quot;: 3}\n            ).addTo(feature_group_f696182641a6fbc62836afe9dcf856a8);\n        \n    \n            var circle_marker_dceaceac5e05c3f4d27c49ccb9a45e53 = L.circleMarker(\n                [40.44087600708008, -3.7007150650024414],\n                {&quot;bubblingMouseEvents&quot;: true, &quot;color&quot;: &quot;blue&quot;, &quot;dashArray&quot;: null, &quot;dashOffset&quot;: null, &quot;fill&quot;: true, &quot;fillColor&quot;: &quot;yellow&quot;, &quot;fillOpacity&quot;: 0.6, &quot;fillRule&quot;: &quot;evenodd&quot;, &quot;lineCap&quot;: &quot;round&quot;, &quot;lineJoin&quot;: &quot;round&quot;, &quot;opacity&quot;: 1.0, &quot;radius&quot;: 5, &quot;stroke&quot;: true, &quot;weight&quot;: 3}\n            ).addTo(feature_group_f696182641a6fbc62836afe9dcf856a8);\n        \n    \n            var circle_marker_aad646567a9039440a47a76bc726c4a5 = L.circleMarker(\n                [40.408626556396484, -3.692657470703125],\n                {&quot;bubblingMouseEvents&quot;: true, &quot;color&quot;: &quot;blue&quot;, &quot;dashArray&quot;: null, &quot;dashOffset&quot;: null, &quot;fill&quot;: true, &quot;fillColor&quot;: &quot;yellow&quot;, &quot;fillOpacity&quot;: 0.6, &quot;fillRule&quot;: &quot;evenodd&quot;, &quot;lineCap&quot;: &quot;round&quot;, &quot;lineJoin&quot;: &quot;round&quot;, &quot;opacity&quot;: 1.0, &quot;radius&quot;: 5, &quot;stroke&quot;: true, &quot;weight&quot;: 3}\n            ).addTo(feature_group_f696182641a6fbc62836afe9dcf856a8);\n        \n&lt;/script&gt;\n&lt;/html&gt;\" style=\"position:absolute;width:100%;height:100%;left:0;top:0;border:none !important;\" allowfullscreen webkitallowfullscreen mozallowfullscreen></iframe></div></div>",
       "datasetInfos": [],
       "metadata": {},
       "removedWidgets": [],
       "textData": null,
       "type": "htmlSandbox"
      }
     },
     "output_type": "display_data"
    }
   ],
   "source": [
    "# instantiate a feature group for the incidents in the dataframe\n",
    "restaurants = folium.map.FeatureGroup()\n",
    "\n",
    "#loop through the 100 crimes and add each to the incidents feature group\n",
    "for lat, lng, in zip(df1.latitude, df1.longitude):\n",
    "    restaurants.add_child(\n",
    "        folium.features.CircleMarker(\n",
    "            [lat, lng],\n",
    "            radius=5, # define how big you want the circle markers to be\n",
    "            color='blue',\n",
    "            fill=True,\n",
    "            fill_color='yellow',\n",
    "            fill_opacity=0.6\n",
    "        )\n",
    "    )\n",
    "\n",
    "# add pop-up text to each marker on the map\n",
    "latitudes = list(df1.latitude)\n",
    "longitudes = list(df1.longitude)\n",
    "labels = list(df1.name)\n",
    "for lat, lng, label in zip(latitudes, longitudes, labels):\n",
    "    folium.Marker([lat, lng], popup=label).add_to(madrid_map) \n",
    " \n",
    "# add restaurants to map\n",
    "madrid_map.add_child(restaurants)"
   ]
  },
  {
   "cell_type": "markdown",
   "metadata": {
    "application/vnd.databricks.v1+cell": {
     "cellMetadata": {},
     "inputWidgets": {},
     "nuid": "49b72482-4f99-4368-ba59-f9db9fa50582",
     "showTitle": false,
     "title": ""
    }
   },
   "source": [
    "### Query 2\n",
    "Map with top 10 restaurants in the city by review counts"
   ]
  },
  {
   "cell_type": "code",
   "execution_count": 0,
   "metadata": {
    "application/vnd.databricks.v1+cell": {
     "cellMetadata": {},
     "inputWidgets": {},
     "nuid": "ec941bad-0910-4987-872a-7069e9dee311",
     "showTitle": false,
     "title": ""
    }
   },
   "outputs": [],
   "source": [
    "q2 = data.sort(\"review_count\", ascending=False)\n",
    "df2 = q2.toPandas()\n",
    "limit = 10\n",
    "df2 = df2.iloc[0:limit, :]"
   ]
  },
  {
   "cell_type": "code",
   "execution_count": 0,
   "metadata": {
    "application/vnd.databricks.v1+cell": {
     "cellMetadata": {},
     "inputWidgets": {},
     "nuid": "17e849f9-9dd3-400c-b2ee-3f6f5e174900",
     "showTitle": false,
     "title": ""
    }
   },
   "outputs": [
    {
     "output_type": "display_data",
     "data": {
      "text/html": [
       "<div>\n",
       "<style scoped>\n",
       "    .dataframe tbody tr th:only-of-type {\n",
       "        vertical-align: middle;\n",
       "    }\n",
       "\n",
       "    .dataframe tbody tr th {\n",
       "        vertical-align: top;\n",
       "    }\n",
       "\n",
       "    .dataframe thead th {\n",
       "        text-align: right;\n",
       "    }\n",
       "</style>\n",
       "<table border=\"1\" class=\"dataframe\">\n",
       "  <thead>\n",
       "    <tr style=\"text-align: right;\">\n",
       "      <th></th>\n",
       "      <th>name</th>\n",
       "      <th>review_count</th>\n",
       "      <th>categories</th>\n",
       "      <th>rating</th>\n",
       "      <th>latitude</th>\n",
       "      <th>price</th>\n",
       "      <th>distance</th>\n",
       "      <th>longitude</th>\n",
       "      <th>postal_code</th>\n",
       "    </tr>\n",
       "  </thead>\n",
       "  <tbody>\n",
       "    <tr>\n",
       "      <th>0</th>\n",
       "      <td>El Sur</td>\n",
       "      <td>769.0</td>\n",
       "      <td>Spanish</td>\n",
       "      <td>4.5</td>\n",
       "      <td>40.411049</td>\n",
       "      <td>2.0</td>\n",
       "      <td>1323.9351440693945</td>\n",
       "      <td>-3.699545</td>\n",
       "      <td>28012</td>\n",
       "    </tr>\n",
       "    <tr>\n",
       "      <th>1</th>\n",
       "      <td>Botín</td>\n",
       "      <td>615.0</td>\n",
       "      <td>Spanish</td>\n",
       "      <td>4.0</td>\n",
       "      <td>40.414059</td>\n",
       "      <td>3.0</td>\n",
       "      <td>1304.2170679660362</td>\n",
       "      <td>-3.708030</td>\n",
       "      <td>28005</td>\n",
       "    </tr>\n",
       "    <tr>\n",
       "      <th>2</th>\n",
       "      <td>Alhambra</td>\n",
       "      <td>448.0</td>\n",
       "      <td>Spanish</td>\n",
       "      <td>4.0</td>\n",
       "      <td>40.415871</td>\n",
       "      <td>2.0</td>\n",
       "      <td>847.3790987480967</td>\n",
       "      <td>-3.701600</td>\n",
       "      <td>28012</td>\n",
       "    </tr>\n",
       "    <tr>\n",
       "      <th>3</th>\n",
       "      <td>Takos al Pastor</td>\n",
       "      <td>418.0</td>\n",
       "      <td>Mexican</td>\n",
       "      <td>4.5</td>\n",
       "      <td>40.418964</td>\n",
       "      <td>1.0</td>\n",
       "      <td>671.6237992836653</td>\n",
       "      <td>-3.703647</td>\n",
       "      <td>28013</td>\n",
       "    </tr>\n",
       "    <tr>\n",
       "      <th>4</th>\n",
       "      <td>El Tigre</td>\n",
       "      <td>366.0</td>\n",
       "      <td>Spanish</td>\n",
       "      <td>3.5</td>\n",
       "      <td>40.420254</td>\n",
       "      <td>1.0</td>\n",
       "      <td>290.9915674469935</td>\n",
       "      <td>-3.697913</td>\n",
       "      <td>28004</td>\n",
       "    </tr>\n",
       "    <tr>\n",
       "      <th>5</th>\n",
       "      <td>Juana la Loca</td>\n",
       "      <td>216.0</td>\n",
       "      <td>Mexican</td>\n",
       "      <td>4.5</td>\n",
       "      <td>40.411358</td>\n",
       "      <td>3.0</td>\n",
       "      <td>1715.626437811679</td>\n",
       "      <td>-3.711094</td>\n",
       "      <td>28005</td>\n",
       "    </tr>\n",
       "    <tr>\n",
       "      <th>6</th>\n",
       "      <td>Malaspina</td>\n",
       "      <td>210.0</td>\n",
       "      <td>Spanish</td>\n",
       "      <td>4.0</td>\n",
       "      <td>40.415821</td>\n",
       "      <td>1.0</td>\n",
       "      <td>880.0271748434934</td>\n",
       "      <td>-3.702530</td>\n",
       "      <td>28012</td>\n",
       "    </tr>\n",
       "    <tr>\n",
       "      <th>7</th>\n",
       "      <td>Celso y Manolo</td>\n",
       "      <td>182.0</td>\n",
       "      <td>Spanish</td>\n",
       "      <td>4.5</td>\n",
       "      <td>40.420185</td>\n",
       "      <td>2.0</td>\n",
       "      <td>297.6040361411656</td>\n",
       "      <td>-3.697477</td>\n",
       "      <td>28004</td>\n",
       "    </tr>\n",
       "    <tr>\n",
       "      <th>8</th>\n",
       "      <td>Rosi La Loca</td>\n",
       "      <td>180.0</td>\n",
       "      <td>Spanish</td>\n",
       "      <td>4.5</td>\n",
       "      <td>40.415813</td>\n",
       "      <td>3.0</td>\n",
       "      <td>906.7764467348135</td>\n",
       "      <td>-3.702979</td>\n",
       "      <td>28012</td>\n",
       "    </tr>\n",
       "    <tr>\n",
       "      <th>9</th>\n",
       "      <td>Federal</td>\n",
       "      <td>180.0</td>\n",
       "      <td>Burgers</td>\n",
       "      <td>4.0</td>\n",
       "      <td>40.427052</td>\n",
       "      <td>2.0</td>\n",
       "      <td>1090.3118768624156</td>\n",
       "      <td>-3.709230</td>\n",
       "      <td>28015</td>\n",
       "    </tr>\n",
       "  </tbody>\n",
       "</table>\n",
       "</div>"
      ]
     },
     "metadata": {
      "application/vnd.databricks.v1+output": {
       "addedWidgets": {},
       "arguments": {},
       "data": "<div>\n<style scoped>\n    .dataframe tbody tr th:only-of-type {\n        vertical-align: middle;\n    }\n\n    .dataframe tbody tr th {\n        vertical-align: top;\n    }\n\n    .dataframe thead th {\n        text-align: right;\n    }\n</style>\n<table border=\"1\" class=\"dataframe\">\n  <thead>\n    <tr style=\"text-align: right;\">\n      <th></th>\n      <th>name</th>\n      <th>review_count</th>\n      <th>categories</th>\n      <th>rating</th>\n      <th>latitude</th>\n      <th>price</th>\n      <th>distance</th>\n      <th>longitude</th>\n      <th>postal_code</th>\n    </tr>\n  </thead>\n  <tbody>\n    <tr>\n      <th>0</th>\n      <td>El Sur</td>\n      <td>769.0</td>\n      <td>Spanish</td>\n      <td>4.5</td>\n      <td>40.411049</td>\n      <td>2.0</td>\n      <td>1323.9351440693945</td>\n      <td>-3.699545</td>\n      <td>28012</td>\n    </tr>\n    <tr>\n      <th>1</th>\n      <td>Botín</td>\n      <td>615.0</td>\n      <td>Spanish</td>\n      <td>4.0</td>\n      <td>40.414059</td>\n      <td>3.0</td>\n      <td>1304.2170679660362</td>\n      <td>-3.708030</td>\n      <td>28005</td>\n    </tr>\n    <tr>\n      <th>2</th>\n      <td>Alhambra</td>\n      <td>448.0</td>\n      <td>Spanish</td>\n      <td>4.0</td>\n      <td>40.415871</td>\n      <td>2.0</td>\n      <td>847.3790987480967</td>\n      <td>-3.701600</td>\n      <td>28012</td>\n    </tr>\n    <tr>\n      <th>3</th>\n      <td>Takos al Pastor</td>\n      <td>418.0</td>\n      <td>Mexican</td>\n      <td>4.5</td>\n      <td>40.418964</td>\n      <td>1.0</td>\n      <td>671.6237992836653</td>\n      <td>-3.703647</td>\n      <td>28013</td>\n    </tr>\n    <tr>\n      <th>4</th>\n      <td>El Tigre</td>\n      <td>366.0</td>\n      <td>Spanish</td>\n      <td>3.5</td>\n      <td>40.420254</td>\n      <td>1.0</td>\n      <td>290.9915674469935</td>\n      <td>-3.697913</td>\n      <td>28004</td>\n    </tr>\n    <tr>\n      <th>5</th>\n      <td>Juana la Loca</td>\n      <td>216.0</td>\n      <td>Mexican</td>\n      <td>4.5</td>\n      <td>40.411358</td>\n      <td>3.0</td>\n      <td>1715.626437811679</td>\n      <td>-3.711094</td>\n      <td>28005</td>\n    </tr>\n    <tr>\n      <th>6</th>\n      <td>Malaspina</td>\n      <td>210.0</td>\n      <td>Spanish</td>\n      <td>4.0</td>\n      <td>40.415821</td>\n      <td>1.0</td>\n      <td>880.0271748434934</td>\n      <td>-3.702530</td>\n      <td>28012</td>\n    </tr>\n    <tr>\n      <th>7</th>\n      <td>Celso y Manolo</td>\n      <td>182.0</td>\n      <td>Spanish</td>\n      <td>4.5</td>\n      <td>40.420185</td>\n      <td>2.0</td>\n      <td>297.6040361411656</td>\n      <td>-3.697477</td>\n      <td>28004</td>\n    </tr>\n    <tr>\n      <th>8</th>\n      <td>Rosi La Loca</td>\n      <td>180.0</td>\n      <td>Spanish</td>\n      <td>4.5</td>\n      <td>40.415813</td>\n      <td>3.0</td>\n      <td>906.7764467348135</td>\n      <td>-3.702979</td>\n      <td>28012</td>\n    </tr>\n    <tr>\n      <th>9</th>\n      <td>Federal</td>\n      <td>180.0</td>\n      <td>Burgers</td>\n      <td>4.0</td>\n      <td>40.427052</td>\n      <td>2.0</td>\n      <td>1090.3118768624156</td>\n      <td>-3.709230</td>\n      <td>28015</td>\n    </tr>\n  </tbody>\n</table>\n</div>",
       "datasetInfos": [],
       "metadata": {},
       "removedWidgets": [],
       "textData": null,
       "type": "htmlSandbox"
      }
     },
     "output_type": "display_data"
    }
   ],
   "source": [
    "df2"
   ]
  },
  {
   "cell_type": "code",
   "execution_count": 0,
   "metadata": {
    "application/vnd.databricks.v1+cell": {
     "cellMetadata": {},
     "inputWidgets": {},
     "nuid": "98938183-473a-4445-b489-59b117068407",
     "showTitle": false,
     "title": ""
    }
   },
   "outputs": [],
   "source": [
    "# Madrid coordinates\n",
    "latitude = 40.416775\n",
    "longitude = -3.703790\n",
    "\n",
    "# create map\n",
    "madrid_map = folium.Map(location=[latitude, longitude], zoom_start=12)"
   ]
  },
  {
   "cell_type": "code",
   "execution_count": 0,
   "metadata": {
    "application/vnd.databricks.v1+cell": {
     "cellMetadata": {},
     "inputWidgets": {},
     "nuid": "f80fcd42-8a7b-4850-a81d-96551da6a93c",
     "showTitle": false,
     "title": ""
    }
   },
   "outputs": [
    {
     "output_type": "display_data",
     "data": {
      "text/html": [
       "<div style=\"width:100%;\"><div style=\"position:relative;width:100%;height:0;padding-bottom:60%;\"><span style=\"color:#565656\">Make this Notebook Trusted to load map: File -> Trust Notebook</span><iframe srcdoc=\"&lt;!DOCTYPE html&gt;\n",
       "&lt;html&gt;\n",
       "&lt;head&gt;\n",
       "    \n",
       "    &lt;meta http-equiv=&quot;content-type&quot; content=&quot;text/html; charset=UTF-8&quot; /&gt;\n",
       "    \n",
       "        &lt;script&gt;\n",
       "            L_NO_TOUCH = false;\n",
       "            L_DISABLE_3D = false;\n",
       "        &lt;/script&gt;\n",
       "    \n",
       "    &lt;style&gt;html, body {width: 100%;height: 100%;margin: 0;padding: 0;}&lt;/style&gt;\n",
       "    &lt;style&gt;#map {position:absolute;top:0;bottom:0;right:0;left:0;}&lt;/style&gt;\n",
       "    &lt;script src=&quot;https://cdn.jsdelivr.net/npm/leaflet@1.9.3/dist/leaflet.js&quot;&gt;&lt;/script&gt;\n",
       "    &lt;script src=&quot;https://code.jquery.com/jquery-1.12.4.min.js&quot;&gt;&lt;/script&gt;\n",
       "    &lt;script src=&quot;https://cdn.jsdelivr.net/npm/bootstrap@5.2.2/dist/js/bootstrap.bundle.min.js&quot;&gt;&lt;/script&gt;\n",
       "    &lt;script src=&quot;https://cdnjs.cloudflare.com/ajax/libs/Leaflet.awesome-markers/2.0.2/leaflet.awesome-markers.js&quot;&gt;&lt;/script&gt;\n",
       "    &lt;link rel=&quot;stylesheet&quot; href=&quot;https://cdn.jsdelivr.net/npm/leaflet@1.9.3/dist/leaflet.css&quot;/&gt;\n",
       "    &lt;link rel=&quot;stylesheet&quot; href=&quot;https://cdn.jsdelivr.net/npm/bootstrap@5.2.2/dist/css/bootstrap.min.css&quot;/&gt;\n",
       "    &lt;link rel=&quot;stylesheet&quot; href=&quot;https://netdna.bootstrapcdn.com/bootstrap/3.0.0/css/bootstrap.min.css&quot;/&gt;\n",
       "    &lt;link rel=&quot;stylesheet&quot; href=&quot;https://cdn.jsdelivr.net/npm/@fortawesome/fontawesome-free@6.2.0/css/all.min.css&quot;/&gt;\n",
       "    &lt;link rel=&quot;stylesheet&quot; href=&quot;https://cdnjs.cloudflare.com/ajax/libs/Leaflet.awesome-markers/2.0.2/leaflet.awesome-markers.css&quot;/&gt;\n",
       "    &lt;link rel=&quot;stylesheet&quot; href=&quot;https://cdn.jsdelivr.net/gh/python-visualization/folium/folium/templates/leaflet.awesome.rotate.min.css&quot;/&gt;\n",
       "    \n",
       "            &lt;meta name=&quot;viewport&quot; content=&quot;width=device-width,\n",
       "                initial-scale=1.0, maximum-scale=1.0, user-scalable=no&quot; /&gt;\n",
       "            &lt;style&gt;\n",
       "                #map_7e32eead58c69d91f77be0257349092f {\n",
       "                    position: relative;\n",
       "                    width: 100.0%;\n",
       "                    height: 100.0%;\n",
       "                    left: 0.0%;\n",
       "                    top: 0.0%;\n",
       "                }\n",
       "                .leaflet-container { font-size: 1rem; }\n",
       "            &lt;/style&gt;\n",
       "        \n",
       "&lt;/head&gt;\n",
       "&lt;body&gt;\n",
       "    \n",
       "    \n",
       "            &lt;div class=&quot;folium-map&quot; id=&quot;map_7e32eead58c69d91f77be0257349092f&quot; &gt;&lt;/div&gt;\n",
       "        \n",
       "&lt;/body&gt;\n",
       "&lt;script&gt;\n",
       "    \n",
       "    \n",
       "            var map_7e32eead58c69d91f77be0257349092f = L.map(\n",
       "                &quot;map_7e32eead58c69d91f77be0257349092f&quot;,\n",
       "                {\n",
       "                    center: [40.416775, -3.70379],\n",
       "                    crs: L.CRS.EPSG3857,\n",
       "                    zoom: 12,\n",
       "                    zoomControl: true,\n",
       "                    preferCanvas: false,\n",
       "                }\n",
       "            );\n",
       "\n",
       "            \n",
       "\n",
       "        \n",
       "    \n",
       "            var tile_layer_5b321dc866067f02898d4b9aa0575ae4 = L.tileLayer(\n",
       "                &quot;https://{s}.tile.openstreetmap.org/{z}/{x}/{y}.png&quot;,\n",
       "                {&quot;attribution&quot;: &quot;Data by \\u0026copy; \\u003ca target=\\&quot;_blank\\&quot; href=\\&quot;http://openstreetmap.org\\&quot;\\u003eOpenStreetMap\\u003c/a\\u003e, under \\u003ca target=\\&quot;_blank\\&quot; href=\\&quot;http://www.openstreetmap.org/copyright\\&quot;\\u003eODbL\\u003c/a\\u003e.&quot;, &quot;detectRetina&quot;: false, &quot;maxNativeZoom&quot;: 18, &quot;maxZoom&quot;: 18, &quot;minZoom&quot;: 0, &quot;noWrap&quot;: false, &quot;opacity&quot;: 1, &quot;subdomains&quot;: &quot;abc&quot;, &quot;tms&quot;: false}\n",
       "            ).addTo(map_7e32eead58c69d91f77be0257349092f);\n",
       "        \n",
       "    \n",
       "            var marker_ce6939735a418e041a5c1c3539e61710 = L.marker(\n",
       "                [40.411048889160156, -3.699545383453369],\n",
       "                {}\n",
       "            ).addTo(map_7e32eead58c69d91f77be0257349092f);\n",
       "        \n",
       "    \n",
       "        var popup_c175b3673c9932f47cd69f55fd894bc8 = L.popup({&quot;maxWidth&quot;: &quot;100%&quot;});\n",
       "\n",
       "        \n",
       "            \n",
       "                var html_1d689478b239c304a606a4e59f8ce429 = $(`&lt;div id=&quot;html_1d689478b239c304a606a4e59f8ce429&quot; style=&quot;width: 100.0%; height: 100.0%;&quot;&gt;El Sur&lt;/div&gt;`)[0];\n",
       "                popup_c175b3673c9932f47cd69f55fd894bc8.setContent(html_1d689478b239c304a606a4e59f8ce429);\n",
       "            \n",
       "        \n",
       "\n",
       "        marker_ce6939735a418e041a5c1c3539e61710.bindPopup(popup_c175b3673c9932f47cd69f55fd894bc8)\n",
       "        ;\n",
       "\n",
       "        \n",
       "    \n",
       "    \n",
       "            var marker_afdfb17fa3e7239f3f8abfb03168f15c = L.marker(\n",
       "                [40.414058685302734, -3.7080299854278564],\n",
       "                {}\n",
       "            ).addTo(map_7e32eead58c69d91f77be0257349092f);\n",
       "        \n",
       "    \n",
       "        var popup_33d45850827a7c3b092fd67d4ebc3658 = L.popup({&quot;maxWidth&quot;: &quot;100%&quot;});\n",
       "\n",
       "        \n",
       "            \n",
       "                var html_99f86dd357bb61195b5d7d3ea6ebe8cd = $(`&lt;div id=&quot;html_99f86dd357bb61195b5d7d3ea6ebe8cd&quot; style=&quot;width: 100.0%; height: 100.0%;&quot;&gt;Botín&lt;/div&gt;`)[0];\n",
       "                popup_33d45850827a7c3b092fd67d4ebc3658.setContent(html_99f86dd357bb61195b5d7d3ea6ebe8cd);\n",
       "            \n",
       "        \n",
       "\n",
       "        marker_afdfb17fa3e7239f3f8abfb03168f15c.bindPopup(popup_33d45850827a7c3b092fd67d4ebc3658)\n",
       "        ;\n",
       "\n",
       "        \n",
       "    \n",
       "    \n",
       "            var marker_bae9cc6e89bf64f1fc424c8ac0307a50 = L.marker(\n",
       "                [40.415870666503906, -3.7016000747680664],\n",
       "                {}\n",
       "            ).addTo(map_7e32eead58c69d91f77be0257349092f);\n",
       "        \n",
       "    \n",
       "        var popup_92a9f059e739f4638e519affe0fb72e2 = L.popup({&quot;maxWidth&quot;: &quot;100%&quot;});\n",
       "\n",
       "        \n",
       "            \n",
       "                var html_f500a32486ac9b315a772517859bbaed = $(`&lt;div id=&quot;html_f500a32486ac9b315a772517859bbaed&quot; style=&quot;width: 100.0%; height: 100.0%;&quot;&gt;Alhambra&lt;/div&gt;`)[0];\n",
       "                popup_92a9f059e739f4638e519affe0fb72e2.setContent(html_f500a32486ac9b315a772517859bbaed);\n",
       "            \n",
       "        \n",
       "\n",
       "        marker_bae9cc6e89bf64f1fc424c8ac0307a50.bindPopup(popup_92a9f059e739f4638e519affe0fb72e2)\n",
       "        ;\n",
       "\n",
       "        \n",
       "    \n",
       "    \n",
       "            var marker_494cd850d3ff78eec940d3dc9ba96f6f = L.marker(\n",
       "                [40.41896438598633, -3.7036471366882324],\n",
       "                {}\n",
       "            ).addTo(map_7e32eead58c69d91f77be0257349092f);\n",
       "        \n",
       "    \n",
       "        var popup_f5064853b38cc266185c0f11ee44d65e = L.popup({&quot;maxWidth&quot;: &quot;100%&quot;});\n",
       "\n",
       "        \n",
       "            \n",
       "                var html_9e7289e5518e9f1d68d856609b543135 = $(`&lt;div id=&quot;html_9e7289e5518e9f1d68d856609b543135&quot; style=&quot;width: 100.0%; height: 100.0%;&quot;&gt;Takos al Pastor&lt;/div&gt;`)[0];\n",
       "                popup_f5064853b38cc266185c0f11ee44d65e.setContent(html_9e7289e5518e9f1d68d856609b543135);\n",
       "            \n",
       "        \n",
       "\n",
       "        marker_494cd850d3ff78eec940d3dc9ba96f6f.bindPopup(popup_f5064853b38cc266185c0f11ee44d65e)\n",
       "        ;\n",
       "\n",
       "        \n",
       "    \n",
       "    \n",
       "            var marker_cb0c7d7de1a4d4648de487461eaa65da = L.marker(\n",
       "                [40.42025375366211, -3.697913408279419],\n",
       "                {}\n",
       "            ).addTo(map_7e32eead58c69d91f77be0257349092f);\n",
       "        \n",
       "    \n",
       "        var popup_f6650a885e9735ca2a2ec5ea25c2510c = L.popup({&quot;maxWidth&quot;: &quot;100%&quot;});\n",
       "\n",
       "        \n",
       "            \n",
       "                var html_4ffb52c52b21c399d718da6ccb33d37c = $(`&lt;div id=&quot;html_4ffb52c52b21c399d718da6ccb33d37c&quot; style=&quot;width: 100.0%; height: 100.0%;&quot;&gt;El Tigre&lt;/div&gt;`)[0];\n",
       "                popup_f6650a885e9735ca2a2ec5ea25c2510c.setContent(html_4ffb52c52b21c399d718da6ccb33d37c);\n",
       "            \n",
       "        \n",
       "\n",
       "        marker_cb0c7d7de1a4d4648de487461eaa65da.bindPopup(popup_f6650a885e9735ca2a2ec5ea25c2510c)\n",
       "        ;\n",
       "\n",
       "        \n",
       "    \n",
       "    \n",
       "            var marker_1694c3ae9cc6c4858c2cb7f49e4a6652 = L.marker(\n",
       "                [40.41135787963867, -3.7110939025878906],\n",
       "                {}\n",
       "            ).addTo(map_7e32eead58c69d91f77be0257349092f);\n",
       "        \n",
       "    \n",
       "        var popup_3917fdceb2611ddd185df53f0d866bd1 = L.popup({&quot;maxWidth&quot;: &quot;100%&quot;});\n",
       "\n",
       "        \n",
       "            \n",
       "                var html_7487fff1cb10e788581029b113e1b8d6 = $(`&lt;div id=&quot;html_7487fff1cb10e788581029b113e1b8d6&quot; style=&quot;width: 100.0%; height: 100.0%;&quot;&gt;Juana la Loca&lt;/div&gt;`)[0];\n",
       "                popup_3917fdceb2611ddd185df53f0d866bd1.setContent(html_7487fff1cb10e788581029b113e1b8d6);\n",
       "            \n",
       "        \n",
       "\n",
       "        marker_1694c3ae9cc6c4858c2cb7f49e4a6652.bindPopup(popup_3917fdceb2611ddd185df53f0d866bd1)\n",
       "        ;\n",
       "\n",
       "        \n",
       "    \n",
       "    \n",
       "            var marker_781952cd4a3438b4980b60c18ee20e4f = L.marker(\n",
       "                [40.41582107543945, -3.7025299072265625],\n",
       "                {}\n",
       "            ).addTo(map_7e32eead58c69d91f77be0257349092f);\n",
       "        \n",
       "    \n",
       "        var popup_b69cb0621acf349ad908f21a742902e1 = L.popup({&quot;maxWidth&quot;: &quot;100%&quot;});\n",
       "\n",
       "        \n",
       "            \n",
       "                var html_009085ff3066301021973ff28a8be664 = $(`&lt;div id=&quot;html_009085ff3066301021973ff28a8be664&quot; style=&quot;width: 100.0%; height: 100.0%;&quot;&gt;Malaspina&lt;/div&gt;`)[0];\n",
       "                popup_b69cb0621acf349ad908f21a742902e1.setContent(html_009085ff3066301021973ff28a8be664);\n",
       "            \n",
       "        \n",
       "\n",
       "        marker_781952cd4a3438b4980b60c18ee20e4f.bindPopup(popup_b69cb0621acf349ad908f21a742902e1)\n",
       "        ;\n",
       "\n",
       "        \n",
       "    \n",
       "    \n",
       "            var marker_01a9e1c036fffdc6849472a6ccf28f85 = L.marker(\n",
       "                [40.42018508911133, -3.697476863861084],\n",
       "                {}\n",
       "            ).addTo(map_7e32eead58c69d91f77be0257349092f);\n",
       "        \n",
       "    \n",
       "        var popup_d25fba065a6f7761a906c4fc0f8baaf6 = L.popup({&quot;maxWidth&quot;: &quot;100%&quot;});\n",
       "\n",
       "        \n",
       "            \n",
       "                var html_4069f6cf7cbf29e536148a0f3c76e236 = $(`&lt;div id=&quot;html_4069f6cf7cbf29e536148a0f3c76e236&quot; style=&quot;width: 100.0%; height: 100.0%;&quot;&gt;Celso y Manolo&lt;/div&gt;`)[0];\n",
       "                popup_d25fba065a6f7761a906c4fc0f8baaf6.setContent(html_4069f6cf7cbf29e536148a0f3c76e236);\n",
       "            \n",
       "        \n",
       "\n",
       "        marker_01a9e1c036fffdc6849472a6ccf28f85.bindPopup(popup_d25fba065a6f7761a906c4fc0f8baaf6)\n",
       "        ;\n",
       "\n",
       "        \n",
       "    \n",
       "    \n",
       "            var marker_d35aa2be0826f3f7896601b5a2652b7b = L.marker(\n",
       "                [40.41581344604492, -3.7029788494110107],\n",
       "                {}\n",
       "            ).addTo(map_7e32eead58c69d91f77be0257349092f);\n",
       "        \n",
       "    \n",
       "        var popup_1988f6b09f47cfed175fd39b495887c2 = L.popup({&quot;maxWidth&quot;: &quot;100%&quot;});\n",
       "\n",
       "        \n",
       "            \n",
       "                var html_f6d5db4a4d3db4edf251bbc473e547f9 = $(`&lt;div id=&quot;html_f6d5db4a4d3db4edf251bbc473e547f9&quot; style=&quot;width: 100.0%; height: 100.0%;&quot;&gt;Rosi La Loca&lt;/div&gt;`)[0];\n",
       "                popup_1988f6b09f47cfed175fd39b495887c2.setContent(html_f6d5db4a4d3db4edf251bbc473e547f9);\n",
       "            \n",
       "        \n",
       "\n",
       "        marker_d35aa2be0826f3f7896601b5a2652b7b.bindPopup(popup_1988f6b09f47cfed175fd39b495887c2)\n",
       "        ;\n",
       "\n",
       "        \n",
       "    \n",
       "    \n",
       "            var marker_9c6f7070b26872a459a8b5d049d00276 = L.marker(\n",
       "                [40.42705154418945, -3.7092299461364746],\n",
       "                {}\n",
       "            ).addTo(map_7e32eead58c69d91f77be0257349092f);\n",
       "        \n",
       "    \n",
       "        var popup_11cd87b35aa233c79ca15acf67448e8f = L.popup({&quot;maxWidth&quot;: &quot;100%&quot;});\n",
       "\n",
       "        \n",
       "            \n",
       "                var html_6a126a1ac1e8bdd81518afd4584add21 = $(`&lt;div id=&quot;html_6a126a1ac1e8bdd81518afd4584add21&quot; style=&quot;width: 100.0%; height: 100.0%;&quot;&gt;Federal&lt;/div&gt;`)[0];\n",
       "                popup_11cd87b35aa233c79ca15acf67448e8f.setContent(html_6a126a1ac1e8bdd81518afd4584add21);\n",
       "            \n",
       "        \n",
       "\n",
       "        marker_9c6f7070b26872a459a8b5d049d00276.bindPopup(popup_11cd87b35aa233c79ca15acf67448e8f)\n",
       "        ;\n",
       "\n",
       "        \n",
       "    \n",
       "    \n",
       "            var feature_group_a8b7941ac51c204a26107411e3d04d96 = L.featureGroup(\n",
       "                {}\n",
       "            ).addTo(map_7e32eead58c69d91f77be0257349092f);\n",
       "        \n",
       "    \n",
       "            var circle_marker_64554f2895a76d84526d18ea86636685 = L.circleMarker(\n",
       "                [40.411048889160156, -3.699545383453369],\n",
       "                {&quot;bubblingMouseEvents&quot;: true, &quot;color&quot;: &quot;blue&quot;, &quot;dashArray&quot;: null, &quot;dashOffset&quot;: null, &quot;fill&quot;: true, &quot;fillColor&quot;: &quot;yellow&quot;, &quot;fillOpacity&quot;: 0.6, &quot;fillRule&quot;: &quot;evenodd&quot;, &quot;lineCap&quot;: &quot;round&quot;, &quot;lineJoin&quot;: &quot;round&quot;, &quot;opacity&quot;: 1.0, &quot;radius&quot;: 5, &quot;stroke&quot;: true, &quot;weight&quot;: 3}\n",
       "            ).addTo(feature_group_a8b7941ac51c204a26107411e3d04d96);\n",
       "        \n",
       "    \n",
       "            var circle_marker_8050dd90b9dbcef34e650f58a0e6300b = L.circleMarker(\n",
       "                [40.414058685302734, -3.7080299854278564],\n",
       "                {&quot;bubblingMouseEvents&quot;: true, &quot;color&quot;: &quot;blue&quot;, &quot;dashArray&quot;: null, &quot;dashOffset&quot;: null, &quot;fill&quot;: true, &quot;fillColor&quot;: &quot;yellow&quot;, &quot;fillOpacity&quot;: 0.6, &quot;fillRule&quot;: &quot;evenodd&quot;, &quot;lineCap&quot;: &quot;round&quot;, &quot;lineJoin&quot;: &quot;round&quot;, &quot;opacity&quot;: 1.0, &quot;radius&quot;: 5, &quot;stroke&quot;: true, &quot;weight&quot;: 3}\n",
       "            ).addTo(feature_group_a8b7941ac51c204a26107411e3d04d96);\n",
       "        \n",
       "    \n",
       "            var circle_marker_0333bf6d0576d13f3d63e8e8bc7b5ce3 = L.circleMarker(\n",
       "                [40.415870666503906, -3.7016000747680664],\n",
       "                {&quot;bubblingMouseEvents&quot;: true, &quot;color&quot;: &quot;blue&quot;, &quot;dashArray&quot;: null, &quot;dashOffset&quot;: null, &quot;fill&quot;: true, &quot;fillColor&quot;: &quot;yellow&quot;, &quot;fillOpacity&quot;: 0.6, &quot;fillRule&quot;: &quot;evenodd&quot;, &quot;lineCap&quot;: &quot;round&quot;, &quot;lineJoin&quot;: &quot;round&quot;, &quot;opacity&quot;: 1.0, &quot;radius&quot;: 5, &quot;stroke&quot;: true, &quot;weight&quot;: 3}\n",
       "            ).addTo(feature_group_a8b7941ac51c204a26107411e3d04d96);\n",
       "        \n",
       "    \n",
       "            var circle_marker_c445c252050a94eb8f5d047ad5abd805 = L.circleMarker(\n",
       "                [40.41896438598633, -3.7036471366882324],\n",
       "                {&quot;bubblingMouseEvents&quot;: true, &quot;color&quot;: &quot;blue&quot;, &quot;dashArray&quot;: null, &quot;dashOffset&quot;: null, &quot;fill&quot;: true, &quot;fillColor&quot;: &quot;yellow&quot;, &quot;fillOpacity&quot;: 0.6, &quot;fillRule&quot;: &quot;evenodd&quot;, &quot;lineCap&quot;: &quot;round&quot;, &quot;lineJoin&quot;: &quot;round&quot;, &quot;opacity&quot;: 1.0, &quot;radius&quot;: 5, &quot;stroke&quot;: true, &quot;weight&quot;: 3}\n",
       "            ).addTo(feature_group_a8b7941ac51c204a26107411e3d04d96);\n",
       "        \n",
       "    \n",
       "            var circle_marker_559cad00c9a2614f4fa1a8894a4cc577 = L.circleMarker(\n",
       "                [40.42025375366211, -3.697913408279419],\n",
       "                {&quot;bubblingMouseEvents&quot;: true, &quot;color&quot;: &quot;blue&quot;, &quot;dashArray&quot;: null, &quot;dashOffset&quot;: null, &quot;fill&quot;: true, &quot;fillColor&quot;: &quot;yellow&quot;, &quot;fillOpacity&quot;: 0.6, &quot;fillRule&quot;: &quot;evenodd&quot;, &quot;lineCap&quot;: &quot;round&quot;, &quot;lineJoin&quot;: &quot;round&quot;, &quot;opacity&quot;: 1.0, &quot;radius&quot;: 5, &quot;stroke&quot;: true, &quot;weight&quot;: 3}\n",
       "            ).addTo(feature_group_a8b7941ac51c204a26107411e3d04d96);\n",
       "        \n",
       "    \n",
       "            var circle_marker_7d7aae51266085d29a1577f9a509e420 = L.circleMarker(\n",
       "                [40.41135787963867, -3.7110939025878906],\n",
       "                {&quot;bubblingMouseEvents&quot;: true, &quot;color&quot;: &quot;blue&quot;, &quot;dashArray&quot;: null, &quot;dashOffset&quot;: null, &quot;fill&quot;: true, &quot;fillColor&quot;: &quot;yellow&quot;, &quot;fillOpacity&quot;: 0.6, &quot;fillRule&quot;: &quot;evenodd&quot;, &quot;lineCap&quot;: &quot;round&quot;, &quot;lineJoin&quot;: &quot;round&quot;, &quot;opacity&quot;: 1.0, &quot;radius&quot;: 5, &quot;stroke&quot;: true, &quot;weight&quot;: 3}\n",
       "            ).addTo(feature_group_a8b7941ac51c204a26107411e3d04d96);\n",
       "        \n",
       "    \n",
       "            var circle_marker_0202c771c190e77b07a13a23bcafcfdb = L.circleMarker(\n",
       "                [40.41582107543945, -3.7025299072265625],\n",
       "                {&quot;bubblingMouseEvents&quot;: true, &quot;color&quot;: &quot;blue&quot;, &quot;dashArray&quot;: null, &quot;dashOffset&quot;: null, &quot;fill&quot;: true, &quot;fillColor&quot;: &quot;yellow&quot;, &quot;fillOpacity&quot;: 0.6, &quot;fillRule&quot;: &quot;evenodd&quot;, &quot;lineCap&quot;: &quot;round&quot;, &quot;lineJoin&quot;: &quot;round&quot;, &quot;opacity&quot;: 1.0, &quot;radius&quot;: 5, &quot;stroke&quot;: true, &quot;weight&quot;: 3}\n",
       "            ).addTo(feature_group_a8b7941ac51c204a26107411e3d04d96);\n",
       "        \n",
       "    \n",
       "            var circle_marker_da7b4c0cbf42242dd6433ef9f333660d = L.circleMarker(\n",
       "                [40.42018508911133, -3.697476863861084],\n",
       "                {&quot;bubblingMouseEvents&quot;: true, &quot;color&quot;: &quot;blue&quot;, &quot;dashArray&quot;: null, &quot;dashOffset&quot;: null, &quot;fill&quot;: true, &quot;fillColor&quot;: &quot;yellow&quot;, &quot;fillOpacity&quot;: 0.6, &quot;fillRule&quot;: &quot;evenodd&quot;, &quot;lineCap&quot;: &quot;round&quot;, &quot;lineJoin&quot;: &quot;round&quot;, &quot;opacity&quot;: 1.0, &quot;radius&quot;: 5, &quot;stroke&quot;: true, &quot;weight&quot;: 3}\n",
       "            ).addTo(feature_group_a8b7941ac51c204a26107411e3d04d96);\n",
       "        \n",
       "    \n",
       "            var circle_marker_7679c412af9afeb962c9eb2875517f1b = L.circleMarker(\n",
       "                [40.41581344604492, -3.7029788494110107],\n",
       "                {&quot;bubblingMouseEvents&quot;: true, &quot;color&quot;: &quot;blue&quot;, &quot;dashArray&quot;: null, &quot;dashOffset&quot;: null, &quot;fill&quot;: true, &quot;fillColor&quot;: &quot;yellow&quot;, &quot;fillOpacity&quot;: 0.6, &quot;fillRule&quot;: &quot;evenodd&quot;, &quot;lineCap&quot;: &quot;round&quot;, &quot;lineJoin&quot;: &quot;round&quot;, &quot;opacity&quot;: 1.0, &quot;radius&quot;: 5, &quot;stroke&quot;: true, &quot;weight&quot;: 3}\n",
       "            ).addTo(feature_group_a8b7941ac51c204a26107411e3d04d96);\n",
       "        \n",
       "    \n",
       "            var circle_marker_604574af28a31b8ad97efb49fef98381 = L.circleMarker(\n",
       "                [40.42705154418945, -3.7092299461364746],\n",
       "                {&quot;bubblingMouseEvents&quot;: true, &quot;color&quot;: &quot;blue&quot;, &quot;dashArray&quot;: null, &quot;dashOffset&quot;: null, &quot;fill&quot;: true, &quot;fillColor&quot;: &quot;yellow&quot;, &quot;fillOpacity&quot;: 0.6, &quot;fillRule&quot;: &quot;evenodd&quot;, &quot;lineCap&quot;: &quot;round&quot;, &quot;lineJoin&quot;: &quot;round&quot;, &quot;opacity&quot;: 1.0, &quot;radius&quot;: 5, &quot;stroke&quot;: true, &quot;weight&quot;: 3}\n",
       "            ).addTo(feature_group_a8b7941ac51c204a26107411e3d04d96);\n",
       "        \n",
       "&lt;/script&gt;\n",
       "&lt;/html&gt;\" style=\"position:absolute;width:100%;height:100%;left:0;top:0;border:none !important;\" allowfullscreen webkitallowfullscreen mozallowfullscreen></iframe></div></div>"
      ]
     },
     "metadata": {
      "application/vnd.databricks.v1+output": {
       "addedWidgets": {},
       "arguments": {},
       "data": "<div style=\"width:100%;\"><div style=\"position:relative;width:100%;height:0;padding-bottom:60%;\"><span style=\"color:#565656\">Make this Notebook Trusted to load map: File -> Trust Notebook</span><iframe srcdoc=\"&lt;!DOCTYPE html&gt;\n&lt;html&gt;\n&lt;head&gt;\n    \n    &lt;meta http-equiv=&quot;content-type&quot; content=&quot;text/html; charset=UTF-8&quot; /&gt;\n    \n        &lt;script&gt;\n            L_NO_TOUCH = false;\n            L_DISABLE_3D = false;\n        &lt;/script&gt;\n    \n    &lt;style&gt;html, body {width: 100%;height: 100%;margin: 0;padding: 0;}&lt;/style&gt;\n    &lt;style&gt;#map {position:absolute;top:0;bottom:0;right:0;left:0;}&lt;/style&gt;\n    &lt;script src=&quot;https://cdn.jsdelivr.net/npm/leaflet@1.9.3/dist/leaflet.js&quot;&gt;&lt;/script&gt;\n    &lt;script src=&quot;https://code.jquery.com/jquery-1.12.4.min.js&quot;&gt;&lt;/script&gt;\n    &lt;script src=&quot;https://cdn.jsdelivr.net/npm/bootstrap@5.2.2/dist/js/bootstrap.bundle.min.js&quot;&gt;&lt;/script&gt;\n    &lt;script src=&quot;https://cdnjs.cloudflare.com/ajax/libs/Leaflet.awesome-markers/2.0.2/leaflet.awesome-markers.js&quot;&gt;&lt;/script&gt;\n    &lt;link rel=&quot;stylesheet&quot; href=&quot;https://cdn.jsdelivr.net/npm/leaflet@1.9.3/dist/leaflet.css&quot;/&gt;\n    &lt;link rel=&quot;stylesheet&quot; href=&quot;https://cdn.jsdelivr.net/npm/bootstrap@5.2.2/dist/css/bootstrap.min.css&quot;/&gt;\n    &lt;link rel=&quot;stylesheet&quot; href=&quot;https://netdna.bootstrapcdn.com/bootstrap/3.0.0/css/bootstrap.min.css&quot;/&gt;\n    &lt;link rel=&quot;stylesheet&quot; href=&quot;https://cdn.jsdelivr.net/npm/@fortawesome/fontawesome-free@6.2.0/css/all.min.css&quot;/&gt;\n    &lt;link rel=&quot;stylesheet&quot; href=&quot;https://cdnjs.cloudflare.com/ajax/libs/Leaflet.awesome-markers/2.0.2/leaflet.awesome-markers.css&quot;/&gt;\n    &lt;link rel=&quot;stylesheet&quot; href=&quot;https://cdn.jsdelivr.net/gh/python-visualization/folium/folium/templates/leaflet.awesome.rotate.min.css&quot;/&gt;\n    \n            &lt;meta name=&quot;viewport&quot; content=&quot;width=device-width,\n                initial-scale=1.0, maximum-scale=1.0, user-scalable=no&quot; /&gt;\n            &lt;style&gt;\n                #map_7e32eead58c69d91f77be0257349092f {\n                    position: relative;\n                    width: 100.0%;\n                    height: 100.0%;\n                    left: 0.0%;\n                    top: 0.0%;\n                }\n                .leaflet-container { font-size: 1rem; }\n            &lt;/style&gt;\n        \n&lt;/head&gt;\n&lt;body&gt;\n    \n    \n            &lt;div class=&quot;folium-map&quot; id=&quot;map_7e32eead58c69d91f77be0257349092f&quot; &gt;&lt;/div&gt;\n        \n&lt;/body&gt;\n&lt;script&gt;\n    \n    \n            var map_7e32eead58c69d91f77be0257349092f = L.map(\n                &quot;map_7e32eead58c69d91f77be0257349092f&quot;,\n                {\n                    center: [40.416775, -3.70379],\n                    crs: L.CRS.EPSG3857,\n                    zoom: 12,\n                    zoomControl: true,\n                    preferCanvas: false,\n                }\n            );\n\n            \n\n        \n    \n            var tile_layer_5b321dc866067f02898d4b9aa0575ae4 = L.tileLayer(\n                &quot;https://{s}.tile.openstreetmap.org/{z}/{x}/{y}.png&quot;,\n                {&quot;attribution&quot;: &quot;Data by \\u0026copy; \\u003ca target=\\&quot;_blank\\&quot; href=\\&quot;http://openstreetmap.org\\&quot;\\u003eOpenStreetMap\\u003c/a\\u003e, under \\u003ca target=\\&quot;_blank\\&quot; href=\\&quot;http://www.openstreetmap.org/copyright\\&quot;\\u003eODbL\\u003c/a\\u003e.&quot;, &quot;detectRetina&quot;: false, &quot;maxNativeZoom&quot;: 18, &quot;maxZoom&quot;: 18, &quot;minZoom&quot;: 0, &quot;noWrap&quot;: false, &quot;opacity&quot;: 1, &quot;subdomains&quot;: &quot;abc&quot;, &quot;tms&quot;: false}\n            ).addTo(map_7e32eead58c69d91f77be0257349092f);\n        \n    \n            var marker_ce6939735a418e041a5c1c3539e61710 = L.marker(\n                [40.411048889160156, -3.699545383453369],\n                {}\n            ).addTo(map_7e32eead58c69d91f77be0257349092f);\n        \n    \n        var popup_c175b3673c9932f47cd69f55fd894bc8 = L.popup({&quot;maxWidth&quot;: &quot;100%&quot;});\n\n        \n            \n                var html_1d689478b239c304a606a4e59f8ce429 = $(`&lt;div id=&quot;html_1d689478b239c304a606a4e59f8ce429&quot; style=&quot;width: 100.0%; height: 100.0%;&quot;&gt;El Sur&lt;/div&gt;`)[0];\n                popup_c175b3673c9932f47cd69f55fd894bc8.setContent(html_1d689478b239c304a606a4e59f8ce429);\n            \n        \n\n        marker_ce6939735a418e041a5c1c3539e61710.bindPopup(popup_c175b3673c9932f47cd69f55fd894bc8)\n        ;\n\n        \n    \n    \n            var marker_afdfb17fa3e7239f3f8abfb03168f15c = L.marker(\n                [40.414058685302734, -3.7080299854278564],\n                {}\n            ).addTo(map_7e32eead58c69d91f77be0257349092f);\n        \n    \n        var popup_33d45850827a7c3b092fd67d4ebc3658 = L.popup({&quot;maxWidth&quot;: &quot;100%&quot;});\n\n        \n            \n                var html_99f86dd357bb61195b5d7d3ea6ebe8cd = $(`&lt;div id=&quot;html_99f86dd357bb61195b5d7d3ea6ebe8cd&quot; style=&quot;width: 100.0%; height: 100.0%;&quot;&gt;Botín&lt;/div&gt;`)[0];\n                popup_33d45850827a7c3b092fd67d4ebc3658.setContent(html_99f86dd357bb61195b5d7d3ea6ebe8cd);\n            \n        \n\n        marker_afdfb17fa3e7239f3f8abfb03168f15c.bindPopup(popup_33d45850827a7c3b092fd67d4ebc3658)\n        ;\n\n        \n    \n    \n            var marker_bae9cc6e89bf64f1fc424c8ac0307a50 = L.marker(\n                [40.415870666503906, -3.7016000747680664],\n                {}\n            ).addTo(map_7e32eead58c69d91f77be0257349092f);\n        \n    \n        var popup_92a9f059e739f4638e519affe0fb72e2 = L.popup({&quot;maxWidth&quot;: &quot;100%&quot;});\n\n        \n            \n                var html_f500a32486ac9b315a772517859bbaed = $(`&lt;div id=&quot;html_f500a32486ac9b315a772517859bbaed&quot; style=&quot;width: 100.0%; height: 100.0%;&quot;&gt;Alhambra&lt;/div&gt;`)[0];\n                popup_92a9f059e739f4638e519affe0fb72e2.setContent(html_f500a32486ac9b315a772517859bbaed);\n            \n        \n\n        marker_bae9cc6e89bf64f1fc424c8ac0307a50.bindPopup(popup_92a9f059e739f4638e519affe0fb72e2)\n        ;\n\n        \n    \n    \n            var marker_494cd850d3ff78eec940d3dc9ba96f6f = L.marker(\n                [40.41896438598633, -3.7036471366882324],\n                {}\n            ).addTo(map_7e32eead58c69d91f77be0257349092f);\n        \n    \n        var popup_f5064853b38cc266185c0f11ee44d65e = L.popup({&quot;maxWidth&quot;: &quot;100%&quot;});\n\n        \n            \n                var html_9e7289e5518e9f1d68d856609b543135 = $(`&lt;div id=&quot;html_9e7289e5518e9f1d68d856609b543135&quot; style=&quot;width: 100.0%; height: 100.0%;&quot;&gt;Takos al Pastor&lt;/div&gt;`)[0];\n                popup_f5064853b38cc266185c0f11ee44d65e.setContent(html_9e7289e5518e9f1d68d856609b543135);\n            \n        \n\n        marker_494cd850d3ff78eec940d3dc9ba96f6f.bindPopup(popup_f5064853b38cc266185c0f11ee44d65e)\n        ;\n\n        \n    \n    \n            var marker_cb0c7d7de1a4d4648de487461eaa65da = L.marker(\n                [40.42025375366211, -3.697913408279419],\n                {}\n            ).addTo(map_7e32eead58c69d91f77be0257349092f);\n        \n    \n        var popup_f6650a885e9735ca2a2ec5ea25c2510c = L.popup({&quot;maxWidth&quot;: &quot;100%&quot;});\n\n        \n            \n                var html_4ffb52c52b21c399d718da6ccb33d37c = $(`&lt;div id=&quot;html_4ffb52c52b21c399d718da6ccb33d37c&quot; style=&quot;width: 100.0%; height: 100.0%;&quot;&gt;El Tigre&lt;/div&gt;`)[0];\n                popup_f6650a885e9735ca2a2ec5ea25c2510c.setContent(html_4ffb52c52b21c399d718da6ccb33d37c);\n            \n        \n\n        marker_cb0c7d7de1a4d4648de487461eaa65da.bindPopup(popup_f6650a885e9735ca2a2ec5ea25c2510c)\n        ;\n\n        \n    \n    \n            var marker_1694c3ae9cc6c4858c2cb7f49e4a6652 = L.marker(\n                [40.41135787963867, -3.7110939025878906],\n                {}\n            ).addTo(map_7e32eead58c69d91f77be0257349092f);\n        \n    \n        var popup_3917fdceb2611ddd185df53f0d866bd1 = L.popup({&quot;maxWidth&quot;: &quot;100%&quot;});\n\n        \n            \n                var html_7487fff1cb10e788581029b113e1b8d6 = $(`&lt;div id=&quot;html_7487fff1cb10e788581029b113e1b8d6&quot; style=&quot;width: 100.0%; height: 100.0%;&quot;&gt;Juana la Loca&lt;/div&gt;`)[0];\n                popup_3917fdceb2611ddd185df53f0d866bd1.setContent(html_7487fff1cb10e788581029b113e1b8d6);\n            \n        \n\n        marker_1694c3ae9cc6c4858c2cb7f49e4a6652.bindPopup(popup_3917fdceb2611ddd185df53f0d866bd1)\n        ;\n\n        \n    \n    \n            var marker_781952cd4a3438b4980b60c18ee20e4f = L.marker(\n                [40.41582107543945, -3.7025299072265625],\n                {}\n            ).addTo(map_7e32eead58c69d91f77be0257349092f);\n        \n    \n        var popup_b69cb0621acf349ad908f21a742902e1 = L.popup({&quot;maxWidth&quot;: &quot;100%&quot;});\n\n        \n            \n                var html_009085ff3066301021973ff28a8be664 = $(`&lt;div id=&quot;html_009085ff3066301021973ff28a8be664&quot; style=&quot;width: 100.0%; height: 100.0%;&quot;&gt;Malaspina&lt;/div&gt;`)[0];\n                popup_b69cb0621acf349ad908f21a742902e1.setContent(html_009085ff3066301021973ff28a8be664);\n            \n        \n\n        marker_781952cd4a3438b4980b60c18ee20e4f.bindPopup(popup_b69cb0621acf349ad908f21a742902e1)\n        ;\n\n        \n    \n    \n            var marker_01a9e1c036fffdc6849472a6ccf28f85 = L.marker(\n                [40.42018508911133, -3.697476863861084],\n                {}\n            ).addTo(map_7e32eead58c69d91f77be0257349092f);\n        \n    \n        var popup_d25fba065a6f7761a906c4fc0f8baaf6 = L.popup({&quot;maxWidth&quot;: &quot;100%&quot;});\n\n        \n            \n                var html_4069f6cf7cbf29e536148a0f3c76e236 = $(`&lt;div id=&quot;html_4069f6cf7cbf29e536148a0f3c76e236&quot; style=&quot;width: 100.0%; height: 100.0%;&quot;&gt;Celso y Manolo&lt;/div&gt;`)[0];\n                popup_d25fba065a6f7761a906c4fc0f8baaf6.setContent(html_4069f6cf7cbf29e536148a0f3c76e236);\n            \n        \n\n        marker_01a9e1c036fffdc6849472a6ccf28f85.bindPopup(popup_d25fba065a6f7761a906c4fc0f8baaf6)\n        ;\n\n        \n    \n    \n            var marker_d35aa2be0826f3f7896601b5a2652b7b = L.marker(\n                [40.41581344604492, -3.7029788494110107],\n                {}\n            ).addTo(map_7e32eead58c69d91f77be0257349092f);\n        \n    \n        var popup_1988f6b09f47cfed175fd39b495887c2 = L.popup({&quot;maxWidth&quot;: &quot;100%&quot;});\n\n        \n            \n                var html_f6d5db4a4d3db4edf251bbc473e547f9 = $(`&lt;div id=&quot;html_f6d5db4a4d3db4edf251bbc473e547f9&quot; style=&quot;width: 100.0%; height: 100.0%;&quot;&gt;Rosi La Loca&lt;/div&gt;`)[0];\n                popup_1988f6b09f47cfed175fd39b495887c2.setContent(html_f6d5db4a4d3db4edf251bbc473e547f9);\n            \n        \n\n        marker_d35aa2be0826f3f7896601b5a2652b7b.bindPopup(popup_1988f6b09f47cfed175fd39b495887c2)\n        ;\n\n        \n    \n    \n            var marker_9c6f7070b26872a459a8b5d049d00276 = L.marker(\n                [40.42705154418945, -3.7092299461364746],\n                {}\n            ).addTo(map_7e32eead58c69d91f77be0257349092f);\n        \n    \n        var popup_11cd87b35aa233c79ca15acf67448e8f = L.popup({&quot;maxWidth&quot;: &quot;100%&quot;});\n\n        \n            \n                var html_6a126a1ac1e8bdd81518afd4584add21 = $(`&lt;div id=&quot;html_6a126a1ac1e8bdd81518afd4584add21&quot; style=&quot;width: 100.0%; height: 100.0%;&quot;&gt;Federal&lt;/div&gt;`)[0];\n                popup_11cd87b35aa233c79ca15acf67448e8f.setContent(html_6a126a1ac1e8bdd81518afd4584add21);\n            \n        \n\n        marker_9c6f7070b26872a459a8b5d049d00276.bindPopup(popup_11cd87b35aa233c79ca15acf67448e8f)\n        ;\n\n        \n    \n    \n            var feature_group_a8b7941ac51c204a26107411e3d04d96 = L.featureGroup(\n                {}\n            ).addTo(map_7e32eead58c69d91f77be0257349092f);\n        \n    \n            var circle_marker_64554f2895a76d84526d18ea86636685 = L.circleMarker(\n                [40.411048889160156, -3.699545383453369],\n                {&quot;bubblingMouseEvents&quot;: true, &quot;color&quot;: &quot;blue&quot;, &quot;dashArray&quot;: null, &quot;dashOffset&quot;: null, &quot;fill&quot;: true, &quot;fillColor&quot;: &quot;yellow&quot;, &quot;fillOpacity&quot;: 0.6, &quot;fillRule&quot;: &quot;evenodd&quot;, &quot;lineCap&quot;: &quot;round&quot;, &quot;lineJoin&quot;: &quot;round&quot;, &quot;opacity&quot;: 1.0, &quot;radius&quot;: 5, &quot;stroke&quot;: true, &quot;weight&quot;: 3}\n            ).addTo(feature_group_a8b7941ac51c204a26107411e3d04d96);\n        \n    \n            var circle_marker_8050dd90b9dbcef34e650f58a0e6300b = L.circleMarker(\n                [40.414058685302734, -3.7080299854278564],\n                {&quot;bubblingMouseEvents&quot;: true, &quot;color&quot;: &quot;blue&quot;, &quot;dashArray&quot;: null, &quot;dashOffset&quot;: null, &quot;fill&quot;: true, &quot;fillColor&quot;: &quot;yellow&quot;, &quot;fillOpacity&quot;: 0.6, &quot;fillRule&quot;: &quot;evenodd&quot;, &quot;lineCap&quot;: &quot;round&quot;, &quot;lineJoin&quot;: &quot;round&quot;, &quot;opacity&quot;: 1.0, &quot;radius&quot;: 5, &quot;stroke&quot;: true, &quot;weight&quot;: 3}\n            ).addTo(feature_group_a8b7941ac51c204a26107411e3d04d96);\n        \n    \n            var circle_marker_0333bf6d0576d13f3d63e8e8bc7b5ce3 = L.circleMarker(\n                [40.415870666503906, -3.7016000747680664],\n                {&quot;bubblingMouseEvents&quot;: true, &quot;color&quot;: &quot;blue&quot;, &quot;dashArray&quot;: null, &quot;dashOffset&quot;: null, &quot;fill&quot;: true, &quot;fillColor&quot;: &quot;yellow&quot;, &quot;fillOpacity&quot;: 0.6, &quot;fillRule&quot;: &quot;evenodd&quot;, &quot;lineCap&quot;: &quot;round&quot;, &quot;lineJoin&quot;: &quot;round&quot;, &quot;opacity&quot;: 1.0, &quot;radius&quot;: 5, &quot;stroke&quot;: true, &quot;weight&quot;: 3}\n            ).addTo(feature_group_a8b7941ac51c204a26107411e3d04d96);\n        \n    \n            var circle_marker_c445c252050a94eb8f5d047ad5abd805 = L.circleMarker(\n                [40.41896438598633, -3.7036471366882324],\n                {&quot;bubblingMouseEvents&quot;: true, &quot;color&quot;: &quot;blue&quot;, &quot;dashArray&quot;: null, &quot;dashOffset&quot;: null, &quot;fill&quot;: true, &quot;fillColor&quot;: &quot;yellow&quot;, &quot;fillOpacity&quot;: 0.6, &quot;fillRule&quot;: &quot;evenodd&quot;, &quot;lineCap&quot;: &quot;round&quot;, &quot;lineJoin&quot;: &quot;round&quot;, &quot;opacity&quot;: 1.0, &quot;radius&quot;: 5, &quot;stroke&quot;: true, &quot;weight&quot;: 3}\n            ).addTo(feature_group_a8b7941ac51c204a26107411e3d04d96);\n        \n    \n            var circle_marker_559cad00c9a2614f4fa1a8894a4cc577 = L.circleMarker(\n                [40.42025375366211, -3.697913408279419],\n                {&quot;bubblingMouseEvents&quot;: true, &quot;color&quot;: &quot;blue&quot;, &quot;dashArray&quot;: null, &quot;dashOffset&quot;: null, &quot;fill&quot;: true, &quot;fillColor&quot;: &quot;yellow&quot;, &quot;fillOpacity&quot;: 0.6, &quot;fillRule&quot;: &quot;evenodd&quot;, &quot;lineCap&quot;: &quot;round&quot;, &quot;lineJoin&quot;: &quot;round&quot;, &quot;opacity&quot;: 1.0, &quot;radius&quot;: 5, &quot;stroke&quot;: true, &quot;weight&quot;: 3}\n            ).addTo(feature_group_a8b7941ac51c204a26107411e3d04d96);\n        \n    \n            var circle_marker_7d7aae51266085d29a1577f9a509e420 = L.circleMarker(\n                [40.41135787963867, -3.7110939025878906],\n                {&quot;bubblingMouseEvents&quot;: true, &quot;color&quot;: &quot;blue&quot;, &quot;dashArray&quot;: null, &quot;dashOffset&quot;: null, &quot;fill&quot;: true, &quot;fillColor&quot;: &quot;yellow&quot;, &quot;fillOpacity&quot;: 0.6, &quot;fillRule&quot;: &quot;evenodd&quot;, &quot;lineCap&quot;: &quot;round&quot;, &quot;lineJoin&quot;: &quot;round&quot;, &quot;opacity&quot;: 1.0, &quot;radius&quot;: 5, &quot;stroke&quot;: true, &quot;weight&quot;: 3}\n            ).addTo(feature_group_a8b7941ac51c204a26107411e3d04d96);\n        \n    \n            var circle_marker_0202c771c190e77b07a13a23bcafcfdb = L.circleMarker(\n                [40.41582107543945, -3.7025299072265625],\n                {&quot;bubblingMouseEvents&quot;: true, &quot;color&quot;: &quot;blue&quot;, &quot;dashArray&quot;: null, &quot;dashOffset&quot;: null, &quot;fill&quot;: true, &quot;fillColor&quot;: &quot;yellow&quot;, &quot;fillOpacity&quot;: 0.6, &quot;fillRule&quot;: &quot;evenodd&quot;, &quot;lineCap&quot;: &quot;round&quot;, &quot;lineJoin&quot;: &quot;round&quot;, &quot;opacity&quot;: 1.0, &quot;radius&quot;: 5, &quot;stroke&quot;: true, &quot;weight&quot;: 3}\n            ).addTo(feature_group_a8b7941ac51c204a26107411e3d04d96);\n        \n    \n            var circle_marker_da7b4c0cbf42242dd6433ef9f333660d = L.circleMarker(\n                [40.42018508911133, -3.697476863861084],\n                {&quot;bubblingMouseEvents&quot;: true, &quot;color&quot;: &quot;blue&quot;, &quot;dashArray&quot;: null, &quot;dashOffset&quot;: null, &quot;fill&quot;: true, &quot;fillColor&quot;: &quot;yellow&quot;, &quot;fillOpacity&quot;: 0.6, &quot;fillRule&quot;: &quot;evenodd&quot;, &quot;lineCap&quot;: &quot;round&quot;, &quot;lineJoin&quot;: &quot;round&quot;, &quot;opacity&quot;: 1.0, &quot;radius&quot;: 5, &quot;stroke&quot;: true, &quot;weight&quot;: 3}\n            ).addTo(feature_group_a8b7941ac51c204a26107411e3d04d96);\n        \n    \n            var circle_marker_7679c412af9afeb962c9eb2875517f1b = L.circleMarker(\n                [40.41581344604492, -3.7029788494110107],\n                {&quot;bubblingMouseEvents&quot;: true, &quot;color&quot;: &quot;blue&quot;, &quot;dashArray&quot;: null, &quot;dashOffset&quot;: null, &quot;fill&quot;: true, &quot;fillColor&quot;: &quot;yellow&quot;, &quot;fillOpacity&quot;: 0.6, &quot;fillRule&quot;: &quot;evenodd&quot;, &quot;lineCap&quot;: &quot;round&quot;, &quot;lineJoin&quot;: &quot;round&quot;, &quot;opacity&quot;: 1.0, &quot;radius&quot;: 5, &quot;stroke&quot;: true, &quot;weight&quot;: 3}\n            ).addTo(feature_group_a8b7941ac51c204a26107411e3d04d96);\n        \n    \n            var circle_marker_604574af28a31b8ad97efb49fef98381 = L.circleMarker(\n                [40.42705154418945, -3.7092299461364746],\n                {&quot;bubblingMouseEvents&quot;: true, &quot;color&quot;: &quot;blue&quot;, &quot;dashArray&quot;: null, &quot;dashOffset&quot;: null, &quot;fill&quot;: true, &quot;fillColor&quot;: &quot;yellow&quot;, &quot;fillOpacity&quot;: 0.6, &quot;fillRule&quot;: &quot;evenodd&quot;, &quot;lineCap&quot;: &quot;round&quot;, &quot;lineJoin&quot;: &quot;round&quot;, &quot;opacity&quot;: 1.0, &quot;radius&quot;: 5, &quot;stroke&quot;: true, &quot;weight&quot;: 3}\n            ).addTo(feature_group_a8b7941ac51c204a26107411e3d04d96);\n        \n&lt;/script&gt;\n&lt;/html&gt;\" style=\"position:absolute;width:100%;height:100%;left:0;top:0;border:none !important;\" allowfullscreen webkitallowfullscreen mozallowfullscreen></iframe></div></div>",
       "datasetInfos": [],
       "metadata": {},
       "removedWidgets": [],
       "textData": null,
       "type": "htmlSandbox"
      }
     },
     "output_type": "display_data"
    }
   ],
   "source": [
    "# instantiate a feature group for the incidents in the dataframe\n",
    "restaurants = folium.map.FeatureGroup()\n",
    "\n",
    "#loop through the 100 crimes and add each to the incidents feature group\n",
    "for lat, lng, in zip(df2.latitude, df2.longitude):\n",
    "    restaurants.add_child(\n",
    "        folium.features.CircleMarker(\n",
    "            [lat, lng],\n",
    "            radius=5, # define how big you want the circle markers to be\n",
    "            color='blue',\n",
    "            fill=True,\n",
    "            fill_color='yellow',\n",
    "            fill_opacity=0.6\n",
    "        )\n",
    "    )\n",
    "\n",
    "# add pop-up text to each marker on the map\n",
    "latitudes = list(df2.latitude)\n",
    "longitudes = list(df2.longitude)\n",
    "labels = list(df2.name)\n",
    "for lat, lng, label in zip(latitudes, longitudes, labels):\n",
    "    folium.Marker([lat, lng], popup=label).add_to(madrid_map) \n",
    " \n",
    "# add restaurants to map\n",
    "madrid_map.add_child(restaurants)"
   ]
  },
  {
   "cell_type": "markdown",
   "metadata": {
    "application/vnd.databricks.v1+cell": {
     "cellMetadata": {},
     "inputWidgets": {},
     "nuid": "6c9c6203-232d-452f-b90a-cb39523b1c3a",
     "showTitle": false,
     "title": ""
    }
   },
   "source": [
    "### Query 3\n",
    "Rating changing by postal code? Prove it\n",
    "\n",
    "As we can see from the graph, the ratings don't change much depending on the postal code. They are pretty uniform."
   ]
  },
  {
   "cell_type": "code",
   "execution_count": 0,
   "metadata": {
    "application/vnd.databricks.v1+cell": {
     "cellMetadata": {},
     "inputWidgets": {},
     "nuid": "35ef68e7-14b2-45d7-8ee9-baef4063b583",
     "showTitle": false,
     "title": ""
    }
   },
   "outputs": [
    {
     "output_type": "display_data",
     "data": {
      "text/html": [
       "<style scoped>\n",
       "  .table-result-container {\n",
       "    max-height: 300px;\n",
       "    overflow: auto;\n",
       "  }\n",
       "  table, th, td {\n",
       "    border: 1px solid black;\n",
       "    border-collapse: collapse;\n",
       "  }\n",
       "  th, td {\n",
       "    padding: 5px;\n",
       "  }\n",
       "  th {\n",
       "    text-align: left;\n",
       "  }\n",
       "</style><div class='table-result-container'><table class='table-result'><thead style='background-color: white'><tr><th>postal_code</th><th>avg(rating)</th></tr></thead><tbody><tr><td>28045</td><td>4.75</td></tr><tr><td>28009</td><td>4.571428571428571</td></tr><tr><td>28002</td><td>4.5</td></tr><tr><td>28036</td><td>4.5</td></tr><tr><td>28007</td><td>4.5</td></tr><tr><td>28042</td><td>4.5</td></tr><tr><td>28006</td><td>4.5</td></tr><tr><td>28028</td><td>4.5</td></tr><tr><td>28003</td><td>4.5</td></tr><tr><td>28016</td><td>4.5</td></tr><tr><td>28014</td><td>4.45</td></tr><tr><td>28005</td><td>4.4375</td></tr><tr><td>28020</td><td>4.4</td></tr><tr><td>28008</td><td>4.333333333333333</td></tr><tr><td>28004</td><td>4.318181818181818</td></tr><tr><td>28012</td><td>4.28</td></tr><tr><td>28001</td><td>4.269230769230769</td></tr><tr><td>28013</td><td>4.2592592592592595</td></tr><tr><td>28015</td><td>4.1923076923076925</td></tr><tr><td>28010</td><td>4.166666666666667</td></tr><tr><td>28046</td><td>4.125</td></tr></tbody></table></div>"
      ]
     },
     "metadata": {
      "application/vnd.databricks.v1+output": {
       "addedWidgets": {},
       "aggData": [],
       "aggError": "",
       "aggOverflow": false,
       "aggSchema": [],
       "aggSeriesLimitReached": false,
       "aggType": "",
       "arguments": {},
       "columnCustomDisplayInfos": {},
       "data": [
        [
         "28045",
         4.75
        ],
        [
         "28009",
         4.571428571428571
        ],
        [
         "28002",
         4.5
        ],
        [
         "28036",
         4.5
        ],
        [
         "28007",
         4.5
        ],
        [
         "28042",
         4.5
        ],
        [
         "28006",
         4.5
        ],
        [
         "28028",
         4.5
        ],
        [
         "28003",
         4.5
        ],
        [
         "28016",
         4.5
        ],
        [
         "28014",
         4.45
        ],
        [
         "28005",
         4.4375
        ],
        [
         "28020",
         4.4
        ],
        [
         "28008",
         4.333333333333333
        ],
        [
         "28004",
         4.318181818181818
        ],
        [
         "28012",
         4.28
        ],
        [
         "28001",
         4.269230769230769
        ],
        [
         "28013",
         4.2592592592592595
        ],
        [
         "28015",
         4.1923076923076925
        ],
        [
         "28010",
         4.166666666666667
        ],
        [
         "28046",
         4.125
        ]
       ],
       "datasetInfos": [],
       "dbfsResultPath": null,
       "isJsonSchema": true,
       "metadata": {},
       "overflow": false,
       "plotOptions": {
        "customPlotOptions": {},
        "displayType": "table",
        "pivotAggregation": null,
        "pivotColumns": null,
        "xColumns": null,
        "yColumns": null
       },
       "removedWidgets": [],
       "schema": [
        {
         "metadata": "{}",
         "name": "postal_code",
         "type": "\"string\""
        },
        {
         "metadata": "{}",
         "name": "avg(rating)",
         "type": "\"double\""
        }
       ],
       "type": "table"
      }
     },
     "output_type": "display_data"
    },
    {
     "output_type": "display_data",
     "data": {
      "text/plain": [
       "Databricks visualization. Run in Databricks to view."
      ]
     },
     "metadata": {
      "application/vnd.databricks.v1.subcommand+json": {
       "baseErrorDetails": null,
       "bindings": {},
       "collapsed": false,
       "command": "%python\n__backend_agg_display_orig = display\n__backend_agg_dfs = []\ndef __backend_agg_display_new(df):\n    __backend_agg_df_modules = [\"pandas.core.frame\", \"databricks.koalas.frame\", \"pyspark.sql.dataframe\", \"pyspark.pandas.frame\"]\n    if (type(df).__module__ in __backend_agg_df_modules and type(df).__name__ == 'DataFrame') or isinstance(df, list):\n        __backend_agg_dfs.append(df)\n\ndisplay = __backend_agg_display_new\n\ndef __backend_agg_user_code_fn():\n    import base64\n    exec(base64.standard_b64decode(\"cTMgPSBkYXRhLndpdGhDb2x1bW4oInBvc3RhbF9jb2RlIiwgZGF0YVsicG9zdGFsX2NvZGUiXS5jYXN0KCdzdHJpbmcnKSkKcTMgPSBxMy5ncm91cEJ5KCdwb3N0YWxfY29kZScpLm1lYW4oJ3JhdGluZycpCnEzID0gcTMuc29ydCgiYXZnKHJhdGluZykiLCBhc2NlbmRpbmc9RmFsc2UpCmRpc3BsYXkocTMp\").decode())\n\ntry:\n    # run user code\n    __backend_agg_user_code_fn()\n\n    #reset display function\n    display = __backend_agg_display_orig\n\n    if len(__backend_agg_dfs) > 0:\n        # create a temp view\n        if hasattr(__backend_agg_dfs[0], \"to_spark\"):\n            # koalas dataframe\n            __backend_agg_dfs[0].to_spark().createOrReplaceTempView(\"DatabricksView2abb978\")\n        elif type(__backend_agg_dfs[0]).__module__ == \"pandas.core.frame\" or isinstance(__backend_agg_dfs[0], list):\n            # pandas dataframe\n            spark.createDataFrame(__backend_agg_dfs[0]).createOrReplaceTempView(\"DatabricksView2abb978\")\n        else:\n            __backend_agg_dfs[0].createOrReplaceTempView(\"DatabricksView2abb978\")\n        #run backend agg\n        display(spark.sql(\"\"\"WITH q AS (select * from DatabricksView2abb978) SELECT `postal_code`,SUM(`avg(rating)`) `column_e7cebe974` FROM q GROUP BY `postal_code`\"\"\"))\n    else:\n        displayHTML(\"dataframe no longer exists. If you're using dataframe.display(), use display(dataframe) instead.\")\n\n\nfinally:\n    spark.sql(\"drop view if exists DatabricksView2abb978\")\n    display = __backend_agg_display_orig\n    del __backend_agg_display_new\n    del __backend_agg_display_orig\n    del __backend_agg_dfs\n    del __backend_agg_user_code_fn\n\n",
       "commandTitle": "Visualization 1",
       "commandType": "auto",
       "commandVersion": 0,
       "commentThread": [],
       "commentsVisible": false,
       "contentSha256Hex": null,
       "customPlotOptions": {
        "redashChart": [
         {
          "key": "type",
          "value": "CHART"
         },
         {
          "key": "options",
          "value": {
           "alignYAxesAtZero": true,
           "coefficient": 1,
           "columnConfigurationMap": {
            "x": {
             "column": "postal_code",
             "id": "column_e7cebe973"
            },
            "y": [
             {
              "column": "avg(rating)",
              "id": "column_e7cebe974",
              "transform": "SUM"
             }
            ]
           },
           "dateTimeFormat": "DD/MM/YYYY HH:mm",
           "direction": {
            "type": "counterclockwise"
           },
           "error_y": {
            "type": "data",
            "visible": true
           },
           "globalSeriesType": "column",
           "isAggregationOn": true,
           "legend": {
            "traceorder": "normal"
           },
           "missingValuesAsZero": true,
           "numberFormat": "0,0[.]00000",
           "percentFormat": "0[.]00%",
           "series": {
            "error_y": {
             "type": "data",
             "visible": true
            },
            "stacking": null
           },
           "seriesOptions": {
            "column_e7cebe974": {
             "color": "#E69138",
             "name": "avg(rating)",
             "yAxis": 0
            }
           },
           "showDataLabels": false,
           "sizemode": "diameter",
           "sortX": true,
           "sortY": true,
           "swappedAxes": false,
           "textFormat": "",
           "useAggregationsUi": true,
           "valuesOptions": {},
           "version": 2,
           "xAxis": {
            "labels": {
             "enabled": true
            },
            "type": "-"
           },
           "yAxis": [
            {
             "type": "-"
            },
            {
             "opposite": true,
             "type": "-"
            }
           ]
          }
         }
        ]
       },
       "datasetPreviewNameToCmdIdMap": {},
       "diffDeletes": [],
       "diffInserts": [],
       "displayType": "redashChart",
       "error": null,
       "errorDetails": null,
       "errorSummary": null,
       "errorTraceType": null,
       "finishTime": 0,
       "globalVars": {},
       "guid": "",
       "height": "auto",
       "hideCommandCode": false,
       "hideCommandResult": false,
       "iPythonMetadata": null,
       "inputWidgets": {},
       "isLockedInExamMode": false,
       "latestUser": "a user",
       "latestUserId": null,
       "listResultMetadata": null,
       "metadata": {},
       "nuid": "73fd691b-53cb-4027-8040-ba396cf2595c",
       "origId": 0,
       "parentHierarchy": [],
       "pivotAggregation": null,
       "pivotColumns": null,
       "position": 5.6875,
       "resultDbfsErrorMessage": null,
       "resultDbfsStatus": "INLINED_IN_TREE",
       "results": null,
       "showCommandTitle": false,
       "startTime": 0,
       "state": "input",
       "streamStates": {},
       "subcommandOptions": {
        "queryPlan": {
         "groups": [
          {
           "column": "postal_code",
           "type": "column"
          }
         ],
         "selects": [
          {
           "column": "postal_code",
           "type": "column"
          },
          {
           "alias": "column_e7cebe974",
           "args": [
            {
             "column": "avg(rating)",
             "type": "column"
            }
           ],
           "function": "SUM",
           "type": "function"
          }
         ]
        }
       },
       "submitTime": 0,
       "subtype": "tableResultSubCmd.visualization",
       "tableResultIndex": 0,
       "useConsistentColors": false,
       "version": "CommandV1",
       "width": "auto",
       "workflows": [],
       "xColumns": null,
       "yColumns": null
      }
     },
     "output_type": "display_data"
    }
   ],
   "source": [
    "q3 = data.withColumn(\"postal_code\", data[\"postal_code\"].cast('string'))\n",
    "q3 = q3.groupBy('postal_code').mean('rating')\n",
    "q3 = q3.sort(\"avg(rating)\", ascending=False)\n",
    "display(q3)"
   ]
  },
  {
   "cell_type": "markdown",
   "metadata": {
    "application/vnd.databricks.v1+cell": {
     "cellMetadata": {},
     "inputWidgets": {},
     "nuid": "4a65b598-bbad-4dbd-a94c-96cee91199d5",
     "showTitle": false,
     "title": ""
    }
   },
   "source": [
    "### Query 4\n",
    "Graph the distribution of > 4.5* rated and > 10 reviews restaurant by categories"
   ]
  },
  {
   "cell_type": "code",
   "execution_count": 0,
   "metadata": {
    "application/vnd.databricks.v1+cell": {
     "cellMetadata": {},
     "inputWidgets": {},
     "nuid": "7df65cf0-2d24-4093-836e-fdf110cd5eee",
     "showTitle": false,
     "title": ""
    }
   },
   "outputs": [
    {
     "output_type": "display_data",
     "data": {
      "text/html": [
       "<style scoped>\n",
       "  .table-result-container {\n",
       "    max-height: 300px;\n",
       "    overflow: auto;\n",
       "  }\n",
       "  table, th, td {\n",
       "    border: 1px solid black;\n",
       "    border-collapse: collapse;\n",
       "  }\n",
       "  th, td {\n",
       "    padding: 5px;\n",
       "  }\n",
       "  th {\n",
       "    text-align: left;\n",
       "  }\n",
       "</style><div class='table-result-container'><table class='table-result'><thead style='background-color: white'><tr><th>categories</th><th>count</th></tr></thead><tbody><tr><td>Mexican</td><td>12</td></tr><tr><td>Spanish</td><td>33</td></tr><tr><td>Burgers</td><td>14</td></tr><tr><td>Italian</td><td>15</td></tr></tbody></table></div>"
      ]
     },
     "metadata": {
      "application/vnd.databricks.v1+output": {
       "addedWidgets": {},
       "aggData": [],
       "aggError": "",
       "aggOverflow": false,
       "aggSchema": [],
       "aggSeriesLimitReached": false,
       "aggType": "",
       "arguments": {},
       "columnCustomDisplayInfos": {},
       "data": [
        [
         "Mexican",
         12
        ],
        [
         "Spanish",
         33
        ],
        [
         "Burgers",
         14
        ],
        [
         "Italian",
         15
        ]
       ],
       "datasetInfos": [],
       "dbfsResultPath": null,
       "isJsonSchema": true,
       "metadata": {},
       "overflow": false,
       "plotOptions": {
        "customPlotOptions": {},
        "displayType": "table",
        "pivotAggregation": null,
        "pivotColumns": null,
        "xColumns": null,
        "yColumns": null
       },
       "removedWidgets": [],
       "schema": [
        {
         "metadata": "{}",
         "name": "categories",
         "type": "\"string\""
        },
        {
         "metadata": "{}",
         "name": "count",
         "type": "\"long\""
        }
       ],
       "type": "table"
      }
     },
     "output_type": "display_data"
    },
    {
     "output_type": "display_data",
     "data": {
      "text/plain": [
       "Databricks visualization. Run in Databricks to view."
      ]
     },
     "metadata": {
      "application/vnd.databricks.v1.subcommand+json": {
       "baseErrorDetails": null,
       "bindings": {},
       "collapsed": false,
       "command": "%python\n__backend_agg_display_orig = display\n__backend_agg_dfs = []\ndef __backend_agg_display_new(df):\n    __backend_agg_df_modules = [\"pandas.core.frame\", \"databricks.koalas.frame\", \"pyspark.sql.dataframe\", \"pyspark.pandas.frame\"]\n    if (type(df).__module__ in __backend_agg_df_modules and type(df).__name__ == 'DataFrame') or isinstance(df, list):\n        __backend_agg_dfs.append(df)\n\ndisplay = __backend_agg_display_new\n\ndef __backend_agg_user_code_fn():\n    import base64\n    exec(base64.standard_b64decode(\"cTIgPSBkYXRhLmZpbHRlciggKGRhdGEucmF0aW5nID49IDQuNSkgJiAoZGF0YS5yZXZpZXdfY291bnQgPj0xMCkpCnEyID0gcTIuZ3JvdXBCeSgnY2F0ZWdvcmllcycpLmNvdW50KCkKZGlzcGxheShxMik=\").decode())\n\ntry:\n    # run user code\n    __backend_agg_user_code_fn()\n\n    #reset display function\n    display = __backend_agg_display_orig\n\n    if len(__backend_agg_dfs) > 0:\n        # create a temp view\n        if hasattr(__backend_agg_dfs[0], \"to_spark\"):\n            # koalas dataframe\n            __backend_agg_dfs[0].to_spark().createOrReplaceTempView(\"DatabricksViewb3fe724\")\n        elif type(__backend_agg_dfs[0]).__module__ == \"pandas.core.frame\" or isinstance(__backend_agg_dfs[0], list):\n            # pandas dataframe\n            spark.createDataFrame(__backend_agg_dfs[0]).createOrReplaceTempView(\"DatabricksViewb3fe724\")\n        else:\n            __backend_agg_dfs[0].createOrReplaceTempView(\"DatabricksViewb3fe724\")\n        #run backend agg\n        display(spark.sql(\"\"\"WITH q AS (select * from DatabricksViewb3fe724) SELECT `categories`,SUM(`count`) `column_e7cebe972` FROM q GROUP BY `categories`\"\"\"))\n    else:\n        displayHTML(\"dataframe no longer exists. If you're using dataframe.display(), use display(dataframe) instead.\")\n\n\nfinally:\n    spark.sql(\"drop view if exists DatabricksViewb3fe724\")\n    display = __backend_agg_display_orig\n    del __backend_agg_display_new\n    del __backend_agg_display_orig\n    del __backend_agg_dfs\n    del __backend_agg_user_code_fn\n\n",
       "commandTitle": "Visualization 1",
       "commandType": "auto",
       "commandVersion": 0,
       "commentThread": [],
       "commentsVisible": false,
       "contentSha256Hex": null,
       "customPlotOptions": {
        "redashChart": [
         {
          "key": "type",
          "value": "CHART"
         },
         {
          "key": "options",
          "value": {
           "alignYAxesAtZero": true,
           "coefficient": 1,
           "columnConfigurationMap": {
            "x": {
             "column": "categories",
             "id": "column_e7cebe971"
            },
            "y": [
             {
              "column": "count",
              "id": "column_e7cebe972",
              "transform": "SUM"
             }
            ]
           },
           "dateTimeFormat": "DD/MM/YYYY HH:mm",
           "direction": {
            "type": "counterclockwise"
           },
           "error_y": {
            "type": "data",
            "visible": true
           },
           "globalSeriesType": "column",
           "isAggregationOn": true,
           "legend": {
            "traceorder": "normal"
           },
           "missingValuesAsZero": true,
           "numberFormat": "0,0[.]00000",
           "percentFormat": "0[.]00%",
           "series": {
            "error_y": {
             "type": "data",
             "visible": true
            },
            "stacking": null
           },
           "seriesOptions": {
            "column_e7cebe972": {
             "color": "#E69138",
             "name": "count",
             "yAxis": 0
            }
           },
           "showDataLabels": false,
           "sizemode": "diameter",
           "sortX": true,
           "sortY": true,
           "swappedAxes": false,
           "textFormat": "",
           "useAggregationsUi": true,
           "valuesOptions": {},
           "version": 2,
           "xAxis": {
            "labels": {
             "enabled": true
            },
            "type": "-"
           },
           "yAxis": [
            {
             "type": "-"
            },
            {
             "opposite": true,
             "type": "-"
            }
           ]
          }
         }
        ]
       },
       "datasetPreviewNameToCmdIdMap": {},
       "diffDeletes": [],
       "diffInserts": [],
       "displayType": "redashChart",
       "error": null,
       "errorDetails": null,
       "errorSummary": null,
       "errorTraceType": null,
       "finishTime": 0,
       "globalVars": {},
       "guid": "",
       "height": "auto",
       "hideCommandCode": false,
       "hideCommandResult": false,
       "iPythonMetadata": null,
       "inputWidgets": {},
       "isLockedInExamMode": false,
       "latestUser": "a user",
       "latestUserId": null,
       "listResultMetadata": null,
       "metadata": {},
       "nuid": "844f4619-c042-4317-9ba2-0b5139cf51e7",
       "origId": 0,
       "parentHierarchy": [],
       "pivotAggregation": null,
       "pivotColumns": null,
       "position": 6.0,
       "resultDbfsErrorMessage": null,
       "resultDbfsStatus": "INLINED_IN_TREE",
       "results": null,
       "showCommandTitle": false,
       "startTime": 0,
       "state": "input",
       "streamStates": {},
       "subcommandOptions": {
        "queryPlan": {
         "groups": [
          {
           "column": "categories",
           "type": "column"
          }
         ],
         "selects": [
          {
           "column": "categories",
           "type": "column"
          },
          {
           "alias": "column_e7cebe972",
           "args": [
            {
             "column": "count",
             "type": "column"
            }
           ],
           "function": "SUM",
           "type": "function"
          }
         ]
        }
       },
       "submitTime": 0,
       "subtype": "tableResultSubCmd.visualization",
       "tableResultIndex": 0,
       "useConsistentColors": false,
       "version": "CommandV1",
       "width": "auto",
       "workflows": [],
       "xColumns": null,
       "yColumns": null
      }
     },
     "output_type": "display_data"
    }
   ],
   "source": [
    "q2 = data.filter( (data.rating >= 4.5) & (data.review_count >=10))\n",
    "q2 = q2.groupBy('categories').count()\n",
    "display(q2)"
   ]
  },
  {
   "cell_type": "markdown",
   "metadata": {
    "application/vnd.databricks.v1+cell": {
     "cellMetadata": {},
     "inputWidgets": {},
     "nuid": "183fb0d7-6636-48af-ad78-75a3d0f2a857",
     "showTitle": false,
     "title": ""
    }
   },
   "source": [
    "Most of the restaurant with a rating higher than 4.5 and more than 10 reviews fall into the Spanish category."
   ]
  }
 ],
 "metadata": {
  "application/vnd.databricks.v1+notebook": {
   "dashboards": [],
   "language": "python",
   "notebookMetadata": {
    "pythonIndentUnit": 4
   },
   "notebookName": "3 - Dashboard Final Project",
   "widgets": {}
  }
 },
 "nbformat": 4,
 "nbformat_minor": 0
}
