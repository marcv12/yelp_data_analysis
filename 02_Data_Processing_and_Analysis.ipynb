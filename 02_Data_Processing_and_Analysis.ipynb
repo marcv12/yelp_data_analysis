{
 "cells": [
  {
   "cell_type": "code",
   "execution_count": 0,
   "metadata": {
    "application/vnd.databricks.v1+cell": {
     "cellMetadata": {},
     "inputWidgets": {},
     "nuid": "38bb2e2e-4f99-4068-a704-63d7268af1d1",
     "showTitle": false,
     "title": ""
    }
   },
   "outputs": [
    {
     "output_type": "display_data",
     "data": {
      "text/html": [
       "<style scoped>\n",
       "  .table-result-container {\n",
       "    max-height: 300px;\n",
       "    overflow: auto;\n",
       "  }\n",
       "  table, th, td {\n",
       "    border: 1px solid black;\n",
       "    border-collapse: collapse;\n",
       "  }\n",
       "  th, td {\n",
       "    padding: 5px;\n",
       "  }\n",
       "  th {\n",
       "    text-align: left;\n",
       "  }\n",
       "</style><div class='table-result-container'><table class='table-result'><thead style='background-color: white'><tr><th>name</th><th>review_count</th><th>categories</th><th>rating</th><th>latitude</th><th>price</th><th>distance</th><th>longitude</th><th>postal_code</th></tr></thead><tbody><tr><td>El Sur</td><td>769</td><td>Spanish</td><td>4.5</td><td>40.41105</td><td>2</td><td>1323.9351440693945</td><td>-3.6995454</td><td>28012</td></tr><tr><td>Alhambra</td><td>448</td><td>Spanish</td><td>4.0</td><td>40.41587</td><td>2</td><td>847.3790987480967</td><td>-3.7016</td><td>28012</td></tr><tr><td>La Bodega de Los Secretos</td><td>31</td><td>Spanish</td><td>4.5</td><td>40.410683</td><td>3</td><td>1375.936331500051</td><td>-3.694688</td><td>28014</td></tr><tr><td>Casa Julio</td><td>42</td><td>Spanish</td><td>4.5</td><td>40.42427</td><td>2</td><td>546.9655482728417</td><td>-3.70368</td><td>28004</td></tr><tr><td>Celso y Manolo</td><td>182</td><td>Spanish</td><td>4.5</td><td>40.420185</td><td>2</td><td>297.6040361411656</td><td>-3.6974769</td><td>28004</td></tr><tr><td>Taberna El Sur de Huertas</td><td>41</td><td>Spanish</td><td>5.0</td><td>40.41366</td><td>null</td><td>1036.183034652163</td><td>-3.69943</td><td>28014</td></tr><tr><td>Malacatín</td><td>24</td><td>Spanish</td><td>4.5</td><td>40.41031</td><td>null</td><td>1638.679922735727</td><td>-3.70765</td><td>28005</td></tr><tr><td>Más Al Sur</td><td>126</td><td>Spanish</td><td>4.5</td><td>40.41002</td><td>2</td><td>1409.3953170255295</td><td>-3.69693</td><td>28012</td></tr><tr><td>La Casa del Abuelo</td><td>161</td><td>Spanish</td><td>4.0</td><td>40.415768</td><td>2</td><td>859.0034856078098</td><td>-3.701606</td><td>28012</td></tr><tr><td>Oink</td><td>16</td><td>Spanish</td><td>4.5</td><td>40.42004</td><td>1</td><td>398.07076724778057</td><td>-3.700481</td><td>28013</td></tr><tr><td>Street Xo</td><td>94</td><td>Spanish</td><td>4.5</td><td>40.427647</td><td>3</td><td>1035.445088896326</td><td>-3.687092</td><td>28001</td></tr><tr><td>Vinoteca Moratín</td><td>33</td><td>Spanish</td><td>5.0</td><td>40.41252</td><td>3</td><td>1168.8084348720095</td><td>-3.69541</td><td>28014</td></tr><tr><td>El Rincón de Ati</td><td>8</td><td>Spanish</td><td>4.5</td><td>40.415123</td><td>2</td><td>1257.8650825827144</td><td>-3.708427</td><td>28005</td></tr><tr><td>La Mi Venta</td><td>102</td><td>Spanish</td><td>4.5</td><td>40.420456</td><td>3</td><td>1282.4301695469583</td><td>-3.7124026</td><td>28013</td></tr><tr><td>Bodega de la Ardosa</td><td>125</td><td>Spanish</td><td>4.0</td><td>40.42375</td><td>2</td><td>371.17219437757063</td><td>-3.70182</td><td>28004</td></tr><tr><td>Algarabía</td><td>16</td><td>Spanish</td><td>5.0</td><td>40.41732</td><td>2</td><td>1245.5718114622448</td><td>-3.7103744</td><td>28013</td></tr><tr><td>Lateral</td><td>79</td><td>Spanish</td><td>4.0</td><td>40.42306</td><td>2</td><td>299.75414566377356</td><td>-3.70113</td><td>28004</td></tr><tr><td>Entrevinos</td><td>11</td><td>Spanish</td><td>4.5</td><td>40.42615</td><td>2</td><td>1679.1324348217292</td><td>-3.71713</td><td>28008</td></tr><tr><td>Los Montes de Galicia</td><td>54</td><td>Spanish</td><td>4.5</td><td>40.4346</td><td>3</td><td>2810.2129913861268</td><td>-3.66854</td><td>28028</td></tr><tr><td>Sacha</td><td>12</td><td>Spanish</td><td>4.5</td><td>40.460682</td><td>4</td><td>4292.8105582067265</td><td>-3.6874075</td><td>28036</td></tr><tr><td>Malaspina</td><td>210</td><td>Spanish</td><td>4.0</td><td>40.41582</td><td>1</td><td>880.0271748434934</td><td>-3.70253</td><td>28012</td></tr><tr><td>Tierra del Queiles</td><td>20</td><td>Spanish</td><td>4.5</td><td>40.42661</td><td>2</td><td>888.0611582031488</td><td>-3.68828</td><td>28001</td></tr><tr><td>Casa Toni</td><td>86</td><td>Spanish</td><td>4.5</td><td>40.415554</td><td>1</td><td>889.604983373482</td><td>-3.7018628</td><td>28012</td></tr><tr><td>La Austriaca</td><td>23</td><td>Spanish</td><td>4.5</td><td>40.42139</td><td>2</td><td>371.7496282903476</td><td>-3.70149</td><td>28004</td></tr><tr><td>Ciudad de Tui</td><td>26</td><td>Spanish</td><td>4.0</td><td>40.41823</td><td>null</td><td>659.7646610690329</td><td>-3.70241</td><td>28013</td></tr><tr><td>O Pazo de Lugo</td><td>55</td><td>Spanish</td><td>4.0</td><td>40.407417</td><td>2</td><td>1720.5167688397755</td><td>-3.6962805</td><td>28012</td></tr><tr><td>El Comunista</td><td>9</td><td>Spanish</td><td>4.5</td><td>40.42219</td><td>2</td><td>70.33818378885029</td><td>-3.69756</td><td>28004</td></tr><tr><td>La Garriga</td><td>2</td><td>Spanish</td><td>5.0</td><td>40.426544</td><td>null</td><td>560.7903673495854</td><td>-3.69306</td><td>28004</td></tr><tr><td>Selva</td><td>9</td><td>Spanish</td><td>4.5</td><td>40.423363</td><td>2</td><td>936.2070628085398</td><td>-3.708626</td><td>28015</td></tr><tr><td>Rosi La Loca</td><td>180</td><td>Spanish</td><td>4.5</td><td>40.415813</td><td>3</td><td>906.7764467348135</td><td>-3.7029788</td><td>28012</td></tr><tr><td>El Lagar</td><td>14</td><td>Spanish</td><td>4.5</td><td>40.42866</td><td>1</td><td>2003.3739086320672</td><td>-3.71991</td><td>28008</td></tr><tr><td>La Descubierta</td><td>73</td><td>Spanish</td><td>4.0</td><td>40.41525</td><td>1</td><td>946.019092804493</td><td>-3.70262</td><td>28012</td></tr><tr><td>Casa Amadeo</td><td>15</td><td>Spanish</td><td>4.5</td><td>40.41052</td><td>1</td><td>1606.8643189404181</td><td>-3.70749</td><td>28005</td></tr><tr><td>La Gastro</td><td>69</td><td>Spanish</td><td>4.5</td><td>40.42129</td><td>2</td><td>488.7083814997758</td><td>-3.70289</td><td>28004</td></tr><tr><td>El Tigre</td><td>366</td><td>Spanish</td><td>3.5</td><td>40.420254</td><td>1</td><td>290.9915674469935</td><td>-3.6979134</td><td>28004</td></tr><tr><td>La Española</td><td>8</td><td>Spanish</td><td>4.5</td><td>40.420994</td><td>null</td><td>320.6234167699696</td><td>-3.700475</td><td>28004</td></tr><tr><td>El Asador de Aranda</td><td>29</td><td>Spanish</td><td>4.5</td><td>40.41985</td><td>3</td><td>922.8203902039091</td><td>-3.70764</td><td>28013</td></tr><tr><td>Botín</td><td>615</td><td>Spanish</td><td>4.0</td><td>40.41406</td><td>3</td><td>1304.2170679660362</td><td>-3.70803</td><td>28005</td></tr><tr><td>El Barril</td><td>21</td><td>Spanish</td><td>5.0</td><td>40.42199</td><td>3</td><td>630.0871640719441</td><td>-3.69023</td><td>28001</td></tr><tr><td>La Perejila</td><td>32</td><td>Spanish</td><td>4.5</td><td>40.41229</td><td>2</td><td>1530.886543775833</td><td>-3.70924</td><td>28005</td></tr><tr><td>Tribuetxe</td><td>20</td><td>Spanish</td><td>4.5</td><td>40.407425</td><td>1</td><td>1780.9484656935279</td><td>-3.703198</td><td>28012</td></tr><tr><td>Los Arcos</td><td>6</td><td>Spanish</td><td>5.0</td><td>40.43787</td><td>3</td><td>1675.278430632665</td><td>-3.6992831</td><td>28010</td></tr><tr><td>La Dominga</td><td>26</td><td>Spanish</td><td>4.0</td><td>40.42526</td><td>2</td><td>567.3408517478088</td><td>-3.70348</td><td>28004</td></tr><tr><td>La Tasqueria</td><td>21</td><td>Spanish</td><td>5.0</td><td>40.42228</td><td>3</td><td>2019.6198202824544</td><td>-3.67374</td><td>28009</td></tr><tr><td>Angelita</td><td>29</td><td>Spanish</td><td>5.0</td><td>40.420277</td><td>3</td><td>372.5374556274898</td><td>-3.700387</td><td>28004</td></tr><tr><td>Casa Dani</td><td>35</td><td>Spanish</td><td>4.5</td><td>40.426846</td><td>1</td><td>1094.0981652402868</td><td>-3.6857686</td><td>28001</td></tr><tr><td>La Sanabresa</td><td>52</td><td>Spanish</td><td>4.5</td><td>40.41254</td><td>2</td><td>1148.4834173354568</td><td>-3.69854</td><td>28014</td></tr><tr><td>Casa Lucas</td><td>154</td><td>Spanish</td><td>4.5</td><td>40.412327</td><td>2</td><td>1541.9081259234936</td><td>-3.709429</td><td>28005</td></tr><tr><td>El Cogollo</td><td>20</td><td>Spanish</td><td>4.5</td><td>40.417</td><td>2</td><td>1106.3064051275262</td><td>-3.7081468</td><td>28013</td></tr><tr><td>Lakasa</td><td>48</td><td>Spanish</td><td>5.0</td><td>40.440876</td><td>2</td><td>2020.5902312080937</td><td>-3.700715</td><td>28003</td></tr><tr><td>Steak Burger</td><td>3</td><td>Burgers</td><td>4.5</td><td>40.41983</td><td>null</td><td>885.8031586140268</td><td>-3.707263</td><td>28013</td></tr><tr><td>Bacoa</td><td>67</td><td>Burgers</td><td>4.5</td><td>40.4167</td><td>2</td><td>764.7506754570883</td><td>-3.701595</td><td>28014</td></tr><tr><td>Viva Burger</td><td>34</td><td>Burgers</td><td>4.5</td><td>40.41247</td><td>2</td><td>1683.8474441060912</td><td>-3.71181</td><td>28005</td></tr><tr><td>Steak Burger</td><td>21</td><td>Burgers</td><td>4.0</td><td>40.419746</td><td>null</td><td>379.9067300855736</td><td>-3.699429</td><td>28013</td></tr><tr><td>Burnout</td><td>28</td><td>Burgers</td><td>4.5</td><td>40.43248</td><td>2</td><td>1185.7862478138004</td><td>-3.70367</td><td>28010</td></tr><tr><td>Federal</td><td>180</td><td>Burgers</td><td>4.0</td><td>40.42705</td><td>2</td><td>1090.3118768624156</td><td>-3.70923</td><td>28015</td></tr><tr><td>Steak Burger</td><td>25</td><td>Burgers</td><td>4.0</td><td>40.40964</td><td>2</td><td>1506.045945872656</td><td>-3.693706</td><td>28012</td></tr><tr><td>Moline's Grill</td><td>1</td><td>Burgers</td><td>5.0</td><td>40.408627</td><td>null</td><td>1636.697580764222</td><td>-3.6926575</td><td>28012</td></tr><tr><td>Zombie</td><td>54</td><td>Burgers</td><td>4.0</td><td>40.42321</td><td>2</td><td>609.4105630939849</td><td>-3.7047706</td><td>28004</td></tr><tr><td>Mad Mad Vegan</td><td>14</td><td>Burgers</td><td>5.0</td><td>40.422703</td><td>null</td><td>88.35952856228302</td><td>-3.698609</td><td>28004</td></tr><tr><td>Munchies Hot Dog</td><td>25</td><td>Burgers</td><td>4.0</td><td>40.4137</td><td>1</td><td>1022.4985490488237</td><td>-3.69913</td><td>28014</td></tr><tr><td>Five Guys</td><td>17</td><td>Burgers</td><td>4.0</td><td>40.420452</td><td>2</td><td>724.1376317449414</td><td>-3.7055347</td><td>28013</td></tr><tr><td>The Mad Café</td><td>51</td><td>Burgers</td><td>4.5</td><td>40.41225</td><td>2</td><td>1523.7896540257736</td><td>-3.70888</td><td>28005</td></tr><tr><td>Steak 'n Shake</td><td>33</td><td>Burgers</td><td>3.5</td><td>40.41656</td><td>2</td><td>741.9874349730312</td><td>-3.7002788</td><td>28014</td></tr><tr><td>New York Burger</td><td>24</td><td>Burgers</td><td>4.5</td><td>40.450138</td><td>1</td><td>3075.7635209239843</td><td>-3.6915689</td><td>28046</td></tr><tr><td>Goiko Grill</td><td>45</td><td>Burgers</td><td>4.0</td><td>40.42896</td><td>2</td><td>1984.3728826077909</td><td>-3.675554</td><td>28006</td></tr><tr><td>McDonald's</td><td>25</td><td>Burgers</td><td>4.0</td><td>40.41986</td><td>1</td><td>492.6528185606649</td><td>-3.7018702</td><td>28013</td></tr><tr><td>Naked & Sated</td><td>6</td><td>Burgers</td><td>5.0</td><td>40.46335</td><td>null</td><td>4539.55684957293</td><td>-3.69064</td><td>28020</td></tr><tr><td>Juancho’s BBQ</td><td>4</td><td>Burgers</td><td>4.5</td><td>40.436317</td><td>null</td><td>1496.4159937738232</td><td>-3.697322</td><td>28010</td></tr><tr><td>Goiko Grill</td><td>70</td><td>Burgers</td><td>4.5</td><td>40.437668</td><td>1</td><td>1886.4628184569287</td><td>-3.686709</td><td>28006</td></tr><tr><td>Rolling Dance & Burger</td><td>4</td><td>Burgers</td><td>4.5</td><td>40.47205</td><td>2</td><td>5625.145609505655</td><td>-3.6820524</td><td>28036</td></tr><tr><td>Goiko Grill</td><td>18</td><td>Burgers</td><td>4.0</td><td>40.41494</td><td>2</td><td>857.9076724337576</td><td>-3.69859</td><td>28014</td></tr><tr><td>La Trastienda Tapas</td><td>5</td><td>Burgers</td><td>4.0</td><td>40.422</td><td>2</td><td>95.65511145937545</td><td>-3.6975672</td><td>28004</td></tr><tr><td>Burnout</td><td>11</td><td>Burgers</td><td>4.5</td><td>40.4208</td><td>2</td><td>440.75710302522737</td><td>-3.70209</td><td>28004</td></tr><tr><td>Hard Rock Cafe</td><td>109</td><td>Burgers</td><td>4.0</td><td>40.426224</td><td>2</td><td>772.9589767071259</td><td>-3.6895945</td><td>28046</td></tr><tr><td>Goiko Grill</td><td>9</td><td>Burgers</td><td>4.5</td><td>40.458473</td><td>2</td><td>4199.438176581559</td><td>-3.6810682</td><td>28016</td></tr><tr><td>Bentley's</td><td>12</td><td>Burgers</td><td>4.0</td><td>40.419575</td><td>2</td><td>835.9441616287093</td><td>-3.7064683</td><td>28013</td></tr><tr><td>s10bar</td><td>10</td><td>Burgers</td><td>3.5</td><td>40.43625</td><td>1</td><td>1977.934394894583</td><td>-3.71293</td><td>28015</td></tr><tr><td>Cokuy</td><td>2</td><td>Burgers</td><td>4.5</td><td>40.4158</td><td>null</td><td>901.220624078146</td><td>-3.702809</td><td>28012</td></tr><tr><td>Goiko Grill</td><td>41</td><td>Burgers</td><td>4.0</td><td>40.42938</td><td>2</td><td>840.091922029471</td><td>-3.70217</td><td>28004</td></tr><tr><td>La Mucca</td><td>7</td><td>Burgers</td><td>4.0</td><td>40.427193</td><td>null</td><td>593.774347218791</td><td>-3.701686</td><td>28004</td></tr><tr><td>Diurno</td><td>73</td><td>Burgers</td><td>4.0</td><td>40.42123</td><td>2</td><td>181.88790341618449</td><td>-3.69717</td><td>28004</td></tr><tr><td>Tommy Mel´s</td><td>7</td><td>Burgers</td><td>4.0</td><td>40.423748</td><td>2</td><td>1904.7813667856042</td><td>-3.6751144</td><td>28009</td></tr><tr><td>Zenith</td><td>33</td><td>Burgers</td><td>4.5</td><td>40.42235</td><td>null</td><td>330.30348687855644</td><td>-3.7016</td><td>28004</td></tr><tr><td>Anauco</td><td>7</td><td>Burgers</td><td>4.0</td><td>40.42009</td><td>2</td><td>327.0667231780543</td><td>-3.69915</td><td>28004</td></tr><tr><td>Alta Burgersía</td><td>21</td><td>Burgers</td><td>4.0</td><td>40.41333</td><td>1</td><td>1076.5736060546099</td><td>-3.6998408</td><td>28012</td></tr><tr><td>Carmencita</td><td>153</td><td>Burgers</td><td>4.5</td><td>40.426086</td><td>2</td><td>907.9863770759232</td><td>-3.707439</td><td>28015</td></tr><tr><td>Burger King</td><td>2</td><td>Burgers</td><td>4.0</td><td>40.42703</td><td>null</td><td>492.182563029827</td><td>-3.69592</td><td>28004</td></tr><tr><td>Carl's Jr.</td><td>2</td><td>Burgers</td><td>4.0</td><td>40.420948</td><td>null</td><td>856.0545150202773</td><td>-3.707382</td><td>28013</td></tr><tr><td>Skyline Diner</td><td>20</td><td>Burgers</td><td>4.5</td><td>40.41268</td><td>2</td><td>1143.2003384440857</td><td>-3.6956754</td><td>28014</td></tr><tr><td>Foster's Hollywood</td><td>2</td><td>Burgers</td><td>3.5</td><td>40.405262</td><td>null</td><td>1981.148064157556</td><td>-3.701242</td><td>28012</td></tr><tr><td>Food Truck</td><td>33</td><td>Burgers</td><td>4.5</td><td>40.42375</td><td>2</td><td>156.68651580601073</td><td>-3.69618</td><td>28004</td></tr><tr><td>Hamburguesa Nostra</td><td>7</td><td>Burgers</td><td>4.0</td><td>40.47458</td><td>2</td><td>5812.567773122338</td><td>-3.687613</td><td>28046</td></tr><tr><td>Juanchi's Burger</td><td>1</td><td>Burgers</td><td>5.0</td><td>40.43085</td><td>null</td><td>2124.138913417375</td><td>-3.67501</td><td>28002</td></tr><tr><td>La Puerta Amarilla</td><td>3</td><td>Burgers</td><td>4.5</td><td>40.411552</td><td>null</td><td>1269.8879374525043</td><td>-3.6954682</td><td>28014</td></tr><tr><td>Masa Madre</td><td>12</td><td>Burgers</td><td>4.5</td><td>40.42142</td><td>null</td><td>164.1884140173169</td><td>-3.69838</td><td>28004</td></tr><tr><td>La Gringa</td><td>60</td><td>Burgers</td><td>4.5</td><td>40.426147</td><td>1</td><td>947.1811780352955</td><td>-3.707908</td><td>28015</td></tr><tr><td>Burger Shack</td><td>1</td><td>Burgers</td><td>4.0</td><td>40.421997</td><td>null</td><td>136.91058365528525</td><td>-3.6964347</td><td>28004</td></tr><tr><td>New York Burger</td><td>50</td><td>Burgers</td><td>4.0</td><td>40.4221</td><td>2</td><td>572.505669037329</td><td>-3.69082</td><td>28001</td></tr><tr><td>VIPS</td><td>2</td><td>Burgers</td><td>4.0</td><td>40.47621</td><td>2</td><td>6016.154755508205</td><td>-3.685775</td><td>28046</td></tr><tr><td>Grazie Mille</td><td>74</td><td>Italian</td><td>4.0</td><td>40.41611</td><td>2</td><td>1124.0231004567572</td><td>-3.70744</td><td>28013</td></tr><tr><td>Pizzaiolo</td><td>111</td><td>Italian</td><td>4.5</td><td>40.42375</td><td>2</td><td>127.1759631338847</td><td>-3.69851</td><td>28004</td></tr><tr><td>Trattoria Pulcinella</td><td>31</td><td>Italian</td><td>4.5</td><td>40.42458</td><td>3</td><td>213.80119474053967</td><td>-3.69657</td><td>28004</td></tr><tr><td>Araldo</td><td>9</td><td>Italian</td><td>5.0</td><td>40.417576</td><td>null</td><td>589.2465691606419</td><td>-3.6981282</td><td>28014</td></tr><tr><td>Flavia</td><td>44</td><td>Italian</td><td>4.5</td><td>40.42239</td><td>2</td><td>680.121843136792</td><td>-3.68959</td><td>28001</td></tr><tr><td>Malatesta</td><td>51</td><td>Italian</td><td>4.0</td><td>40.4165</td><td>2</td><td>1066.865619950464</td><td>-3.7070215</td><td>28013</td></tr><tr><td>Il Regno di Napoli</td><td>15</td><td>Italian</td><td>4.5</td><td>40.42782</td><td>2</td><td>750.5585941275872</td><td>-3.70358</td><td>28004</td></tr><tr><td>Come Prima</td><td>18</td><td>Italian</td><td>4.5</td><td>40.41401</td><td>2</td><td>977.7756847131163</td><td>-3.69946</td><td>28014</td></tr><tr><td>Vesuvio</td><td>46</td><td>Italian</td><td>4.5</td><td>40.420986</td><td>1</td><td>336.6517267620623</td><td>-3.7007115</td><td>28004</td></tr><tr><td>La Tavernetta</td><td>6</td><td>Italian</td><td>4.5</td><td>40.4261</td><td>3</td><td>467.4383786947757</td><td>-3.69413</td><td>28004</td></tr><tr><td>Oven</td><td>51</td><td>Italian</td><td>4.5</td><td>40.42517</td><td>2</td><td>366.44865696195694</td><td>-3.70075</td><td>28004</td></tr><tr><td>Little Eataly</td><td>2</td><td>Italian</td><td>4.5</td><td>40.39402</td><td>null</td><td>3208.092385629896</td><td>-3.69799</td><td>28045</td></tr><tr><td>Da Nicola</td><td>38</td><td>Italian</td><td>4.5</td><td>40.42312</td><td>2</td><td>939.3995899152179</td><td>-3.70851</td><td>28015</td></tr><tr><td>Oven</td><td>30</td><td>Italian</td><td>4.0</td><td>40.41935</td><td>2</td><td>391.24137975900635</td><td>-3.6978981</td><td>28013</td></tr><tr><td>La Pizzateca</td><td>49</td><td>Italian</td><td>4.5</td><td>40.41275</td><td>1</td><td>1135.4881319340707</td><td>-3.69928</td><td>28014</td></tr><tr><td>La Tagliatella</td><td>6</td><td>Italian</td><td>4.0</td><td>40.41976</td><td>null</td><td>852.8009879410962</td><td>-3.70679</td><td>28013</td></tr><tr><td>Casa Bianco</td><td>4</td><td>Italian</td><td>5.0</td><td>40.41486</td><td>3</td><td>1259.3239562337224</td><td>-3.7081156</td><td>28012</td></tr><tr><td>Fratelli d'Italia</td><td>20</td><td>Italian</td><td>4.5</td><td>40.40887</td><td>1</td><td>1590.6244316723469</td><td>-3.701509</td><td>28012</td></tr><tr><td>Ôven</td><td>28</td><td>Italian</td><td>4.5</td><td>40.409473</td><td>null</td><td>1530.105277642872</td><td>-3.693401</td><td>28012</td></tr><tr><td>Ristorante Il Pastaio</td><td>22</td><td>Italian</td><td>4.5</td><td>40.44204</td><td>2</td><td>2133.383536508534</td><td>-3.696866</td><td>28003</td></tr><tr><td>La Tagliatella</td><td>7</td><td>Italian</td><td>4.5</td><td>40.42413</td><td>2</td><td>2077.6147433546594</td><td>-3.673099</td><td>28009</td></tr><tr><td>Ornella</td><td>12</td><td>Italian</td><td>3.5</td><td>40.423283</td><td>3</td><td>1132.2225436036554</td><td>-3.6842222</td><td>28001</td></tr><tr><td>Oliveto</td><td>16</td><td>Italian</td><td>4.0</td><td>40.40979</td><td>2</td><td>1456.4016545306733</td><td>-3.6964464</td><td>28012</td></tr><tr><td>La Saletta</td><td>4</td><td>Italian</td><td>4.5</td><td>40.41142</td><td>2</td><td>1251.9185393748037</td><td>-3.69879</td><td>28012</td></tr><tr><td>Gioia</td><td>2</td><td>Italian</td><td>4.5</td><td>40.42216</td><td>3</td><td>106.04678146607492</td><td>-3.69839</td><td>28004</td></tr><tr><td>Bresca</td><td>15</td><td>Italian</td><td>4.5</td><td>40.41072</td><td>null</td><td>1359.9061502885393</td><td>-3.69954</td><td>28012</td></tr><tr><td>La Pasta degl'Angeli</td><td>4</td><td>Italian</td><td>4.0</td><td>40.421898</td><td>null</td><td>162.82189260970674</td><td>-3.699037</td><td>28004</td></tr><tr><td>Angelita</td><td>29</td><td>Italian</td><td>5.0</td><td>40.420277</td><td>3</td><td>372.5374556274898</td><td>-3.700387</td><td>28004</td></tr><tr><td>La Tagliatella</td><td>12</td><td>Italian</td><td>4.0</td><td>40.420044</td><td>2</td><td>352.8375009931065</td><td>-3.695663</td><td>28004</td></tr><tr><td>Ginos</td><td>4</td><td>Italian</td><td>4.0</td><td>40.417633</td><td>2</td><td>609.1326001777951</td><td>-3.699736</td><td>28014</td></tr><tr><td>Pizza Emporio</td><td>4</td><td>Italian</td><td>5.0</td><td>40.428947</td><td>1</td><td>1095.2377715771497</td><td>-3.6874144</td><td>28001</td></tr><tr><td>Il Siciliano</td><td>1</td><td>Italian</td><td>5.0</td><td>40.41713</td><td>1</td><td>989.864446124471</td><td>-3.70648</td><td>28013</td></tr><tr><td>Da Gavino</td><td>6</td><td>Italian</td><td>4.0</td><td>40.42625</td><td>3</td><td>393.98918911987215</td><td>-3.69632</td><td>28004</td></tr><tr><td>Piccolo Diávolo</td><td>13</td><td>Italian</td><td>4.0</td><td>40.41143</td><td>2</td><td>1286.5170897886294</td><td>-3.69556</td><td>28014</td></tr><tr><td>Davanti</td><td>2</td><td>Italian</td><td>5.0</td><td>40.42212</td><td>null</td><td>104.12057105481111</td><td>-3.696836</td><td>28004</td></tr><tr><td>Massart</td><td>24</td><td>Italian</td><td>4.0</td><td>40.435303</td><td>1</td><td>2228.9328208031056</td><td>-3.718232</td><td>28015</td></tr><tr><td>Pizzart</td><td>1</td><td>Italian</td><td>5.0</td><td>40.41703</td><td>null</td><td>665.8878783433142</td><td>-3.6998</td><td>28014</td></tr><tr><td>Il Siciliano</td><td>1</td><td>Italian</td><td>5.0</td><td>40.42522</td><td>null</td><td>552.4803087860035</td><td>-3.70331</td><td>28004</td></tr><tr><td>La Pentola Magica</td><td>3</td><td>Italian</td><td>4.5</td><td>40.404945</td><td>1</td><td>2358.825957613841</td><td>-3.682662</td><td>28007</td></tr><tr><td>Il Piccolino Della Farfalla</td><td>33</td><td>Italian</td><td>4.0</td><td>40.41397</td><td>1</td><td>1034.1791561981606</td><td>-3.70099</td><td>28012</td></tr><tr><td>Nina Pasta Bar</td><td>4</td><td>Italian</td><td>5.0</td><td>40.40949</td><td>null</td><td>1766.9758803141417</td><td>-3.708867</td><td>28005</td></tr><tr><td>Ginos</td><td>2</td><td>Italian</td><td>4.0</td><td>40.42205</td><td>null</td><td>1920.3818721216405</td><td>-3.720247</td><td>28008</td></tr><tr><td>Trattoria Limbara</td><td>2</td><td>Italian</td><td>3.0</td><td>40.43176</td><td>1</td><td>1063.7876971394164</td><td>-3.7024</td><td>28010</td></tr><tr><td>La Tagliatella</td><td>7</td><td>Italian</td><td>4.0</td><td>40.43917</td><td>2</td><td>2734.910679896878</td><td>-3.6734002</td><td>28002</td></tr><tr><td>Luna Rossa</td><td>8</td><td>Italian</td><td>4.0</td><td>40.4232</td><td>1</td><td>828.9114906004456</td><td>-3.70736</td><td>28015</td></tr><tr><td>Al Dente</td><td>2</td><td>Italian</td><td>4.5</td><td>40.43109</td><td>null</td><td>1622.4418459478902</td><td>-3.7134109</td><td>28015</td></tr><tr><td>Ginos Velázquez</td><td>1</td><td>Italian</td><td>5.0</td><td>40.439777</td><td>1</td><td>2280.6067527945406</td><td>-3.682355</td><td>28006</td></tr><tr><td>Grosso Napoletano</td><td>11</td><td>Italian</td><td>4.0</td><td>40.42606</td><td>2</td><td>1788.954414253439</td><td>-3.6769</td><td>28001</td></tr><tr><td>Don Giovanni</td><td>17</td><td>Italian</td><td>4.5</td><td>40.4073</td><td>3</td><td>2256.845362718719</td><td>-3.68047</td><td>28014</td></tr><tr><td>La Piemontesa</td><td>3</td><td>Italian</td><td>4.0</td><td>40.461693</td><td>2</td><td>4341.666733739132</td><td>-3.692228</td><td>28020</td></tr><tr><td>Takos al Pastor</td><td>418</td><td>Mexican</td><td>4.5</td><td>40.418964</td><td>1</td><td>671.6237992836653</td><td>-3.7036471</td><td>28013</td></tr><tr><td>La Mordida</td><td>47</td><td>Mexican</td><td>4.5</td><td>40.42441</td><td>2</td><td>220.59324282461054</td><td>-3.695961</td><td>28004</td></tr><tr><td>Rosa Negra</td><td>70</td><td>Mexican</td><td>4.0</td><td>40.41385</td><td>2</td><td>1008.3544873488044</td><td>-3.69896</td><td>28014</td></tr><tr><td>Central Mexicana</td><td>3</td><td>Mexican</td><td>4.5</td><td>40.41912</td><td>2</td><td>751.6082646898791</td><td>-3.705</td><td>28013</td></tr><tr><td>Tierra</td><td>13</td><td>Mexican</td><td>4.5</td><td>40.41557</td><td>1</td><td>897.5709127153445</td><td>-3.70224</td><td>28012</td></tr><tr><td>El Chaparrito</td><td>17</td><td>Mexican</td><td>4.5</td><td>40.415634</td><td>2</td><td>1331.1089491528676</td><td>-3.7101238</td><td>28013</td></tr><tr><td>Taquería Mi Ciudad</td><td>47</td><td>Mexican</td><td>4.0</td><td>40.41743</td><td>1</td><td>1119.4904749653303</td><td>-3.708722</td><td>28013</td></tr><tr><td>Takos al Pastor</td><td>26</td><td>Mexican</td><td>4.5</td><td>40.414806</td><td>null</td><td>1183.1483702893581</td><td>-3.706722</td><td>28013</td></tr><tr><td>Tacos y Tapas</td><td>6</td><td>Mexican</td><td>4.5</td><td>40.4125</td><td>2</td><td>1705.1806778885027</td><td>-3.71245</td><td>28005</td></tr><tr><td>La Mordida</td><td>10</td><td>Mexican</td><td>4.5</td><td>40.4137</td><td>2</td><td>2254.650225232564</td><td>-3.6738248</td><td>28009</td></tr><tr><td>La Mayor</td><td>57</td><td>Mexican</td><td>4.5</td><td>40.41508</td><td>2</td><td>1503.04561234145</td><td>-3.71213</td><td>28013</td></tr><tr><td>La Malinche</td><td>6</td><td>Mexican</td><td>4.5</td><td>40.42083</td><td>2</td><td>1091.4171166278284</td><td>-3.71017</td><td>28013</td></tr><tr><td>Tierra</td><td>55</td><td>Mexican</td><td>4.0</td><td>40.43604</td><td>1</td><td>1959.4554995160177</td><td>-3.71294</td><td>28015</td></tr><tr><td>Taquería Mi Ciudad</td><td>47</td><td>Mexican</td><td>4.0</td><td>40.416996</td><td>1</td><td>1122.2033744000246</td><td>-3.708374</td><td>28013</td></tr><tr><td>Tiki Taco</td><td>26</td><td>Mexican</td><td>4.0</td><td>40.42225</td><td>null</td><td>852.8733774919483</td><td>-3.70759</td><td>28015</td></tr><tr><td>Mestizo</td><td>24</td><td>Mexican</td><td>4.0</td><td>40.42178</td><td>2</td><td>675.2692765430174</td><td>-3.68975</td><td>28001</td></tr><tr><td>La Venganza de Malinche</td><td>14</td><td>Mexican</td><td>4.0</td><td>40.41896</td><td>2</td><td>532.3277020220784</td><td>-3.70138</td><td>28015</td></tr><tr><td>Juana la Loca</td><td>216</td><td>Mexican</td><td>4.5</td><td>40.411358</td><td>3</td><td>1715.626437811679</td><td>-3.711094</td><td>28005</td></tr><tr><td>Mexcalista</td><td>6</td><td>Mexican</td><td>5.0</td><td>40.41443</td><td>null</td><td>937.7743525091706</td><td>-3.69859</td><td>28014</td></tr><tr><td>El Rincón de los Cuates</td><td>4</td><td>Mexican</td><td>4.0</td><td>40.421223</td><td>null</td><td>217.20413675626872</td><td>-3.698988</td><td>28004</td></tr><tr><td>La Rebonita</td><td>15</td><td>Mexican</td><td>4.0</td><td>40.411602</td><td>1</td><td>1276.9913280536578</td><td>-3.70056</td><td>28012</td></tr><tr><td>Sol Azteca</td><td>2</td><td>Mexican</td><td>4.5</td><td>40.431797</td><td>null</td><td>1928.7201354742579</td><td>-3.678058</td><td>28006</td></tr><tr><td>Tacos Margaritas Y Punto</td><td>4</td><td>Mexican</td><td>5.0</td><td>40.415607</td><td>null</td><td>1272.604481430856</td><td>-3.7092133</td><td>28005</td></tr><tr><td>Tierra</td><td>20</td><td>Mexican</td><td>4.5</td><td>40.45645</td><td>1</td><td>3755.997494351485</td><td>-3.69292</td><td>28020</td></tr><tr><td>Antigua Taquería</td><td>8</td><td>Mexican</td><td>4.0</td><td>40.40945</td><td>1</td><td>1588.5227025666645</td><td>-3.70428</td><td>28012</td></tr><tr><td>DF Bar</td><td>48</td><td>Mexican</td><td>4.5</td><td>40.41286</td><td>1</td><td>1127.1226339084799</td><td>-3.69924</td><td>28014</td></tr><tr><td>Tacos Chapultepec</td><td>35</td><td>Mexican</td><td>4.0</td><td>40.43015</td><td>1</td><td>887.7436852310107</td><td>-3.70177</td><td>28010</td></tr><tr><td>Punto MX</td><td>26</td><td>Mexican</td><td>4.0</td><td>40.42768</td><td>4</td><td>1716.9847815364612</td><td>-3.67832</td><td>28001</td></tr><tr><td>Sahuaro</td><td>16</td><td>Mexican</td><td>4.5</td><td>40.411137</td><td>2</td><td>1535.2244254392795</td><td>-3.707162</td><td>28005</td></tr><tr><td>El Rey de Los Tacos</td><td>12</td><td>Mexican</td><td>4.0</td><td>40.41938</td><td>null</td><td>1088.479658534812</td><td>-3.70962</td><td>28013</td></tr><tr><td>Las Mañanitas</td><td>19</td><td>Mexican</td><td>3.5</td><td>40.42664</td><td>2</td><td>525.9924416037366</td><td>-3.70132</td><td>28004</td></tr><tr><td>Chilango</td><td>13</td><td>Mexican</td><td>4.0</td><td>40.42874</td><td>2</td><td>831.0576402864496</td><td>-3.70395</td><td>28004</td></tr><tr><td>La Tomata</td><td>11</td><td>Mexican</td><td>4.0</td><td>40.43118</td><td>3</td><td>1000.3424975807408</td><td>-3.70217</td><td>28010</td></tr><tr><td>La Mordida</td><td>4</td><td>Mexican</td><td>4.5</td><td>40.4562</td><td>2</td><td>3707.4136787763873</td><td>-3.69693</td><td>28020</td></tr><tr><td>Ricos Tacos</td><td>2</td><td>Mexican</td><td>5.0</td><td>40.42407</td><td>null</td><td>2081.0114566913</td><td>-3.67292</td><td>28009</td></tr><tr><td>Cherry Pecas</td><td>8</td><td>Mexican</td><td>4.0</td><td>40.441032</td><td>null</td><td>2517.372752804476</td><td>-3.715326</td><td>28003</td></tr><tr><td>La Taqueria del Alamillo</td><td>36</td><td>Mexican</td><td>4.0</td><td>40.414036</td><td>2</td><td>1465.397331422587</td><td>-3.7104418</td><td>28005</td></tr><tr><td>La Taquería de Birrä</td><td>8</td><td>Mexican</td><td>3.5</td><td>40.41166</td><td>1</td><td>1833.1250099562526</td><td>-3.71348</td><td>28005</td></tr><tr><td>La Venganza de Malinche</td><td>6</td><td>Mexican</td><td>3.5</td><td>40.417484</td><td>2</td><td>993.0872758447316</td><td>-3.7069554</td><td>28013</td></tr><tr><td>Taco & Burro Maya</td><td>3</td><td>Mexican</td><td>5.0</td><td>40.401745</td><td>null</td><td>2350.7463388220676</td><td>-3.6989076</td><td>28045</td></tr><tr><td>La Diavla</td><td>1</td><td>Mexican</td><td>5.0</td><td>40.42136</td><td>null</td><td>1599.98845480739</td><td>-3.67883</td><td>28009</td></tr><tr><td>La Lupita</td><td>11</td><td>Mexican</td><td>3.5</td><td>40.422543</td><td>2</td><td>1027.340667977444</td><td>-3.685457</td><td>28001</td></tr><tr><td>Corazón Agavero Mezcaloteca</td><td>17</td><td>Mexican</td><td>4.5</td><td>40.40944</td><td>1</td><td>1842.9248676229263</td><td>-3.710356</td><td>28005</td></tr><tr><td>Jleo's</td><td>7</td><td>Mexican</td><td>4.5</td><td>40.431656</td><td>1</td><td>1463.662624243902</td><td>-3.710451</td><td>28015</td></tr><tr><td>El Kártel de Malasaña</td><td>5</td><td>Mexican</td><td>4.0</td><td>40.42563</td><td>1</td><td>507.96465621394026</td><td>-3.70217</td><td>28004</td></tr><tr><td>Mexico 1800</td><td>1</td><td>Mexican</td><td>4.0</td><td>40.42205</td><td>null</td><td>735.7002709776398</td><td>-3.706212</td><td>28004</td></tr><tr><td>100% México, Hecho a Mano</td><td>7</td><td>Mexican</td><td>4.5</td><td>40.4243</td><td>2</td><td>1389.3875584816656</td><td>-3.68146</td><td>28001</td></tr><tr><td>La Chelinda</td><td>7</td><td>Mexican</td><td>4.0</td><td>40.456566</td><td>2</td><td>3773.027158686561</td><td>-3.6924388</td><td>28020</td></tr><tr><td>No Q No</td><td>3</td><td>Mexican</td><td>4.5</td><td>40.46251</td><td>2</td><td>9956.13300669362</td><td>-3.5921</td><td>28042</td></tr><tr><td>Tacazzo</td><td>8</td><td>Mexican</td><td>4.0</td><td>40.417114</td><td>2</td><td>1928.8848667754253</td><td>-3.676086</td><td>28009</td></tr></tbody></table></div>"
      ]
     },
     "metadata": {
      "application/vnd.databricks.v1+output": {
       "addedWidgets": {},
       "aggData": [],
       "aggError": "",
       "aggOverflow": false,
       "aggSchema": [],
       "aggSeriesLimitReached": false,
       "aggType": "",
       "arguments": {},
       "columnCustomDisplayInfos": {},
       "data": [
        [
         "El Sur",
         769,
         "Spanish",
         4.5,
         40.41105,
         "2",
         1323.9351440693945,
         -3.6995454,
         28012
        ],
        [
         "Alhambra",
         448,
         "Spanish",
         4.0,
         40.41587,
         "2",
         847.3790987480967,
         -3.7016,
         28012
        ],
        [
         "La Bodega de Los Secretos",
         31,
         "Spanish",
         4.5,
         40.410683,
         "3",
         1375.936331500051,
         -3.694688,
         28014
        ],
        [
         "Casa Julio",
         42,
         "Spanish",
         4.5,
         40.42427,
         "2",
         546.9655482728417,
         -3.70368,
         28004
        ],
        [
         "Celso y Manolo",
         182,
         "Spanish",
         4.5,
         40.420185,
         "2",
         297.6040361411656,
         -3.6974769,
         28004
        ],
        [
         "Taberna El Sur de Huertas",
         41,
         "Spanish",
         5.0,
         40.41366,
         "null",
         1036.183034652163,
         -3.69943,
         28014
        ],
        [
         "Malacatín",
         24,
         "Spanish",
         4.5,
         40.41031,
         "null",
         1638.679922735727,
         -3.70765,
         28005
        ],
        [
         "Más Al Sur",
         126,
         "Spanish",
         4.5,
         40.41002,
         "2",
         1409.3953170255295,
         -3.69693,
         28012
        ],
        [
         "La Casa del Abuelo",
         161,
         "Spanish",
         4.0,
         40.415768,
         "2",
         859.0034856078098,
         -3.701606,
         28012
        ],
        [
         "Oink",
         16,
         "Spanish",
         4.5,
         40.42004,
         "1",
         398.07076724778057,
         -3.700481,
         28013
        ],
        [
         "Street Xo",
         94,
         "Spanish",
         4.5,
         40.427647,
         "3",
         1035.445088896326,
         -3.687092,
         28001
        ],
        [
         "Vinoteca Moratín",
         33,
         "Spanish",
         5.0,
         40.41252,
         "3",
         1168.8084348720095,
         -3.69541,
         28014
        ],
        [
         "El Rincón de Ati",
         8,
         "Spanish",
         4.5,
         40.415123,
         "2",
         1257.8650825827144,
         -3.708427,
         28005
        ],
        [
         "La Mi Venta",
         102,
         "Spanish",
         4.5,
         40.420456,
         "3",
         1282.4301695469583,
         -3.7124026,
         28013
        ],
        [
         "Bodega de la Ardosa",
         125,
         "Spanish",
         4.0,
         40.42375,
         "2",
         371.17219437757063,
         -3.70182,
         28004
        ],
        [
         "Algarabía",
         16,
         "Spanish",
         5.0,
         40.41732,
         "2",
         1245.5718114622448,
         -3.7103744,
         28013
        ],
        [
         "Lateral",
         79,
         "Spanish",
         4.0,
         40.42306,
         "2",
         299.75414566377356,
         -3.70113,
         28004
        ],
        [
         "Entrevinos",
         11,
         "Spanish",
         4.5,
         40.42615,
         "2",
         1679.1324348217292,
         -3.71713,
         28008
        ],
        [
         "Los Montes de Galicia",
         54,
         "Spanish",
         4.5,
         40.4346,
         "3",
         2810.2129913861268,
         -3.66854,
         28028
        ],
        [
         "Sacha",
         12,
         "Spanish",
         4.5,
         40.460682,
         "4",
         4292.8105582067265,
         -3.6874075,
         28036
        ],
        [
         "Malaspina",
         210,
         "Spanish",
         4.0,
         40.41582,
         "1",
         880.0271748434934,
         -3.70253,
         28012
        ],
        [
         "Tierra del Queiles",
         20,
         "Spanish",
         4.5,
         40.42661,
         "2",
         888.0611582031488,
         -3.68828,
         28001
        ],
        [
         "Casa Toni",
         86,
         "Spanish",
         4.5,
         40.415554,
         "1",
         889.604983373482,
         -3.7018628,
         28012
        ],
        [
         "La Austriaca",
         23,
         "Spanish",
         4.5,
         40.42139,
         "2",
         371.7496282903476,
         -3.70149,
         28004
        ],
        [
         "Ciudad de Tui",
         26,
         "Spanish",
         4.0,
         40.41823,
         "null",
         659.7646610690329,
         -3.70241,
         28013
        ],
        [
         "O Pazo de Lugo",
         55,
         "Spanish",
         4.0,
         40.407417,
         "2",
         1720.5167688397755,
         -3.6962805,
         28012
        ],
        [
         "El Comunista",
         9,
         "Spanish",
         4.5,
         40.42219,
         "2",
         70.33818378885029,
         -3.69756,
         28004
        ],
        [
         "La Garriga",
         2,
         "Spanish",
         5.0,
         40.426544,
         "null",
         560.7903673495854,
         -3.69306,
         28004
        ],
        [
         "Selva",
         9,
         "Spanish",
         4.5,
         40.423363,
         "2",
         936.2070628085398,
         -3.708626,
         28015
        ],
        [
         "Rosi La Loca",
         180,
         "Spanish",
         4.5,
         40.415813,
         "3",
         906.7764467348135,
         -3.7029788,
         28012
        ],
        [
         "El Lagar",
         14,
         "Spanish",
         4.5,
         40.42866,
         "1",
         2003.3739086320672,
         -3.71991,
         28008
        ],
        [
         "La Descubierta",
         73,
         "Spanish",
         4.0,
         40.41525,
         "1",
         946.019092804493,
         -3.70262,
         28012
        ],
        [
         "Casa Amadeo",
         15,
         "Spanish",
         4.5,
         40.41052,
         "1",
         1606.8643189404181,
         -3.70749,
         28005
        ],
        [
         "La Gastro",
         69,
         "Spanish",
         4.5,
         40.42129,
         "2",
         488.7083814997758,
         -3.70289,
         28004
        ],
        [
         "El Tigre",
         366,
         "Spanish",
         3.5,
         40.420254,
         "1",
         290.9915674469935,
         -3.6979134,
         28004
        ],
        [
         "La Española",
         8,
         "Spanish",
         4.5,
         40.420994,
         "null",
         320.6234167699696,
         -3.700475,
         28004
        ],
        [
         "El Asador de Aranda",
         29,
         "Spanish",
         4.5,
         40.41985,
         "3",
         922.8203902039091,
         -3.70764,
         28013
        ],
        [
         "Botín",
         615,
         "Spanish",
         4.0,
         40.41406,
         "3",
         1304.2170679660362,
         -3.70803,
         28005
        ],
        [
         "El Barril",
         21,
         "Spanish",
         5.0,
         40.42199,
         "3",
         630.0871640719441,
         -3.69023,
         28001
        ],
        [
         "La Perejila",
         32,
         "Spanish",
         4.5,
         40.41229,
         "2",
         1530.886543775833,
         -3.70924,
         28005
        ],
        [
         "Tribuetxe",
         20,
         "Spanish",
         4.5,
         40.407425,
         "1",
         1780.9484656935279,
         -3.703198,
         28012
        ],
        [
         "Los Arcos",
         6,
         "Spanish",
         5.0,
         40.43787,
         "3",
         1675.278430632665,
         -3.6992831,
         28010
        ],
        [
         "La Dominga",
         26,
         "Spanish",
         4.0,
         40.42526,
         "2",
         567.3408517478088,
         -3.70348,
         28004
        ],
        [
         "La Tasqueria",
         21,
         "Spanish",
         5.0,
         40.42228,
         "3",
         2019.6198202824544,
         -3.67374,
         28009
        ],
        [
         "Angelita",
         29,
         "Spanish",
         5.0,
         40.420277,
         "3",
         372.5374556274898,
         -3.700387,
         28004
        ],
        [
         "Casa Dani",
         35,
         "Spanish",
         4.5,
         40.426846,
         "1",
         1094.0981652402868,
         -3.6857686,
         28001
        ],
        [
         "La Sanabresa",
         52,
         "Spanish",
         4.5,
         40.41254,
         "2",
         1148.4834173354568,
         -3.69854,
         28014
        ],
        [
         "Casa Lucas",
         154,
         "Spanish",
         4.5,
         40.412327,
         "2",
         1541.9081259234936,
         -3.709429,
         28005
        ],
        [
         "El Cogollo",
         20,
         "Spanish",
         4.5,
         40.417,
         "2",
         1106.3064051275262,
         -3.7081468,
         28013
        ],
        [
         "Lakasa",
         48,
         "Spanish",
         5.0,
         40.440876,
         "2",
         2020.5902312080937,
         -3.700715,
         28003
        ],
        [
         "Steak Burger",
         3,
         "Burgers",
         4.5,
         40.41983,
         "null",
         885.8031586140268,
         -3.707263,
         28013
        ],
        [
         "Bacoa",
         67,
         "Burgers",
         4.5,
         40.4167,
         "2",
         764.7506754570883,
         -3.701595,
         28014
        ],
        [
         "Viva Burger",
         34,
         "Burgers",
         4.5,
         40.41247,
         "2",
         1683.8474441060912,
         -3.71181,
         28005
        ],
        [
         "Steak Burger",
         21,
         "Burgers",
         4.0,
         40.419746,
         "null",
         379.9067300855736,
         -3.699429,
         28013
        ],
        [
         "Burnout",
         28,
         "Burgers",
         4.5,
         40.43248,
         "2",
         1185.7862478138004,
         -3.70367,
         28010
        ],
        [
         "Federal",
         180,
         "Burgers",
         4.0,
         40.42705,
         "2",
         1090.3118768624156,
         -3.70923,
         28015
        ],
        [
         "Steak Burger",
         25,
         "Burgers",
         4.0,
         40.40964,
         "2",
         1506.045945872656,
         -3.693706,
         28012
        ],
        [
         "Moline's Grill",
         1,
         "Burgers",
         5.0,
         40.408627,
         "null",
         1636.697580764222,
         -3.6926575,
         28012
        ],
        [
         "Zombie",
         54,
         "Burgers",
         4.0,
         40.42321,
         "2",
         609.4105630939849,
         -3.7047706,
         28004
        ],
        [
         "Mad Mad Vegan",
         14,
         "Burgers",
         5.0,
         40.422703,
         "null",
         88.35952856228302,
         -3.698609,
         28004
        ],
        [
         "Munchies Hot Dog",
         25,
         "Burgers",
         4.0,
         40.4137,
         "1",
         1022.4985490488237,
         -3.69913,
         28014
        ],
        [
         "Five Guys",
         17,
         "Burgers",
         4.0,
         40.420452,
         "2",
         724.1376317449414,
         -3.7055347,
         28013
        ],
        [
         "The Mad Café",
         51,
         "Burgers",
         4.5,
         40.41225,
         "2",
         1523.7896540257736,
         -3.70888,
         28005
        ],
        [
         "Steak 'n Shake",
         33,
         "Burgers",
         3.5,
         40.41656,
         "2",
         741.9874349730312,
         -3.7002788,
         28014
        ],
        [
         "New York Burger",
         24,
         "Burgers",
         4.5,
         40.450138,
         "1",
         3075.7635209239843,
         -3.6915689,
         28046
        ],
        [
         "Goiko Grill",
         45,
         "Burgers",
         4.0,
         40.42896,
         "2",
         1984.3728826077909,
         -3.675554,
         28006
        ],
        [
         "McDonald's",
         25,
         "Burgers",
         4.0,
         40.41986,
         "1",
         492.6528185606649,
         -3.7018702,
         28013
        ],
        [
         "Naked & Sated",
         6,
         "Burgers",
         5.0,
         40.46335,
         "null",
         4539.55684957293,
         -3.69064,
         28020
        ],
        [
         "Juancho’s BBQ",
         4,
         "Burgers",
         4.5,
         40.436317,
         "null",
         1496.4159937738232,
         -3.697322,
         28010
        ],
        [
         "Goiko Grill",
         70,
         "Burgers",
         4.5,
         40.437668,
         "1",
         1886.4628184569287,
         -3.686709,
         28006
        ],
        [
         "Rolling Dance & Burger",
         4,
         "Burgers",
         4.5,
         40.47205,
         "2",
         5625.145609505655,
         -3.6820524,
         28036
        ],
        [
         "Goiko Grill",
         18,
         "Burgers",
         4.0,
         40.41494,
         "2",
         857.9076724337576,
         -3.69859,
         28014
        ],
        [
         "La Trastienda Tapas",
         5,
         "Burgers",
         4.0,
         40.422,
         "2",
         95.65511145937545,
         -3.6975672,
         28004
        ],
        [
         "Burnout",
         11,
         "Burgers",
         4.5,
         40.4208,
         "2",
         440.75710302522737,
         -3.70209,
         28004
        ],
        [
         "Hard Rock Cafe",
         109,
         "Burgers",
         4.0,
         40.426224,
         "2",
         772.9589767071259,
         -3.6895945,
         28046
        ],
        [
         "Goiko Grill",
         9,
         "Burgers",
         4.5,
         40.458473,
         "2",
         4199.438176581559,
         -3.6810682,
         28016
        ],
        [
         "Bentley's",
         12,
         "Burgers",
         4.0,
         40.419575,
         "2",
         835.9441616287093,
         -3.7064683,
         28013
        ],
        [
         "s10bar",
         10,
         "Burgers",
         3.5,
         40.43625,
         "1",
         1977.934394894583,
         -3.71293,
         28015
        ],
        [
         "Cokuy",
         2,
         "Burgers",
         4.5,
         40.4158,
         "null",
         901.220624078146,
         -3.702809,
         28012
        ],
        [
         "Goiko Grill",
         41,
         "Burgers",
         4.0,
         40.42938,
         "2",
         840.091922029471,
         -3.70217,
         28004
        ],
        [
         "La Mucca",
         7,
         "Burgers",
         4.0,
         40.427193,
         "null",
         593.774347218791,
         -3.701686,
         28004
        ],
        [
         "Diurno",
         73,
         "Burgers",
         4.0,
         40.42123,
         "2",
         181.88790341618449,
         -3.69717,
         28004
        ],
        [
         "Tommy Mel´s",
         7,
         "Burgers",
         4.0,
         40.423748,
         "2",
         1904.7813667856042,
         -3.6751144,
         28009
        ],
        [
         "Zenith",
         33,
         "Burgers",
         4.5,
         40.42235,
         "null",
         330.30348687855644,
         -3.7016,
         28004
        ],
        [
         "Anauco",
         7,
         "Burgers",
         4.0,
         40.42009,
         "2",
         327.0667231780543,
         -3.69915,
         28004
        ],
        [
         "Alta Burgersía",
         21,
         "Burgers",
         4.0,
         40.41333,
         "1",
         1076.5736060546099,
         -3.6998408,
         28012
        ],
        [
         "Carmencita",
         153,
         "Burgers",
         4.5,
         40.426086,
         "2",
         907.9863770759232,
         -3.707439,
         28015
        ],
        [
         "Burger King",
         2,
         "Burgers",
         4.0,
         40.42703,
         "null",
         492.182563029827,
         -3.69592,
         28004
        ],
        [
         "Carl's Jr.",
         2,
         "Burgers",
         4.0,
         40.420948,
         "null",
         856.0545150202773,
         -3.707382,
         28013
        ],
        [
         "Skyline Diner",
         20,
         "Burgers",
         4.5,
         40.41268,
         "2",
         1143.2003384440857,
         -3.6956754,
         28014
        ],
        [
         "Foster's Hollywood",
         2,
         "Burgers",
         3.5,
         40.405262,
         "null",
         1981.148064157556,
         -3.701242,
         28012
        ],
        [
         "Food Truck",
         33,
         "Burgers",
         4.5,
         40.42375,
         "2",
         156.68651580601073,
         -3.69618,
         28004
        ],
        [
         "Hamburguesa Nostra",
         7,
         "Burgers",
         4.0,
         40.47458,
         "2",
         5812.567773122338,
         -3.687613,
         28046
        ],
        [
         "Juanchi's Burger",
         1,
         "Burgers",
         5.0,
         40.43085,
         "null",
         2124.138913417375,
         -3.67501,
         28002
        ],
        [
         "La Puerta Amarilla",
         3,
         "Burgers",
         4.5,
         40.411552,
         "null",
         1269.8879374525043,
         -3.6954682,
         28014
        ],
        [
         "Masa Madre",
         12,
         "Burgers",
         4.5,
         40.42142,
         "null",
         164.1884140173169,
         -3.69838,
         28004
        ],
        [
         "La Gringa",
         60,
         "Burgers",
         4.5,
         40.426147,
         "1",
         947.1811780352955,
         -3.707908,
         28015
        ],
        [
         "Burger Shack",
         1,
         "Burgers",
         4.0,
         40.421997,
         "null",
         136.91058365528525,
         -3.6964347,
         28004
        ],
        [
         "New York Burger",
         50,
         "Burgers",
         4.0,
         40.4221,
         "2",
         572.505669037329,
         -3.69082,
         28001
        ],
        [
         "VIPS",
         2,
         "Burgers",
         4.0,
         40.47621,
         "2",
         6016.154755508205,
         -3.685775,
         28046
        ],
        [
         "Grazie Mille",
         74,
         "Italian",
         4.0,
         40.41611,
         "2",
         1124.0231004567572,
         -3.70744,
         28013
        ],
        [
         "Pizzaiolo",
         111,
         "Italian",
         4.5,
         40.42375,
         "2",
         127.1759631338847,
         -3.69851,
         28004
        ],
        [
         "Trattoria Pulcinella",
         31,
         "Italian",
         4.5,
         40.42458,
         "3",
         213.80119474053967,
         -3.69657,
         28004
        ],
        [
         "Araldo",
         9,
         "Italian",
         5.0,
         40.417576,
         "null",
         589.2465691606419,
         -3.6981282,
         28014
        ],
        [
         "Flavia",
         44,
         "Italian",
         4.5,
         40.42239,
         "2",
         680.121843136792,
         -3.68959,
         28001
        ],
        [
         "Malatesta",
         51,
         "Italian",
         4.0,
         40.4165,
         "2",
         1066.865619950464,
         -3.7070215,
         28013
        ],
        [
         "Il Regno di Napoli",
         15,
         "Italian",
         4.5,
         40.42782,
         "2",
         750.5585941275872,
         -3.70358,
         28004
        ],
        [
         "Come Prima",
         18,
         "Italian",
         4.5,
         40.41401,
         "2",
         977.7756847131163,
         -3.69946,
         28014
        ],
        [
         "Vesuvio",
         46,
         "Italian",
         4.5,
         40.420986,
         "1",
         336.6517267620623,
         -3.7007115,
         28004
        ],
        [
         "La Tavernetta",
         6,
         "Italian",
         4.5,
         40.4261,
         "3",
         467.4383786947757,
         -3.69413,
         28004
        ],
        [
         "Oven",
         51,
         "Italian",
         4.5,
         40.42517,
         "2",
         366.44865696195694,
         -3.70075,
         28004
        ],
        [
         "Little Eataly",
         2,
         "Italian",
         4.5,
         40.39402,
         "null",
         3208.092385629896,
         -3.69799,
         28045
        ],
        [
         "Da Nicola",
         38,
         "Italian",
         4.5,
         40.42312,
         "2",
         939.3995899152179,
         -3.70851,
         28015
        ],
        [
         "Oven",
         30,
         "Italian",
         4.0,
         40.41935,
         "2",
         391.24137975900635,
         -3.6978981,
         28013
        ],
        [
         "La Pizzateca",
         49,
         "Italian",
         4.5,
         40.41275,
         "1",
         1135.4881319340707,
         -3.69928,
         28014
        ],
        [
         "La Tagliatella",
         6,
         "Italian",
         4.0,
         40.41976,
         "null",
         852.8009879410962,
         -3.70679,
         28013
        ],
        [
         "Casa Bianco",
         4,
         "Italian",
         5.0,
         40.41486,
         "3",
         1259.3239562337224,
         -3.7081156,
         28012
        ],
        [
         "Fratelli d'Italia",
         20,
         "Italian",
         4.5,
         40.40887,
         "1",
         1590.6244316723469,
         -3.701509,
         28012
        ],
        [
         "Ôven",
         28,
         "Italian",
         4.5,
         40.409473,
         "null",
         1530.105277642872,
         -3.693401,
         28012
        ],
        [
         "Ristorante Il Pastaio",
         22,
         "Italian",
         4.5,
         40.44204,
         "2",
         2133.383536508534,
         -3.696866,
         28003
        ],
        [
         "La Tagliatella",
         7,
         "Italian",
         4.5,
         40.42413,
         "2",
         2077.6147433546594,
         -3.673099,
         28009
        ],
        [
         "Ornella",
         12,
         "Italian",
         3.5,
         40.423283,
         "3",
         1132.2225436036554,
         -3.6842222,
         28001
        ],
        [
         "Oliveto",
         16,
         "Italian",
         4.0,
         40.40979,
         "2",
         1456.4016545306733,
         -3.6964464,
         28012
        ],
        [
         "La Saletta",
         4,
         "Italian",
         4.5,
         40.41142,
         "2",
         1251.9185393748037,
         -3.69879,
         28012
        ],
        [
         "Gioia",
         2,
         "Italian",
         4.5,
         40.42216,
         "3",
         106.04678146607492,
         -3.69839,
         28004
        ],
        [
         "Bresca",
         15,
         "Italian",
         4.5,
         40.41072,
         "null",
         1359.9061502885393,
         -3.69954,
         28012
        ],
        [
         "La Pasta degl'Angeli",
         4,
         "Italian",
         4.0,
         40.421898,
         "null",
         162.82189260970674,
         -3.699037,
         28004
        ],
        [
         "Angelita",
         29,
         "Italian",
         5.0,
         40.420277,
         "3",
         372.5374556274898,
         -3.700387,
         28004
        ],
        [
         "La Tagliatella",
         12,
         "Italian",
         4.0,
         40.420044,
         "2",
         352.8375009931065,
         -3.695663,
         28004
        ],
        [
         "Ginos",
         4,
         "Italian",
         4.0,
         40.417633,
         "2",
         609.1326001777951,
         -3.699736,
         28014
        ],
        [
         "Pizza Emporio",
         4,
         "Italian",
         5.0,
         40.428947,
         "1",
         1095.2377715771497,
         -3.6874144,
         28001
        ],
        [
         "Il Siciliano",
         1,
         "Italian",
         5.0,
         40.41713,
         "1",
         989.864446124471,
         -3.70648,
         28013
        ],
        [
         "Da Gavino",
         6,
         "Italian",
         4.0,
         40.42625,
         "3",
         393.98918911987215,
         -3.69632,
         28004
        ],
        [
         "Piccolo Diávolo",
         13,
         "Italian",
         4.0,
         40.41143,
         "2",
         1286.5170897886294,
         -3.69556,
         28014
        ],
        [
         "Davanti",
         2,
         "Italian",
         5.0,
         40.42212,
         "null",
         104.12057105481111,
         -3.696836,
         28004
        ],
        [
         "Massart",
         24,
         "Italian",
         4.0,
         40.435303,
         "1",
         2228.9328208031056,
         -3.718232,
         28015
        ],
        [
         "Pizzart",
         1,
         "Italian",
         5.0,
         40.41703,
         "null",
         665.8878783433142,
         -3.6998,
         28014
        ],
        [
         "Il Siciliano",
         1,
         "Italian",
         5.0,
         40.42522,
         "null",
         552.4803087860035,
         -3.70331,
         28004
        ],
        [
         "La Pentola Magica",
         3,
         "Italian",
         4.5,
         40.404945,
         "1",
         2358.825957613841,
         -3.682662,
         28007
        ],
        [
         "Il Piccolino Della Farfalla",
         33,
         "Italian",
         4.0,
         40.41397,
         "1",
         1034.1791561981606,
         -3.70099,
         28012
        ],
        [
         "Nina Pasta Bar",
         4,
         "Italian",
         5.0,
         40.40949,
         "null",
         1766.9758803141417,
         -3.708867,
         28005
        ],
        [
         "Ginos",
         2,
         "Italian",
         4.0,
         40.42205,
         "null",
         1920.3818721216405,
         -3.720247,
         28008
        ],
        [
         "Trattoria Limbara",
         2,
         "Italian",
         3.0,
         40.43176,
         "1",
         1063.7876971394164,
         -3.7024,
         28010
        ],
        [
         "La Tagliatella",
         7,
         "Italian",
         4.0,
         40.43917,
         "2",
         2734.910679896878,
         -3.6734002,
         28002
        ],
        [
         "Luna Rossa",
         8,
         "Italian",
         4.0,
         40.4232,
         "1",
         828.9114906004456,
         -3.70736,
         28015
        ],
        [
         "Al Dente",
         2,
         "Italian",
         4.5,
         40.43109,
         "null",
         1622.4418459478902,
         -3.7134109,
         28015
        ],
        [
         "Ginos Velázquez",
         1,
         "Italian",
         5.0,
         40.439777,
         "1",
         2280.6067527945406,
         -3.682355,
         28006
        ],
        [
         "Grosso Napoletano",
         11,
         "Italian",
         4.0,
         40.42606,
         "2",
         1788.954414253439,
         -3.6769,
         28001
        ],
        [
         "Don Giovanni",
         17,
         "Italian",
         4.5,
         40.4073,
         "3",
         2256.845362718719,
         -3.68047,
         28014
        ],
        [
         "La Piemontesa",
         3,
         "Italian",
         4.0,
         40.461693,
         "2",
         4341.666733739132,
         -3.692228,
         28020
        ],
        [
         "Takos al Pastor",
         418,
         "Mexican",
         4.5,
         40.418964,
         "1",
         671.6237992836653,
         -3.7036471,
         28013
        ],
        [
         "La Mordida",
         47,
         "Mexican",
         4.5,
         40.42441,
         "2",
         220.59324282461054,
         -3.695961,
         28004
        ],
        [
         "Rosa Negra",
         70,
         "Mexican",
         4.0,
         40.41385,
         "2",
         1008.3544873488044,
         -3.69896,
         28014
        ],
        [
         "Central Mexicana",
         3,
         "Mexican",
         4.5,
         40.41912,
         "2",
         751.6082646898791,
         -3.705,
         28013
        ],
        [
         "Tierra",
         13,
         "Mexican",
         4.5,
         40.41557,
         "1",
         897.5709127153445,
         -3.70224,
         28012
        ],
        [
         "El Chaparrito",
         17,
         "Mexican",
         4.5,
         40.415634,
         "2",
         1331.1089491528676,
         -3.7101238,
         28013
        ],
        [
         "Taquería Mi Ciudad",
         47,
         "Mexican",
         4.0,
         40.41743,
         "1",
         1119.4904749653303,
         -3.708722,
         28013
        ],
        [
         "Takos al Pastor",
         26,
         "Mexican",
         4.5,
         40.414806,
         "null",
         1183.1483702893581,
         -3.706722,
         28013
        ],
        [
         "Tacos y Tapas",
         6,
         "Mexican",
         4.5,
         40.4125,
         "2",
         1705.1806778885027,
         -3.71245,
         28005
        ],
        [
         "La Mordida",
         10,
         "Mexican",
         4.5,
         40.4137,
         "2",
         2254.650225232564,
         -3.6738248,
         28009
        ],
        [
         "La Mayor",
         57,
         "Mexican",
         4.5,
         40.41508,
         "2",
         1503.04561234145,
         -3.71213,
         28013
        ],
        [
         "La Malinche",
         6,
         "Mexican",
         4.5,
         40.42083,
         "2",
         1091.4171166278284,
         -3.71017,
         28013
        ],
        [
         "Tierra",
         55,
         "Mexican",
         4.0,
         40.43604,
         "1",
         1959.4554995160177,
         -3.71294,
         28015
        ],
        [
         "Taquería Mi Ciudad",
         47,
         "Mexican",
         4.0,
         40.416996,
         "1",
         1122.2033744000246,
         -3.708374,
         28013
        ],
        [
         "Tiki Taco",
         26,
         "Mexican",
         4.0,
         40.42225,
         "null",
         852.8733774919483,
         -3.70759,
         28015
        ],
        [
         "Mestizo",
         24,
         "Mexican",
         4.0,
         40.42178,
         "2",
         675.2692765430174,
         -3.68975,
         28001
        ],
        [
         "La Venganza de Malinche",
         14,
         "Mexican",
         4.0,
         40.41896,
         "2",
         532.3277020220784,
         -3.70138,
         28015
        ],
        [
         "Juana la Loca",
         216,
         "Mexican",
         4.5,
         40.411358,
         "3",
         1715.626437811679,
         -3.711094,
         28005
        ],
        [
         "Mexcalista",
         6,
         "Mexican",
         5.0,
         40.41443,
         "null",
         937.7743525091706,
         -3.69859,
         28014
        ],
        [
         "El Rincón de los Cuates",
         4,
         "Mexican",
         4.0,
         40.421223,
         "null",
         217.20413675626872,
         -3.698988,
         28004
        ],
        [
         "La Rebonita",
         15,
         "Mexican",
         4.0,
         40.411602,
         "1",
         1276.9913280536578,
         -3.70056,
         28012
        ],
        [
         "Sol Azteca",
         2,
         "Mexican",
         4.5,
         40.431797,
         "null",
         1928.7201354742579,
         -3.678058,
         28006
        ],
        [
         "Tacos Margaritas Y Punto",
         4,
         "Mexican",
         5.0,
         40.415607,
         "null",
         1272.604481430856,
         -3.7092133,
         28005
        ],
        [
         "Tierra",
         20,
         "Mexican",
         4.5,
         40.45645,
         "1",
         3755.997494351485,
         -3.69292,
         28020
        ],
        [
         "Antigua Taquería",
         8,
         "Mexican",
         4.0,
         40.40945,
         "1",
         1588.5227025666645,
         -3.70428,
         28012
        ],
        [
         "DF Bar",
         48,
         "Mexican",
         4.5,
         40.41286,
         "1",
         1127.1226339084799,
         -3.69924,
         28014
        ],
        [
         "Tacos Chapultepec",
         35,
         "Mexican",
         4.0,
         40.43015,
         "1",
         887.7436852310107,
         -3.70177,
         28010
        ],
        [
         "Punto MX",
         26,
         "Mexican",
         4.0,
         40.42768,
         "4",
         1716.9847815364612,
         -3.67832,
         28001
        ],
        [
         "Sahuaro",
         16,
         "Mexican",
         4.5,
         40.411137,
         "2",
         1535.2244254392795,
         -3.707162,
         28005
        ],
        [
         "El Rey de Los Tacos",
         12,
         "Mexican",
         4.0,
         40.41938,
         "null",
         1088.479658534812,
         -3.70962,
         28013
        ],
        [
         "Las Mañanitas",
         19,
         "Mexican",
         3.5,
         40.42664,
         "2",
         525.9924416037366,
         -3.70132,
         28004
        ],
        [
         "Chilango",
         13,
         "Mexican",
         4.0,
         40.42874,
         "2",
         831.0576402864496,
         -3.70395,
         28004
        ],
        [
         "La Tomata",
         11,
         "Mexican",
         4.0,
         40.43118,
         "3",
         1000.3424975807408,
         -3.70217,
         28010
        ],
        [
         "La Mordida",
         4,
         "Mexican",
         4.5,
         40.4562,
         "2",
         3707.4136787763873,
         -3.69693,
         28020
        ],
        [
         "Ricos Tacos",
         2,
         "Mexican",
         5.0,
         40.42407,
         "null",
         2081.0114566913,
         -3.67292,
         28009
        ],
        [
         "Cherry Pecas",
         8,
         "Mexican",
         4.0,
         40.441032,
         "null",
         2517.372752804476,
         -3.715326,
         28003
        ],
        [
         "La Taqueria del Alamillo",
         36,
         "Mexican",
         4.0,
         40.414036,
         "2",
         1465.397331422587,
         -3.7104418,
         28005
        ],
        [
         "La Taquería de Birrä",
         8,
         "Mexican",
         3.5,
         40.41166,
         "1",
         1833.1250099562526,
         -3.71348,
         28005
        ],
        [
         "La Venganza de Malinche",
         6,
         "Mexican",
         3.5,
         40.417484,
         "2",
         993.0872758447316,
         -3.7069554,
         28013
        ],
        [
         "Taco & Burro Maya",
         3,
         "Mexican",
         5.0,
         40.401745,
         "null",
         2350.7463388220676,
         -3.6989076,
         28045
        ],
        [
         "La Diavla",
         1,
         "Mexican",
         5.0,
         40.42136,
         "null",
         1599.98845480739,
         -3.67883,
         28009
        ],
        [
         "La Lupita",
         11,
         "Mexican",
         3.5,
         40.422543,
         "2",
         1027.340667977444,
         -3.685457,
         28001
        ],
        [
         "Corazón Agavero Mezcaloteca",
         17,
         "Mexican",
         4.5,
         40.40944,
         "1",
         1842.9248676229263,
         -3.710356,
         28005
        ],
        [
         "Jleo's",
         7,
         "Mexican",
         4.5,
         40.431656,
         "1",
         1463.662624243902,
         -3.710451,
         28015
        ],
        [
         "El Kártel de Malasaña",
         5,
         "Mexican",
         4.0,
         40.42563,
         "1",
         507.96465621394026,
         -3.70217,
         28004
        ],
        [
         "Mexico 1800",
         1,
         "Mexican",
         4.0,
         40.42205,
         "null",
         735.7002709776398,
         -3.706212,
         28004
        ],
        [
         "100% México, Hecho a Mano",
         7,
         "Mexican",
         4.5,
         40.4243,
         "2",
         1389.3875584816656,
         -3.68146,
         28001
        ],
        [
         "La Chelinda",
         7,
         "Mexican",
         4.0,
         40.456566,
         "2",
         3773.027158686561,
         -3.6924388,
         28020
        ],
        [
         "No Q No",
         3,
         "Mexican",
         4.5,
         40.46251,
         "2",
         9956.13300669362,
         -3.5921,
         28042
        ],
        [
         "Tacazzo",
         8,
         "Mexican",
         4.0,
         40.417114,
         "2",
         1928.8848667754253,
         -3.676086,
         28009
        ]
       ],
       "datasetInfos": [],
       "dbfsResultPath": null,
       "isJsonSchema": true,
       "metadata": {},
       "overflow": false,
       "plotOptions": {
        "customPlotOptions": {},
        "displayType": "table",
        "pivotAggregation": null,
        "pivotColumns": null,
        "xColumns": null,
        "yColumns": null
       },
       "removedWidgets": [],
       "schema": [
        {
         "metadata": "{}",
         "name": "name",
         "type": "\"string\""
        },
        {
         "metadata": "{}",
         "name": "review_count",
         "type": "\"integer\""
        },
        {
         "metadata": "{}",
         "name": "categories",
         "type": "\"string\""
        },
        {
         "metadata": "{}",
         "name": "rating",
         "type": "\"double\""
        },
        {
         "metadata": "{}",
         "name": "latitude",
         "type": "\"double\""
        },
        {
         "metadata": "{}",
         "name": "price",
         "type": "\"string\""
        },
        {
         "metadata": "{}",
         "name": "distance",
         "type": "\"double\""
        },
        {
         "metadata": "{}",
         "name": "longitude",
         "type": "\"double\""
        },
        {
         "metadata": "{}",
         "name": "postal_code",
         "type": "\"integer\""
        }
       ],
       "type": "table"
      }
     },
     "output_type": "display_data"
    }
   ],
   "source": [
    "dataPath = \"/FileStore/tables/df_silver.csv\"\n",
    "df0 = spark.read.format(\"csv\")\\\n",
    "  .option(\"header\",\"true\")\\\n",
    "  .option(\"inferSchema\", \"true\")\\\n",
    "  .load(dataPath)\n",
    "\n",
    "display(df0)"
   ]
  },
  {
   "cell_type": "code",
   "execution_count": 0,
   "metadata": {
    "application/vnd.databricks.v1+cell": {
     "cellMetadata": {},
     "inputWidgets": {},
     "nuid": "c47f1294-9e49-4a50-98d1-1cbdf15ed725",
     "showTitle": false,
     "title": ""
    }
   },
   "outputs": [
    {
     "output_type": "stream",
     "name": "stdout",
     "output_type": "stream",
     "text": [
      "Out[2]: 45"
     ]
    }
   ],
   "source": [
    "from pyspark.sql.functions import col,length\n",
    "\n",
    "#Here we notice that there are some null values for the \"price\" column: there are some restaurants that don't have a price feature (so how expensive or cheap they are). Let's see how many are there to decide how to clean them (remove or mean imputation or regression...)\n",
    "df0.where(length(col(\"price\")) > 1).count()\n"
   ]
  },
  {
   "cell_type": "markdown",
   "metadata": {
    "application/vnd.databricks.v1+cell": {
     "cellMetadata": {},
     "inputWidgets": {},
     "nuid": "494b95ab-a1d9-4e36-b71a-6145fc36c20b",
     "showTitle": false,
     "title": ""
    }
   },
   "source": [
    "We notice that there are 45 values which are missing for price. Since price is an important variable as we saw in the EDA, we will not remove it. Plus, we have very few variables, so removing one would not be rational. Also, imputing would bias the data in our opinion, so we will just proceed to remove the rows with these nulls"
   ]
  },
  {
   "cell_type": "code",
   "execution_count": 0,
   "metadata": {
    "application/vnd.databricks.v1+cell": {
     "cellMetadata": {},
     "inputWidgets": {},
     "nuid": "bcaed707-7b23-4883-93e6-58e3c72f342d",
     "showTitle": false,
     "title": ""
    }
   },
   "outputs": [],
   "source": [
    "#Remove rows with nulls\n",
    "df0 = df0.where(length(col(\"price\")) < 2)\n",
    "\n",
    "#Also remove columns that we won't use: name (no use), postal code (no use), longitude and latitude (because we have distance)\n",
    "df0 = df0.drop('name')\n",
    "df0 = df0.drop('postal_code')\n",
    "df0 = df0.drop('longitude')\n",
    "df0 = df0.drop('latitude')\n",
    "df0.write.csv('Newrestsss.csv', header=True)"
   ]
  },
  {
   "cell_type": "code",
   "execution_count": 0,
   "metadata": {
    "application/vnd.databricks.v1+cell": {
     "cellMetadata": {},
     "inputWidgets": {},
     "nuid": "a05e55d2-c4ed-414b-9afe-1d9b92a3f281",
     "showTitle": false,
     "title": ""
    }
   },
   "outputs": [],
   "source": [
    "# Load the CSV file from the data section of Databricks\n",
    "df = spark.read.csv('/Newrestsss.csv', header=True)"
   ]
  },
  {
   "cell_type": "code",
   "execution_count": 0,
   "metadata": {
    "application/vnd.databricks.v1+cell": {
     "cellMetadata": {},
     "inputWidgets": {},
     "nuid": "71459b68-7b6c-40ad-a40e-c69d07c68367",
     "showTitle": false,
     "title": ""
    }
   },
   "outputs": [],
   "source": [
    "from pyspark.ml.feature import StringIndexer\n",
    "# We only have 1 categorical variable, which is \"categories\", so we just labelEncode it using StringIndexer\n",
    "indexer = StringIndexer(inputCol='categories', outputCol='categories_index')\n",
    "df = indexer.fit(df).transform(df)"
   ]
  },
  {
   "cell_type": "code",
   "execution_count": 0,
   "metadata": {
    "application/vnd.databricks.v1+cell": {
     "cellMetadata": {},
     "inputWidgets": {},
     "nuid": "1645d1dd-07c5-4a90-a5eb-28bb5b1b05e9",
     "showTitle": false,
     "title": ""
    }
   },
   "outputs": [
    {
     "output_type": "display_data",
     "data": {
      "text/html": [
       "<style scoped>\n",
       "  .table-result-container {\n",
       "    max-height: 300px;\n",
       "    overflow: auto;\n",
       "  }\n",
       "  table, th, td {\n",
       "    border: 1px solid black;\n",
       "    border-collapse: collapse;\n",
       "  }\n",
       "  th, td {\n",
       "    padding: 5px;\n",
       "  }\n",
       "  th {\n",
       "    text-align: left;\n",
       "  }\n",
       "</style><div class='table-result-container'><table class='table-result'><thead style='background-color: white'><tr><th>review_count</th><th>rating</th><th>price</th><th>distance</th><th>categories_index</th></tr></thead><tbody><tr><td>769.0</td><td>4.5</td><td>2.0</td><td>1323.9351440693945</td><td>0.0</td></tr><tr><td>448.0</td><td>4.0</td><td>2.0</td><td>847.3790987480967</td><td>0.0</td></tr><tr><td>31.0</td><td>4.5</td><td>3.0</td><td>1375.936331500051</td><td>0.0</td></tr><tr><td>42.0</td><td>4.5</td><td>2.0</td><td>546.9655482728417</td><td>0.0</td></tr><tr><td>182.0</td><td>4.5</td><td>2.0</td><td>297.6040361411656</td><td>0.0</td></tr><tr><td>126.0</td><td>4.5</td><td>2.0</td><td>1409.3953170255295</td><td>0.0</td></tr><tr><td>161.0</td><td>4.0</td><td>2.0</td><td>859.0034856078098</td><td>0.0</td></tr><tr><td>16.0</td><td>4.5</td><td>1.0</td><td>398.07076724778057</td><td>0.0</td></tr><tr><td>94.0</td><td>4.5</td><td>3.0</td><td>1035.445088896326</td><td>0.0</td></tr><tr><td>33.0</td><td>5.0</td><td>3.0</td><td>1168.8084348720095</td><td>0.0</td></tr><tr><td>8.0</td><td>4.5</td><td>2.0</td><td>1257.8650825827144</td><td>0.0</td></tr><tr><td>102.0</td><td>4.5</td><td>3.0</td><td>1282.4301695469583</td><td>0.0</td></tr><tr><td>125.0</td><td>4.0</td><td>2.0</td><td>371.17219437757063</td><td>0.0</td></tr><tr><td>16.0</td><td>5.0</td><td>2.0</td><td>1245.5718114622448</td><td>0.0</td></tr><tr><td>79.0</td><td>4.0</td><td>2.0</td><td>299.75414566377356</td><td>0.0</td></tr><tr><td>11.0</td><td>4.5</td><td>2.0</td><td>1679.1324348217292</td><td>0.0</td></tr><tr><td>54.0</td><td>4.5</td><td>3.0</td><td>2810.2129913861268</td><td>0.0</td></tr><tr><td>12.0</td><td>4.5</td><td>4.0</td><td>4292.8105582067265</td><td>0.0</td></tr><tr><td>210.0</td><td>4.0</td><td>1.0</td><td>880.0271748434934</td><td>0.0</td></tr><tr><td>20.0</td><td>4.5</td><td>2.0</td><td>888.0611582031488</td><td>0.0</td></tr><tr><td>86.0</td><td>4.5</td><td>1.0</td><td>889.604983373482</td><td>0.0</td></tr><tr><td>23.0</td><td>4.5</td><td>2.0</td><td>371.7496282903476</td><td>0.0</td></tr><tr><td>55.0</td><td>4.0</td><td>2.0</td><td>1720.5167688397755</td><td>0.0</td></tr><tr><td>9.0</td><td>4.5</td><td>2.0</td><td>70.33818378885029</td><td>0.0</td></tr><tr><td>9.0</td><td>4.5</td><td>2.0</td><td>936.2070628085398</td><td>0.0</td></tr><tr><td>180.0</td><td>4.5</td><td>3.0</td><td>906.7764467348135</td><td>0.0</td></tr><tr><td>14.0</td><td>4.5</td><td>1.0</td><td>2003.3739086320672</td><td>0.0</td></tr><tr><td>73.0</td><td>4.0</td><td>1.0</td><td>946.019092804493</td><td>0.0</td></tr><tr><td>15.0</td><td>4.5</td><td>1.0</td><td>1606.8643189404181</td><td>0.0</td></tr><tr><td>69.0</td><td>4.5</td><td>2.0</td><td>488.7083814997758</td><td>0.0</td></tr><tr><td>366.0</td><td>3.5</td><td>1.0</td><td>290.9915674469935</td><td>0.0</td></tr><tr><td>29.0</td><td>4.5</td><td>3.0</td><td>922.8203902039091</td><td>0.0</td></tr><tr><td>615.0</td><td>4.0</td><td>3.0</td><td>1304.2170679660362</td><td>0.0</td></tr><tr><td>21.0</td><td>5.0</td><td>3.0</td><td>630.0871640719441</td><td>0.0</td></tr><tr><td>32.0</td><td>4.5</td><td>2.0</td><td>1530.886543775833</td><td>0.0</td></tr><tr><td>20.0</td><td>4.5</td><td>1.0</td><td>1780.9484656935279</td><td>0.0</td></tr><tr><td>6.0</td><td>5.0</td><td>3.0</td><td>1675.278430632665</td><td>0.0</td></tr><tr><td>26.0</td><td>4.0</td><td>2.0</td><td>567.3408517478088</td><td>0.0</td></tr><tr><td>21.0</td><td>5.0</td><td>3.0</td><td>2019.6198202824544</td><td>0.0</td></tr><tr><td>29.0</td><td>5.0</td><td>3.0</td><td>372.5374556274898</td><td>0.0</td></tr><tr><td>35.0</td><td>4.5</td><td>1.0</td><td>1094.0981652402868</td><td>0.0</td></tr><tr><td>52.0</td><td>4.5</td><td>2.0</td><td>1148.4834173354568</td><td>0.0</td></tr><tr><td>154.0</td><td>4.5</td><td>2.0</td><td>1541.9081259234936</td><td>0.0</td></tr><tr><td>20.0</td><td>4.5</td><td>2.0</td><td>1106.3064051275262</td><td>0.0</td></tr><tr><td>48.0</td><td>5.0</td><td>2.0</td><td>2020.5902312080937</td><td>0.0</td></tr><tr><td>67.0</td><td>4.5</td><td>2.0</td><td>764.7506754570883</td><td>3.0</td></tr><tr><td>34.0</td><td>4.5</td><td>2.0</td><td>1683.8474441060912</td><td>3.0</td></tr><tr><td>28.0</td><td>4.5</td><td>2.0</td><td>1185.7862478138004</td><td>3.0</td></tr><tr><td>180.0</td><td>4.0</td><td>2.0</td><td>1090.3118768624156</td><td>3.0</td></tr><tr><td>25.0</td><td>4.0</td><td>2.0</td><td>1506.045945872656</td><td>3.0</td></tr><tr><td>54.0</td><td>4.0</td><td>2.0</td><td>609.4105630939849</td><td>3.0</td></tr><tr><td>25.0</td><td>4.0</td><td>1.0</td><td>1022.4985490488237</td><td>3.0</td></tr><tr><td>17.0</td><td>4.0</td><td>2.0</td><td>724.1376317449414</td><td>3.0</td></tr><tr><td>51.0</td><td>4.5</td><td>2.0</td><td>1523.7896540257736</td><td>3.0</td></tr><tr><td>33.0</td><td>3.5</td><td>2.0</td><td>741.9874349730312</td><td>3.0</td></tr><tr><td>24.0</td><td>4.5</td><td>1.0</td><td>3075.7635209239843</td><td>3.0</td></tr><tr><td>45.0</td><td>4.0</td><td>2.0</td><td>1984.3728826077909</td><td>3.0</td></tr><tr><td>25.0</td><td>4.0</td><td>1.0</td><td>492.6528185606649</td><td>3.0</td></tr><tr><td>70.0</td><td>4.5</td><td>1.0</td><td>1886.4628184569287</td><td>3.0</td></tr><tr><td>4.0</td><td>4.5</td><td>2.0</td><td>5625.145609505655</td><td>3.0</td></tr><tr><td>18.0</td><td>4.0</td><td>2.0</td><td>857.9076724337576</td><td>3.0</td></tr><tr><td>5.0</td><td>4.0</td><td>2.0</td><td>95.65511145937545</td><td>3.0</td></tr><tr><td>11.0</td><td>4.5</td><td>2.0</td><td>440.75710302522737</td><td>3.0</td></tr><tr><td>109.0</td><td>4.0</td><td>2.0</td><td>772.9589767071259</td><td>3.0</td></tr><tr><td>9.0</td><td>4.5</td><td>2.0</td><td>4199.438176581559</td><td>3.0</td></tr><tr><td>12.0</td><td>4.0</td><td>2.0</td><td>835.9441616287093</td><td>3.0</td></tr><tr><td>10.0</td><td>3.5</td><td>1.0</td><td>1977.934394894583</td><td>3.0</td></tr><tr><td>41.0</td><td>4.0</td><td>2.0</td><td>840.091922029471</td><td>3.0</td></tr><tr><td>73.0</td><td>4.0</td><td>2.0</td><td>181.88790341618449</td><td>3.0</td></tr><tr><td>7.0</td><td>4.0</td><td>2.0</td><td>1904.7813667856042</td><td>3.0</td></tr><tr><td>7.0</td><td>4.0</td><td>2.0</td><td>327.0667231780543</td><td>3.0</td></tr><tr><td>21.0</td><td>4.0</td><td>1.0</td><td>1076.5736060546099</td><td>3.0</td></tr><tr><td>153.0</td><td>4.5</td><td>2.0</td><td>907.9863770759232</td><td>3.0</td></tr><tr><td>20.0</td><td>4.5</td><td>2.0</td><td>1143.2003384440857</td><td>3.0</td></tr><tr><td>33.0</td><td>4.5</td><td>2.0</td><td>156.68651580601073</td><td>3.0</td></tr><tr><td>7.0</td><td>4.0</td><td>2.0</td><td>5812.567773122338</td><td>3.0</td></tr><tr><td>60.0</td><td>4.5</td><td>1.0</td><td>947.1811780352955</td><td>3.0</td></tr><tr><td>50.0</td><td>4.0</td><td>2.0</td><td>572.505669037329</td><td>3.0</td></tr><tr><td>2.0</td><td>4.0</td><td>2.0</td><td>6016.154755508205</td><td>3.0</td></tr><tr><td>74.0</td><td>4.0</td><td>2.0</td><td>1124.0231004567572</td><td>1.0</td></tr><tr><td>111.0</td><td>4.5</td><td>2.0</td><td>127.1759631338847</td><td>1.0</td></tr><tr><td>31.0</td><td>4.5</td><td>3.0</td><td>213.80119474053967</td><td>1.0</td></tr><tr><td>44.0</td><td>4.5</td><td>2.0</td><td>680.121843136792</td><td>1.0</td></tr><tr><td>51.0</td><td>4.0</td><td>2.0</td><td>1066.865619950464</td><td>1.0</td></tr><tr><td>15.0</td><td>4.5</td><td>2.0</td><td>750.5585941275872</td><td>1.0</td></tr><tr><td>18.0</td><td>4.5</td><td>2.0</td><td>977.7756847131163</td><td>1.0</td></tr><tr><td>46.0</td><td>4.5</td><td>1.0</td><td>336.6517267620623</td><td>1.0</td></tr><tr><td>6.0</td><td>4.5</td><td>3.0</td><td>467.4383786947757</td><td>1.0</td></tr><tr><td>51.0</td><td>4.5</td><td>2.0</td><td>366.44865696195694</td><td>1.0</td></tr><tr><td>38.0</td><td>4.5</td><td>2.0</td><td>939.3995899152179</td><td>1.0</td></tr><tr><td>30.0</td><td>4.0</td><td>2.0</td><td>391.24137975900635</td><td>1.0</td></tr><tr><td>49.0</td><td>4.5</td><td>1.0</td><td>1135.4881319340707</td><td>1.0</td></tr><tr><td>4.0</td><td>5.0</td><td>3.0</td><td>1259.3239562337224</td><td>1.0</td></tr><tr><td>20.0</td><td>4.5</td><td>1.0</td><td>1590.6244316723469</td><td>1.0</td></tr><tr><td>22.0</td><td>4.5</td><td>2.0</td><td>2133.383536508534</td><td>1.0</td></tr><tr><td>7.0</td><td>4.5</td><td>2.0</td><td>2077.6147433546594</td><td>1.0</td></tr><tr><td>12.0</td><td>3.5</td><td>3.0</td><td>1132.2225436036554</td><td>1.0</td></tr><tr><td>16.0</td><td>4.0</td><td>2.0</td><td>1456.4016545306733</td><td>1.0</td></tr><tr><td>4.0</td><td>4.5</td><td>2.0</td><td>1251.9185393748037</td><td>1.0</td></tr><tr><td>2.0</td><td>4.5</td><td>3.0</td><td>106.04678146607492</td><td>1.0</td></tr><tr><td>29.0</td><td>5.0</td><td>3.0</td><td>372.5374556274898</td><td>1.0</td></tr><tr><td>12.0</td><td>4.0</td><td>2.0</td><td>352.8375009931065</td><td>1.0</td></tr><tr><td>4.0</td><td>4.0</td><td>2.0</td><td>609.1326001777951</td><td>1.0</td></tr><tr><td>4.0</td><td>5.0</td><td>1.0</td><td>1095.2377715771497</td><td>1.0</td></tr><tr><td>1.0</td><td>5.0</td><td>1.0</td><td>989.864446124471</td><td>1.0</td></tr><tr><td>6.0</td><td>4.0</td><td>3.0</td><td>393.98918911987215</td><td>1.0</td></tr><tr><td>13.0</td><td>4.0</td><td>2.0</td><td>1286.5170897886294</td><td>1.0</td></tr><tr><td>24.0</td><td>4.0</td><td>1.0</td><td>2228.9328208031056</td><td>1.0</td></tr><tr><td>3.0</td><td>4.5</td><td>1.0</td><td>2358.825957613841</td><td>1.0</td></tr><tr><td>33.0</td><td>4.0</td><td>1.0</td><td>1034.1791561981606</td><td>1.0</td></tr><tr><td>2.0</td><td>3.0</td><td>1.0</td><td>1063.7876971394164</td><td>1.0</td></tr><tr><td>7.0</td><td>4.0</td><td>2.0</td><td>2734.910679896878</td><td>1.0</td></tr><tr><td>8.0</td><td>4.0</td><td>1.0</td><td>828.9114906004456</td><td>1.0</td></tr><tr><td>1.0</td><td>5.0</td><td>1.0</td><td>2280.6067527945406</td><td>1.0</td></tr><tr><td>11.0</td><td>4.0</td><td>2.0</td><td>1788.954414253439</td><td>1.0</td></tr><tr><td>17.0</td><td>4.5</td><td>3.0</td><td>2256.845362718719</td><td>1.0</td></tr><tr><td>3.0</td><td>4.0</td><td>2.0</td><td>4341.666733739132</td><td>1.0</td></tr><tr><td>418.0</td><td>4.5</td><td>1.0</td><td>671.6237992836653</td><td>2.0</td></tr><tr><td>47.0</td><td>4.5</td><td>2.0</td><td>220.59324282461054</td><td>2.0</td></tr><tr><td>70.0</td><td>4.0</td><td>2.0</td><td>1008.3544873488044</td><td>2.0</td></tr><tr><td>3.0</td><td>4.5</td><td>2.0</td><td>751.6082646898791</td><td>2.0</td></tr><tr><td>13.0</td><td>4.5</td><td>1.0</td><td>897.5709127153445</td><td>2.0</td></tr><tr><td>17.0</td><td>4.5</td><td>2.0</td><td>1331.1089491528676</td><td>2.0</td></tr><tr><td>47.0</td><td>4.0</td><td>1.0</td><td>1119.4904749653303</td><td>2.0</td></tr><tr><td>6.0</td><td>4.5</td><td>2.0</td><td>1705.1806778885027</td><td>2.0</td></tr><tr><td>10.0</td><td>4.5</td><td>2.0</td><td>2254.650225232564</td><td>2.0</td></tr><tr><td>57.0</td><td>4.5</td><td>2.0</td><td>1503.04561234145</td><td>2.0</td></tr><tr><td>6.0</td><td>4.5</td><td>2.0</td><td>1091.4171166278284</td><td>2.0</td></tr><tr><td>55.0</td><td>4.0</td><td>1.0</td><td>1959.4554995160177</td><td>2.0</td></tr><tr><td>47.0</td><td>4.0</td><td>1.0</td><td>1122.2033744000246</td><td>2.0</td></tr><tr><td>24.0</td><td>4.0</td><td>2.0</td><td>675.2692765430174</td><td>2.0</td></tr><tr><td>14.0</td><td>4.0</td><td>2.0</td><td>532.3277020220784</td><td>2.0</td></tr><tr><td>216.0</td><td>4.5</td><td>3.0</td><td>1715.626437811679</td><td>2.0</td></tr><tr><td>15.0</td><td>4.0</td><td>1.0</td><td>1276.9913280536578</td><td>2.0</td></tr><tr><td>20.0</td><td>4.5</td><td>1.0</td><td>3755.997494351485</td><td>2.0</td></tr><tr><td>8.0</td><td>4.0</td><td>1.0</td><td>1588.5227025666645</td><td>2.0</td></tr><tr><td>48.0</td><td>4.5</td><td>1.0</td><td>1127.1226339084799</td><td>2.0</td></tr><tr><td>35.0</td><td>4.0</td><td>1.0</td><td>887.7436852310107</td><td>2.0</td></tr><tr><td>26.0</td><td>4.0</td><td>4.0</td><td>1716.9847815364612</td><td>2.0</td></tr><tr><td>16.0</td><td>4.5</td><td>2.0</td><td>1535.2244254392795</td><td>2.0</td></tr><tr><td>19.0</td><td>3.5</td><td>2.0</td><td>525.9924416037366</td><td>2.0</td></tr><tr><td>13.0</td><td>4.0</td><td>2.0</td><td>831.0576402864496</td><td>2.0</td></tr><tr><td>11.0</td><td>4.0</td><td>3.0</td><td>1000.3424975807408</td><td>2.0</td></tr><tr><td>4.0</td><td>4.5</td><td>2.0</td><td>3707.4136787763873</td><td>2.0</td></tr><tr><td>36.0</td><td>4.0</td><td>2.0</td><td>1465.397331422587</td><td>2.0</td></tr><tr><td>8.0</td><td>3.5</td><td>1.0</td><td>1833.1250099562526</td><td>2.0</td></tr><tr><td>6.0</td><td>3.5</td><td>2.0</td><td>993.0872758447316</td><td>2.0</td></tr><tr><td>11.0</td><td>3.5</td><td>2.0</td><td>1027.340667977444</td><td>2.0</td></tr><tr><td>17.0</td><td>4.5</td><td>1.0</td><td>1842.9248676229263</td><td>2.0</td></tr><tr><td>7.0</td><td>4.5</td><td>1.0</td><td>1463.662624243902</td><td>2.0</td></tr><tr><td>5.0</td><td>4.0</td><td>1.0</td><td>507.96465621394026</td><td>2.0</td></tr><tr><td>7.0</td><td>4.5</td><td>2.0</td><td>1389.3875584816656</td><td>2.0</td></tr><tr><td>7.0</td><td>4.0</td><td>2.0</td><td>3773.027158686561</td><td>2.0</td></tr><tr><td>3.0</td><td>4.5</td><td>2.0</td><td>9956.13300669362</td><td>2.0</td></tr><tr><td>8.0</td><td>4.0</td><td>2.0</td><td>1928.8848667754253</td><td>2.0</td></tr></tbody></table></div>"
      ]
     },
     "metadata": {
      "application/vnd.databricks.v1+output": {
       "addedWidgets": {},
       "aggData": [],
       "aggError": "",
       "aggOverflow": false,
       "aggSchema": [],
       "aggSeriesLimitReached": false,
       "aggType": "",
       "arguments": {},
       "columnCustomDisplayInfos": {},
       "data": [
        [
         769.0,
         4.5,
         2.0,
         1323.9351440693945,
         0.0
        ],
        [
         448.0,
         4.0,
         2.0,
         847.3790987480967,
         0.0
        ],
        [
         31.0,
         4.5,
         3.0,
         1375.936331500051,
         0.0
        ],
        [
         42.0,
         4.5,
         2.0,
         546.9655482728417,
         0.0
        ],
        [
         182.0,
         4.5,
         2.0,
         297.6040361411656,
         0.0
        ],
        [
         126.0,
         4.5,
         2.0,
         1409.3953170255295,
         0.0
        ],
        [
         161.0,
         4.0,
         2.0,
         859.0034856078098,
         0.0
        ],
        [
         16.0,
         4.5,
         1.0,
         398.07076724778057,
         0.0
        ],
        [
         94.0,
         4.5,
         3.0,
         1035.445088896326,
         0.0
        ],
        [
         33.0,
         5.0,
         3.0,
         1168.8084348720095,
         0.0
        ],
        [
         8.0,
         4.5,
         2.0,
         1257.8650825827144,
         0.0
        ],
        [
         102.0,
         4.5,
         3.0,
         1282.4301695469583,
         0.0
        ],
        [
         125.0,
         4.0,
         2.0,
         371.17219437757063,
         0.0
        ],
        [
         16.0,
         5.0,
         2.0,
         1245.5718114622448,
         0.0
        ],
        [
         79.0,
         4.0,
         2.0,
         299.75414566377356,
         0.0
        ],
        [
         11.0,
         4.5,
         2.0,
         1679.1324348217292,
         0.0
        ],
        [
         54.0,
         4.5,
         3.0,
         2810.2129913861268,
         0.0
        ],
        [
         12.0,
         4.5,
         4.0,
         4292.8105582067265,
         0.0
        ],
        [
         210.0,
         4.0,
         1.0,
         880.0271748434934,
         0.0
        ],
        [
         20.0,
         4.5,
         2.0,
         888.0611582031488,
         0.0
        ],
        [
         86.0,
         4.5,
         1.0,
         889.604983373482,
         0.0
        ],
        [
         23.0,
         4.5,
         2.0,
         371.7496282903476,
         0.0
        ],
        [
         55.0,
         4.0,
         2.0,
         1720.5167688397755,
         0.0
        ],
        [
         9.0,
         4.5,
         2.0,
         70.33818378885029,
         0.0
        ],
        [
         9.0,
         4.5,
         2.0,
         936.2070628085398,
         0.0
        ],
        [
         180.0,
         4.5,
         3.0,
         906.7764467348135,
         0.0
        ],
        [
         14.0,
         4.5,
         1.0,
         2003.3739086320672,
         0.0
        ],
        [
         73.0,
         4.0,
         1.0,
         946.019092804493,
         0.0
        ],
        [
         15.0,
         4.5,
         1.0,
         1606.8643189404181,
         0.0
        ],
        [
         69.0,
         4.5,
         2.0,
         488.7083814997758,
         0.0
        ],
        [
         366.0,
         3.5,
         1.0,
         290.9915674469935,
         0.0
        ],
        [
         29.0,
         4.5,
         3.0,
         922.8203902039091,
         0.0
        ],
        [
         615.0,
         4.0,
         3.0,
         1304.2170679660362,
         0.0
        ],
        [
         21.0,
         5.0,
         3.0,
         630.0871640719441,
         0.0
        ],
        [
         32.0,
         4.5,
         2.0,
         1530.886543775833,
         0.0
        ],
        [
         20.0,
         4.5,
         1.0,
         1780.9484656935279,
         0.0
        ],
        [
         6.0,
         5.0,
         3.0,
         1675.278430632665,
         0.0
        ],
        [
         26.0,
         4.0,
         2.0,
         567.3408517478088,
         0.0
        ],
        [
         21.0,
         5.0,
         3.0,
         2019.6198202824544,
         0.0
        ],
        [
         29.0,
         5.0,
         3.0,
         372.5374556274898,
         0.0
        ],
        [
         35.0,
         4.5,
         1.0,
         1094.0981652402868,
         0.0
        ],
        [
         52.0,
         4.5,
         2.0,
         1148.4834173354568,
         0.0
        ],
        [
         154.0,
         4.5,
         2.0,
         1541.9081259234936,
         0.0
        ],
        [
         20.0,
         4.5,
         2.0,
         1106.3064051275262,
         0.0
        ],
        [
         48.0,
         5.0,
         2.0,
         2020.5902312080937,
         0.0
        ],
        [
         67.0,
         4.5,
         2.0,
         764.7506754570883,
         3.0
        ],
        [
         34.0,
         4.5,
         2.0,
         1683.8474441060912,
         3.0
        ],
        [
         28.0,
         4.5,
         2.0,
         1185.7862478138004,
         3.0
        ],
        [
         180.0,
         4.0,
         2.0,
         1090.3118768624156,
         3.0
        ],
        [
         25.0,
         4.0,
         2.0,
         1506.045945872656,
         3.0
        ],
        [
         54.0,
         4.0,
         2.0,
         609.4105630939849,
         3.0
        ],
        [
         25.0,
         4.0,
         1.0,
         1022.4985490488237,
         3.0
        ],
        [
         17.0,
         4.0,
         2.0,
         724.1376317449414,
         3.0
        ],
        [
         51.0,
         4.5,
         2.0,
         1523.7896540257736,
         3.0
        ],
        [
         33.0,
         3.5,
         2.0,
         741.9874349730312,
         3.0
        ],
        [
         24.0,
         4.5,
         1.0,
         3075.7635209239843,
         3.0
        ],
        [
         45.0,
         4.0,
         2.0,
         1984.3728826077909,
         3.0
        ],
        [
         25.0,
         4.0,
         1.0,
         492.6528185606649,
         3.0
        ],
        [
         70.0,
         4.5,
         1.0,
         1886.4628184569287,
         3.0
        ],
        [
         4.0,
         4.5,
         2.0,
         5625.145609505655,
         3.0
        ],
        [
         18.0,
         4.0,
         2.0,
         857.9076724337576,
         3.0
        ],
        [
         5.0,
         4.0,
         2.0,
         95.65511145937545,
         3.0
        ],
        [
         11.0,
         4.5,
         2.0,
         440.75710302522737,
         3.0
        ],
        [
         109.0,
         4.0,
         2.0,
         772.9589767071259,
         3.0
        ],
        [
         9.0,
         4.5,
         2.0,
         4199.438176581559,
         3.0
        ],
        [
         12.0,
         4.0,
         2.0,
         835.9441616287093,
         3.0
        ],
        [
         10.0,
         3.5,
         1.0,
         1977.934394894583,
         3.0
        ],
        [
         41.0,
         4.0,
         2.0,
         840.091922029471,
         3.0
        ],
        [
         73.0,
         4.0,
         2.0,
         181.88790341618449,
         3.0
        ],
        [
         7.0,
         4.0,
         2.0,
         1904.7813667856042,
         3.0
        ],
        [
         7.0,
         4.0,
         2.0,
         327.0667231780543,
         3.0
        ],
        [
         21.0,
         4.0,
         1.0,
         1076.5736060546099,
         3.0
        ],
        [
         153.0,
         4.5,
         2.0,
         907.9863770759232,
         3.0
        ],
        [
         20.0,
         4.5,
         2.0,
         1143.2003384440857,
         3.0
        ],
        [
         33.0,
         4.5,
         2.0,
         156.68651580601073,
         3.0
        ],
        [
         7.0,
         4.0,
         2.0,
         5812.567773122338,
         3.0
        ],
        [
         60.0,
         4.5,
         1.0,
         947.1811780352955,
         3.0
        ],
        [
         50.0,
         4.0,
         2.0,
         572.505669037329,
         3.0
        ],
        [
         2.0,
         4.0,
         2.0,
         6016.154755508205,
         3.0
        ],
        [
         74.0,
         4.0,
         2.0,
         1124.0231004567572,
         1.0
        ],
        [
         111.0,
         4.5,
         2.0,
         127.1759631338847,
         1.0
        ],
        [
         31.0,
         4.5,
         3.0,
         213.80119474053967,
         1.0
        ],
        [
         44.0,
         4.5,
         2.0,
         680.121843136792,
         1.0
        ],
        [
         51.0,
         4.0,
         2.0,
         1066.865619950464,
         1.0
        ],
        [
         15.0,
         4.5,
         2.0,
         750.5585941275872,
         1.0
        ],
        [
         18.0,
         4.5,
         2.0,
         977.7756847131163,
         1.0
        ],
        [
         46.0,
         4.5,
         1.0,
         336.6517267620623,
         1.0
        ],
        [
         6.0,
         4.5,
         3.0,
         467.4383786947757,
         1.0
        ],
        [
         51.0,
         4.5,
         2.0,
         366.44865696195694,
         1.0
        ],
        [
         38.0,
         4.5,
         2.0,
         939.3995899152179,
         1.0
        ],
        [
         30.0,
         4.0,
         2.0,
         391.24137975900635,
         1.0
        ],
        [
         49.0,
         4.5,
         1.0,
         1135.4881319340707,
         1.0
        ],
        [
         4.0,
         5.0,
         3.0,
         1259.3239562337224,
         1.0
        ],
        [
         20.0,
         4.5,
         1.0,
         1590.6244316723469,
         1.0
        ],
        [
         22.0,
         4.5,
         2.0,
         2133.383536508534,
         1.0
        ],
        [
         7.0,
         4.5,
         2.0,
         2077.6147433546594,
         1.0
        ],
        [
         12.0,
         3.5,
         3.0,
         1132.2225436036554,
         1.0
        ],
        [
         16.0,
         4.0,
         2.0,
         1456.4016545306733,
         1.0
        ],
        [
         4.0,
         4.5,
         2.0,
         1251.9185393748037,
         1.0
        ],
        [
         2.0,
         4.5,
         3.0,
         106.04678146607492,
         1.0
        ],
        [
         29.0,
         5.0,
         3.0,
         372.5374556274898,
         1.0
        ],
        [
         12.0,
         4.0,
         2.0,
         352.8375009931065,
         1.0
        ],
        [
         4.0,
         4.0,
         2.0,
         609.1326001777951,
         1.0
        ],
        [
         4.0,
         5.0,
         1.0,
         1095.2377715771497,
         1.0
        ],
        [
         1.0,
         5.0,
         1.0,
         989.864446124471,
         1.0
        ],
        [
         6.0,
         4.0,
         3.0,
         393.98918911987215,
         1.0
        ],
        [
         13.0,
         4.0,
         2.0,
         1286.5170897886294,
         1.0
        ],
        [
         24.0,
         4.0,
         1.0,
         2228.9328208031056,
         1.0
        ],
        [
         3.0,
         4.5,
         1.0,
         2358.825957613841,
         1.0
        ],
        [
         33.0,
         4.0,
         1.0,
         1034.1791561981606,
         1.0
        ],
        [
         2.0,
         3.0,
         1.0,
         1063.7876971394164,
         1.0
        ],
        [
         7.0,
         4.0,
         2.0,
         2734.910679896878,
         1.0
        ],
        [
         8.0,
         4.0,
         1.0,
         828.9114906004456,
         1.0
        ],
        [
         1.0,
         5.0,
         1.0,
         2280.6067527945406,
         1.0
        ],
        [
         11.0,
         4.0,
         2.0,
         1788.954414253439,
         1.0
        ],
        [
         17.0,
         4.5,
         3.0,
         2256.845362718719,
         1.0
        ],
        [
         3.0,
         4.0,
         2.0,
         4341.666733739132,
         1.0
        ],
        [
         418.0,
         4.5,
         1.0,
         671.6237992836653,
         2.0
        ],
        [
         47.0,
         4.5,
         2.0,
         220.59324282461054,
         2.0
        ],
        [
         70.0,
         4.0,
         2.0,
         1008.3544873488044,
         2.0
        ],
        [
         3.0,
         4.5,
         2.0,
         751.6082646898791,
         2.0
        ],
        [
         13.0,
         4.5,
         1.0,
         897.5709127153445,
         2.0
        ],
        [
         17.0,
         4.5,
         2.0,
         1331.1089491528676,
         2.0
        ],
        [
         47.0,
         4.0,
         1.0,
         1119.4904749653303,
         2.0
        ],
        [
         6.0,
         4.5,
         2.0,
         1705.1806778885027,
         2.0
        ],
        [
         10.0,
         4.5,
         2.0,
         2254.650225232564,
         2.0
        ],
        [
         57.0,
         4.5,
         2.0,
         1503.04561234145,
         2.0
        ],
        [
         6.0,
         4.5,
         2.0,
         1091.4171166278284,
         2.0
        ],
        [
         55.0,
         4.0,
         1.0,
         1959.4554995160177,
         2.0
        ],
        [
         47.0,
         4.0,
         1.0,
         1122.2033744000246,
         2.0
        ],
        [
         24.0,
         4.0,
         2.0,
         675.2692765430174,
         2.0
        ],
        [
         14.0,
         4.0,
         2.0,
         532.3277020220784,
         2.0
        ],
        [
         216.0,
         4.5,
         3.0,
         1715.626437811679,
         2.0
        ],
        [
         15.0,
         4.0,
         1.0,
         1276.9913280536578,
         2.0
        ],
        [
         20.0,
         4.5,
         1.0,
         3755.997494351485,
         2.0
        ],
        [
         8.0,
         4.0,
         1.0,
         1588.5227025666645,
         2.0
        ],
        [
         48.0,
         4.5,
         1.0,
         1127.1226339084799,
         2.0
        ],
        [
         35.0,
         4.0,
         1.0,
         887.7436852310107,
         2.0
        ],
        [
         26.0,
         4.0,
         4.0,
         1716.9847815364612,
         2.0
        ],
        [
         16.0,
         4.5,
         2.0,
         1535.2244254392795,
         2.0
        ],
        [
         19.0,
         3.5,
         2.0,
         525.9924416037366,
         2.0
        ],
        [
         13.0,
         4.0,
         2.0,
         831.0576402864496,
         2.0
        ],
        [
         11.0,
         4.0,
         3.0,
         1000.3424975807408,
         2.0
        ],
        [
         4.0,
         4.5,
         2.0,
         3707.4136787763873,
         2.0
        ],
        [
         36.0,
         4.0,
         2.0,
         1465.397331422587,
         2.0
        ],
        [
         8.0,
         3.5,
         1.0,
         1833.1250099562526,
         2.0
        ],
        [
         6.0,
         3.5,
         2.0,
         993.0872758447316,
         2.0
        ],
        [
         11.0,
         3.5,
         2.0,
         1027.340667977444,
         2.0
        ],
        [
         17.0,
         4.5,
         1.0,
         1842.9248676229263,
         2.0
        ],
        [
         7.0,
         4.5,
         1.0,
         1463.662624243902,
         2.0
        ],
        [
         5.0,
         4.0,
         1.0,
         507.96465621394026,
         2.0
        ],
        [
         7.0,
         4.5,
         2.0,
         1389.3875584816656,
         2.0
        ],
        [
         7.0,
         4.0,
         2.0,
         3773.027158686561,
         2.0
        ],
        [
         3.0,
         4.5,
         2.0,
         9956.13300669362,
         2.0
        ],
        [
         8.0,
         4.0,
         2.0,
         1928.8848667754253,
         2.0
        ]
       ],
       "datasetInfos": [],
       "dbfsResultPath": null,
       "isJsonSchema": true,
       "metadata": {},
       "overflow": false,
       "plotOptions": {
        "customPlotOptions": {},
        "displayType": "table",
        "pivotAggregation": null,
        "pivotColumns": null,
        "xColumns": null,
        "yColumns": null
       },
       "removedWidgets": [],
       "schema": [
        {
         "metadata": "{}",
         "name": "review_count",
         "type": "\"double\""
        },
        {
         "metadata": "{}",
         "name": "rating",
         "type": "\"double\""
        },
        {
         "metadata": "{}",
         "name": "price",
         "type": "\"double\""
        },
        {
         "metadata": "{}",
         "name": "distance",
         "type": "\"double\""
        },
        {
         "metadata": "{}",
         "name": "categories_index",
         "type": "\"double\""
        }
       ],
       "type": "table"
      }
     },
     "output_type": "display_data"
    }
   ],
   "source": [
    "#We have to make sure that all of the variables are numerical for the ML process\n",
    "df = df.withColumn(\"rating\", df[\"rating\"].cast('double'))\n",
    "df = df.withColumn(\"review_count\", df[\"review_count\"].cast('double'))\n",
    "# df = df.withColumn(\"latitude\", df[\"latitude\"].cast('double'))\n",
    "df = df.withColumn(\"price\", df[\"price\"].cast('double'))\n",
    "df = df.withColumn(\"distance\", df[\"distance\"].cast('double'))\n",
    "# df = df.withColumn(\"postal_code\", df[\"postal_code\"].cast('double'))\n",
    "df = df.withColumn(\"rating\", df[\"rating\"].cast('double'))\n",
    "# df = df.withColumn(\"longitude\", df[\"longitude\"].cast('double'))\n",
    "df = df.withColumn(\"categories_index\", df[\"categories_index\"].cast('double'))\n",
    "df = df.drop('categories')\n",
    "display(df)"
   ]
  },
  {
   "cell_type": "code",
   "execution_count": 0,
   "metadata": {
    "application/vnd.databricks.v1+cell": {
     "cellMetadata": {},
     "inputWidgets": {},
     "nuid": "4215ba45-4086-494e-845b-4d4e9c81d388",
     "showTitle": false,
     "title": ""
    }
   },
   "outputs": [],
   "source": [
    "#Let's save this dataframe as a gold and final table: this is the table pre-processed for ML problem\n",
    "df.write.format(\"delta\").mode(\"overwrite\").saveAsTable(\"gold_table\")"
   ]
  },
  {
   "cell_type": "code",
   "execution_count": 0,
   "metadata": {
    "application/vnd.databricks.v1+cell": {
     "cellMetadata": {},
     "inputWidgets": {},
     "nuid": "f3b47ff4-437c-4aa1-ba52-964a709de2ba",
     "showTitle": false,
     "title": ""
    }
   },
   "outputs": [
    {
     "output_type": "stream",
     "name": "stdout",
     "output_type": "stream",
     "text": [
      "There are 124 records in the training dataset.\nThere are 31 records in the testing dataset.\n"
     ]
    }
   ],
   "source": [
    "# Split the data into training and test sets\n",
    "(train_df, test_df) = df.randomSplit([0.8, 0.2])\n",
    "    \n",
    "    \n",
    "# Print the number of records\n",
    "print(f'There are {train_df.cache().count()} records in the training dataset.')\n",
    "print(f'There are {test_df.cache().count()} records in the testing dataset.')"
   ]
  },
  {
   "cell_type": "code",
   "execution_count": 0,
   "metadata": {
    "application/vnd.databricks.v1+cell": {
     "cellMetadata": {},
     "inputWidgets": {},
     "nuid": "9c5080de-1566-4aa6-9f55-3cf71453d036",
     "showTitle": false,
     "title": ""
    }
   },
   "outputs": [
    {
     "output_type": "stream",
     "name": "stdout",
     "output_type": "stream",
     "text": [
      "There are 124 records in the training dataset.\nThere are 31 records in the testing dataset.\nDataFrame[review_count: double, rating: double, price: double, distance: double, categories_index: double]\n2022/12/19 19:21:57 WARNING mlflow.utils.environment: Encountered an unexpected error while inferring pip requirements (model URI: /tmp/tmpmw1khryu, flavor: spark), fall back to return ['pyspark==3.3.0']. Set logging level to DEBUG to see the full traceback.\n/databricks/spark/python/pyspark/sql/pandas/conversion.py:119: UserWarning: toPandas attempted Arrow optimization because 'spark.sql.execution.arrow.pyspark.enabled' is set to true; however, failed by the reason below:\n  Unable to convert the field features. If this column is not necessary, you may consider dropping it or converting to primitive type before the conversion.\nDirect cause: Unsupported type in conversion to Arrow: VectorUDT()\nAttempting non-optimization as 'spark.sql.execution.arrow.pyspark.fallback.enabled' is set to true.\n  warn(msg)\n"
     ]
    }
   ],
   "source": [
    "#Import the necessary libraries\n",
    "import pyspark\n",
    "from pyspark.ml import Pipeline\n",
    "from pyspark.ml.feature import VectorAssembler\n",
    "from pyspark.ml.regression import LinearRegression, DecisionTreeRegressor, RandomForestRegressor\n",
    "import mlflow\n",
    "from pyspark.ml.evaluation import RegressionEvaluator\n",
    "from pyspark.ml.feature import StandardScaler\n",
    "\n",
    "#We will have one experiment where we will group all of the runs, each containing a different estimator/regressor (linear regression, rf and dt)\n",
    "experiment_name = \"/Users/mviol.exstudents2022@student.ie.edu/our_models_final_project\"\n",
    "experiment_id = mlflow.create_experiment(experiment_name)\n",
    "\n",
    "with mlflow.start_run(run_name=\"model_LR\", experiment_id=experiment_id) as run:\n",
    "    vector_assembler = VectorAssembler(inputCols=['review_count', 'categories_index', 'price', 'distance'], outputCol='features')\n",
    "    # Standardize the columns using StandardScaler\n",
    "    scaler = StandardScaler(inputCol='features', outputCol='scaled_features', withStd=True, withMean=False)\n",
    "\n",
    "    \n",
    "\n",
    "    # Print the number of records\n",
    "    print(f'There are {train_df.cache().count()} records in the training dataset.')\n",
    "    print(f'There are {test_df.cache().count()} records in the testing dataset.')\n",
    "\n",
    "\n",
    "    # Define the regressors\n",
    "    lr = LinearRegression(featuresCol='scaled_features', labelCol='rating', predictionCol=\"prediction_lr\")\n",
    "    \n",
    "\n",
    "    # Define the pipeline\n",
    "    pipeline = Pipeline(stages=[vector_assembler, scaler, lr])\n",
    "\n",
    "    # Train the model\n",
    "    print(train_df)\n",
    "    model = pipeline.fit(train_df)\n",
    "    \n",
    "    \n",
    "    # Log parameters\n",
    "    mlflow.log_param(\"target_variable\", \"rating\")\n",
    "\n",
    "    # Log the model for this run\n",
    "    mlflow.spark.log_model(model, \"SparkML-linear-regression\")\n",
    "\n",
    "    # Evaluate the model on the test set\n",
    "    lr_predictions = model.transform(test_df)\n",
    "    \n",
    "    \n",
    "    # Save the prediction as csv\n",
    "    lr_predictions.toPandas().to_csv('lr_predictions.csv', index=False)\n",
    "   \n",
    "    \n",
    "    # Log the saved prediction as artifact\n",
    "    mlflow.log_artifact(\"lr_predictions.csv\")\n",
    "\n",
    "    \n",
    "    \n",
    "    # Evaluate predictions for linear regression\n",
    "    regressionEvaluator_lr = RegressionEvaluator(predictionCol=\"prediction_lr\", labelCol=\"rating\")\n",
    "    rmse_lr = regressionEvaluator_lr.setMetricName(\"rmse\").evaluate(lr_predictions)\n",
    "    r2_lr = regressionEvaluator_lr.setMetricName(\"r2\").evaluate(lr_predictions)\n",
    "    mse_lr = regressionEvaluator_lr.setMetricName(\"mse\").evaluate(lr_predictions)\n",
    "    mae_lr = regressionEvaluator_lr.setMetricName(\"mae\").evaluate(lr_predictions)\n",
    "    \n",
    "    # Log metrics\n",
    "    mlflow.log_metric(\"rmse\", rmse_lr)  \n",
    "    mlflow.log_metric(\"mae\", mae_lr)    \n",
    "    \n"
   ]
  },
  {
   "cell_type": "code",
   "execution_count": 0,
   "metadata": {
    "application/vnd.databricks.v1+cell": {
     "cellMetadata": {},
     "inputWidgets": {},
     "nuid": "e012dd43-b317-43a4-8cc7-92eb53598f41",
     "showTitle": false,
     "title": ""
    }
   },
   "outputs": [
    {
     "output_type": "stream",
     "name": "stdout",
     "output_type": "stream",
     "text": [
      "There are 124 records in the training dataset.\nThere are 31 records in the testing dataset.\nDataFrame[review_count: double, rating: double, price: double, distance: double, categories_index: double]\n2022/12/19 19:22:31 WARNING mlflow.utils.environment: Encountered an unexpected error while inferring pip requirements (model URI: /tmp/tmp9mferwsf, flavor: spark), fall back to return ['pyspark==3.3.0']. Set logging level to DEBUG to see the full traceback.\n/databricks/spark/python/pyspark/sql/pandas/conversion.py:119: UserWarning: toPandas attempted Arrow optimization because 'spark.sql.execution.arrow.pyspark.enabled' is set to true; however, failed by the reason below:\n  Unable to convert the field features. If this column is not necessary, you may consider dropping it or converting to primitive type before the conversion.\nDirect cause: Unsupported type in conversion to Arrow: VectorUDT()\nAttempting non-optimization as 'spark.sql.execution.arrow.pyspark.fallback.enabled' is set to true.\n  warn(msg)\n"
     ]
    }
   ],
   "source": [
    "#For decision trees and random forest scaling is not required, but it doesn't hurt so we didn't remove it.\n",
    "\n",
    "with mlflow.start_run(run_name=\"model_dt\",  experiment_id=experiment_id) as run:\n",
    "    vector_assembler = VectorAssembler(inputCols=['review_count', 'categories_index', 'price', 'distance'], outputCol='features')\n",
    "    # Standardize the columns using StandardScaler\n",
    "    scaler = StandardScaler(inputCol='features', outputCol='scaled_features', withStd=True, withMean=False)\n",
    "\n",
    "    \n",
    "\n",
    "    # Print the number of records\n",
    "    print(f'There are {train_df.cache().count()} records in the training dataset.')\n",
    "    print(f'There are {test_df.cache().count()} records in the testing dataset.')\n",
    "\n",
    "\n",
    "    # Define the regressors\n",
    "    dt = DecisionTreeRegressor(featuresCol='scaled_features', labelCol='rating', predictionCol=\"prediction_dt\")\n",
    "    \n",
    "    \n",
    "    # Define the pipeline\n",
    "    pipeline = Pipeline(stages=[vector_assembler, scaler, dt])\n",
    "\n",
    "    # Train the model\n",
    "    print(train_df)\n",
    "    model = pipeline.fit(train_df)\n",
    "    \n",
    "    \n",
    "    # Log parameters\n",
    "    mlflow.log_param(\"target_variable\", \"rating\")\n",
    "\n",
    "    # Log the model for this run\n",
    "    mlflow.spark.log_model(model, \"SparkML-decision-tree\")\n",
    "\n",
    "    # Evaluate the model on the test set\n",
    "    dt_predictions = model.transform(test_df)\n",
    "    \n",
    "    # Save the prediction as csv\n",
    "    dt_predictions.toPandas().to_csv('dt_predictions.csv', index=False)\n",
    "    \n",
    "    # Log the saved prediction as artifact\n",
    "    mlflow.log_artifact(\"dt_predictions.csv\")\n",
    "    \n",
    "\n",
    "    # Evaluate predictions for decision tree\n",
    "    regressionEvaluator_dt = RegressionEvaluator(predictionCol=\"prediction_dt\", labelCol=\"rating\")\n",
    "    rmse_dt = regressionEvaluator_dt.setMetricName(\"rmse\").evaluate(dt_predictions)\n",
    "    r2_dt = regressionEvaluator_dt.setMetricName(\"r2\").evaluate(dt_predictions)\n",
    "    mse_dt = regressionEvaluator_dt.setMetricName(\"mse\").evaluate(dt_predictions)\n",
    "    mae_dt = regressionEvaluator_dt.setMetricName(\"mae\").evaluate(dt_predictions)\n",
    "    \n",
    "    # Log metrics\n",
    "    mlflow.log_metric(\"rmse\", rmse_dt)  \n",
    "    mlflow.log_metric(\"mae\", mae_dt)   \n",
    "\n",
    "    "
   ]
  },
  {
   "cell_type": "code",
   "execution_count": 0,
   "metadata": {
    "application/vnd.databricks.v1+cell": {
     "cellMetadata": {},
     "inputWidgets": {},
     "nuid": "e3d2d4d2-ec72-4239-9507-74f6098b3b99",
     "showTitle": false,
     "title": ""
    }
   },
   "outputs": [
    {
     "output_type": "stream",
     "name": "stdout",
     "output_type": "stream",
     "text": [
      "There are 124 records in the training dataset.\nThere are 31 records in the testing dataset.\nDataFrame[review_count: double, rating: double, price: double, distance: double, categories_index: double]\n2022/12/19 19:23:09 WARNING mlflow.utils.environment: Encountered an unexpected error while inferring pip requirements (model URI: /tmp/tmp_b1g0_k7, flavor: spark), fall back to return ['pyspark==3.3.0']. Set logging level to DEBUG to see the full traceback.\n/databricks/spark/python/pyspark/sql/pandas/conversion.py:119: UserWarning: toPandas attempted Arrow optimization because 'spark.sql.execution.arrow.pyspark.enabled' is set to true; however, failed by the reason below:\n  Unable to convert the field features. If this column is not necessary, you may consider dropping it or converting to primitive type before the conversion.\nDirect cause: Unsupported type in conversion to Arrow: VectorUDT()\nAttempting non-optimization as 'spark.sql.execution.arrow.pyspark.fallback.enabled' is set to true.\n  warn(msg)\n"
     ]
    }
   ],
   "source": [
    "#For decision trees and random forest scaling is not required, but it doesn't hurt so we didn't remove it.\n",
    "\n",
    "with mlflow.start_run(run_name=\"model_rf\", experiment_id=experiment_id) as run:\n",
    "    vector_assembler = VectorAssembler(inputCols=['review_count', 'categories_index', 'price', 'distance'], outputCol='features')\n",
    "    # Standardize the columns using StandardScaler\n",
    "    scaler = StandardScaler(inputCol='features', outputCol='scaled_features', withStd=True, withMean=False)\n",
    "\n",
    "\n",
    "    # Print the number of records\n",
    "    print(f'There are {train_df.cache().count()} records in the training dataset.')\n",
    "    print(f'There are {test_df.cache().count()} records in the testing dataset.')\n",
    "\n",
    "\n",
    "    # Define the regressors\n",
    "    rf = RandomForestRegressor(featuresCol='scaled_features', labelCol='rating', predictionCol=\"prediction_rf\")\n",
    "    \n",
    "    \n",
    "    # Define the pipeline\n",
    "    pipeline = Pipeline(stages=[vector_assembler, scaler, rf])\n",
    "\n",
    "    # Train the model\n",
    "    print(train_df)\n",
    "    model = pipeline.fit(train_df)\n",
    "    \n",
    "    \n",
    "    # Log parameters\n",
    "    mlflow.log_param(\"target_variable\", \"rating\")\n",
    "\n",
    "    # Log the model for this run\n",
    "    mlflow.spark.log_model(model, \"SparkML-random-forest\")\n",
    "\n",
    "    # Evaluate the model on the test set\n",
    "    rf_predictions = model.transform(test_df)\n",
    "    \n",
    "    # Save the prediction as csv\n",
    "    rf_predictions.toPandas().to_csv('rf_predictions.csv', index=False)\n",
    "    \n",
    "    # Log the saved prediction as artifact\n",
    "    mlflow.log_artifact(\"rf_predictions.csv\")\n",
    "    \n",
    "    \n",
    "\n",
    "    \n",
    "    # Evaluate predictions for rf\n",
    "    regressionEvaluator_rf = RegressionEvaluator(predictionCol=\"prediction_rf\", labelCol=\"rating\")\n",
    "    rmse_rf = regressionEvaluator_rf.setMetricName(\"rmse\").evaluate(rf_predictions)\n",
    "    r2_rf = regressionEvaluator_rf.setMetricName(\"r2\").evaluate(rf_predictions)\n",
    "    mse_rf = regressionEvaluator_rf.setMetricName(\"mse\").evaluate(rf_predictions)\n",
    "    mae_rf = regressionEvaluator_rf.setMetricName(\"mae\").evaluate(rf_predictions)\n",
    "    \n",
    "    # Log metrics\n",
    "    mlflow.log_metric(\"rmse\", rmse_rf)  \n",
    "    mlflow.log_metric(\"mae\", mae_rf)   \n"
   ]
  },
  {
   "cell_type": "code",
   "execution_count": 0,
   "metadata": {
    "application/vnd.databricks.v1+cell": {
     "cellMetadata": {},
     "inputWidgets": {},
     "nuid": "02d570c0-8b2a-425d-95d1-22a650a65197",
     "showTitle": false,
     "title": ""
    }
   },
   "outputs": [
    {
     "output_type": "stream",
     "name": "stdout",
     "output_type": "stream",
     "text": [
      "<command-221565742489074>:2: FutureWarning: ``mlflow.tracking.client.MlflowClient.list_experiments`` is deprecated. This method will be removed in a future release. Use ``search_experiments()`` instead.\n  MlflowClient().list_experiments()\nOut[67]: [<Experiment: artifact_location='dbfs:/databricks/mlflow-tracking/221565742489086', creation_time=1671477686020, experiment_id='221565742489086', last_update_time=1671477753556, lifecycle_stage='active', name='/Users/mviol.exstudents2022@student.ie.edu/our_models_final_project', tags={'mlflow.experiment.sourceName': '/Users/mviol.exstudents2022@student.ie.edu/our_models_final_project',\n  'mlflow.experimentType': 'MLFLOW_EXPERIMENT',\n  'mlflow.ownerEmail': 'mviol.exstudents2022@student.ie.edu',\n  'mlflow.ownerId': '6801149048339153'}>,\n <Experiment: artifact_location='dbfs:/databricks/mlflow-tracking/221565742489080', creation_time=1671475981474, experiment_id='221565742489080', last_update_time=1671476050887, lifecycle_stage='active', name='/Users/mviol.exstudents2022@student.ie.edu/best_models_final_project', tags={'mlflow.experiment.sourceName': '/Users/mviol.exstudents2022@student.ie.edu/best_models_final_project',\n  'mlflow.experimentType': 'MLFLOW_EXPERIMENT',\n  'mlflow.ownerEmail': 'mviol.exstudents2022@student.ie.edu',\n  'mlflow.ownerId': '6801149048339153'}>,\n <Experiment: artifact_location='dbfs:/databricks/mlflow-tracking/221565742489079', creation_time=1671475798541, experiment_id='221565742489079', last_update_time=1671475890888, lifecycle_stage='active', name='/Users/mviol.exstudents2022@student.ie.edu/official_models_final_project', tags={'mlflow.experiment.sourceName': '/Users/mviol.exstudents2022@student.ie.edu/official_models_final_project',\n  'mlflow.experimentType': 'MLFLOW_EXPERIMENT',\n  'mlflow.ownerEmail': 'mviol.exstudents2022@student.ie.edu',\n  'mlflow.ownerId': '6801149048339153'}>,\n <Experiment: artifact_location='dbfs:/databricks/mlflow-tracking/221565742489077', creation_time=1671475072600, experiment_id='221565742489077', last_update_time=1671475080956, lifecycle_stage='active', name='/Users/mviol.exstudents2022@student.ie.edu/models_final_project', tags={'mlflow.experiment.sourceName': '/Users/mviol.exstudents2022@student.ie.edu/models_final_project',\n  'mlflow.experimentType': 'MLFLOW_EXPERIMENT',\n  'mlflow.ownerEmail': 'mviol.exstudents2022@student.ie.edu',\n  'mlflow.ownerId': '6801149048339153'}>,\n <Experiment: artifact_location='dbfs:/databricks/mlflow-tracking/221565742489076', creation_time=1671474950678, experiment_id='221565742489076', last_update_time=1671474959516, lifecycle_stage='active', name='/Users/mviol.exstudents2022@student.ie.edu/fin_project_models', tags={'mlflow.experiment.sourceName': '/Users/mviol.exstudents2022@student.ie.edu/fin_project_models',\n  'mlflow.experimentType': 'MLFLOW_EXPERIMENT',\n  'mlflow.ownerEmail': 'mviol.exstudents2022@student.ie.edu',\n  'mlflow.ownerId': '6801149048339153'}>,\n <Experiment: artifact_location='dbfs:/databricks/mlflow-tracking/221565742489073', creation_time=1671474614130, experiment_id='221565742489073', last_update_time=1671474628688, lifecycle_stage='active', name='/Users/mviol.exstudents2022@student.ie.edu/final_project_models', tags={'mlflow.experiment.sourceName': '/Users/mviol.exstudents2022@student.ie.edu/final_project_models',\n  'mlflow.experimentType': 'MLFLOW_EXPERIMENT',\n  'mlflow.ownerEmail': 'mviol.exstudents2022@student.ie.edu',\n  'mlflow.ownerId': '6801149048339153'}>,\n <Experiment: artifact_location='dbfs:/databricks/mlflow-tracking/82594327502686', creation_time=1671282634758, experiment_id='82594327502686', last_update_time=1671474254483, lifecycle_stage='active', name='/Users/mviol.exstudents2022@student.ie.edu/Final_proj', tags={'mlflow.experiment.sourceName': '/Users/mviol.exstudents2022@student.ie.edu/Final_proj',\n  'mlflow.experimentType': 'NOTEBOOK',\n  'mlflow.ownerEmail': 'mviol.exstudents2022@student.ie.edu',\n  'mlflow.ownerId': '6801149048339153'}>]"
     ]
    }
   ],
   "source": [
    "from mlflow.tracking import MlflowClient\n",
    "MlflowClient().list_experiments()"
   ]
  },
  {
   "cell_type": "code",
   "execution_count": 0,
   "metadata": {
    "application/vnd.databricks.v1+cell": {
     "cellMetadata": {},
     "inputWidgets": {},
     "nuid": "969d8b30-63a2-4b7d-9da7-96befe120329",
     "showTitle": false,
     "title": ""
    }
   },
   "outputs": [
    {
     "output_type": "display_data",
     "data": {
      "text/html": [
       "<div>\n",
       "<style scoped>\n",
       "    .dataframe tbody tr th:only-of-type {\n",
       "        vertical-align: middle;\n",
       "    }\n",
       "\n",
       "    .dataframe tbody tr th {\n",
       "        vertical-align: top;\n",
       "    }\n",
       "\n",
       "    .dataframe thead th {\n",
       "        text-align: right;\n",
       "    }\n",
       "</style>\n",
       "<table border=\"1\" class=\"dataframe\">\n",
       "  <thead>\n",
       "    <tr style=\"text-align: right;\">\n",
       "      <th></th>\n",
       "      <th>0</th>\n",
       "      <th>1</th>\n",
       "      <th>2</th>\n",
       "    </tr>\n",
       "  </thead>\n",
       "  <tbody>\n",
       "    <tr>\n",
       "      <th>run_id</th>\n",
       "      <td>ee85c71d39c648cdb4e92f229ce9483a</td>\n",
       "      <td>7058e86692a0431e8d609051e1fd9fe6</td>\n",
       "      <td>98a49dd76bea42ef95687a18b3151005</td>\n",
       "    </tr>\n",
       "    <tr>\n",
       "      <th>experiment_id</th>\n",
       "      <td>221565742489086</td>\n",
       "      <td>221565742489086</td>\n",
       "      <td>221565742489086</td>\n",
       "    </tr>\n",
       "    <tr>\n",
       "      <th>status</th>\n",
       "      <td>FINISHED</td>\n",
       "      <td>FINISHED</td>\n",
       "      <td>FINISHED</td>\n",
       "    </tr>\n",
       "    <tr>\n",
       "      <th>artifact_uri</th>\n",
       "      <td>dbfs:/databricks/mlflow-tracking/2215657424890...</td>\n",
       "      <td>dbfs:/databricks/mlflow-tracking/2215657424890...</td>\n",
       "      <td>dbfs:/databricks/mlflow-tracking/2215657424890...</td>\n",
       "    </tr>\n",
       "    <tr>\n",
       "      <th>start_time</th>\n",
       "      <td>2022-12-19 19:22:33.556000+00:00</td>\n",
       "      <td>2022-12-19 19:21:59.225000+00:00</td>\n",
       "      <td>2022-12-19 19:21:26.063000+00:00</td>\n",
       "    </tr>\n",
       "    <tr>\n",
       "      <th>end_time</th>\n",
       "      <td>2022-12-19 19:23:12.332000+00:00</td>\n",
       "      <td>2022-12-19 19:22:33.347000+00:00</td>\n",
       "      <td>2022-12-19 19:21:59.043000+00:00</td>\n",
       "    </tr>\n",
       "    <tr>\n",
       "      <th>metrics.mae</th>\n",
       "      <td>0.271531</td>\n",
       "      <td>0.321453</td>\n",
       "      <td>0.279372</td>\n",
       "    </tr>\n",
       "    <tr>\n",
       "      <th>metrics.rmse</th>\n",
       "      <td>0.323026</td>\n",
       "      <td>0.424287</td>\n",
       "      <td>0.329652</td>\n",
       "    </tr>\n",
       "    <tr>\n",
       "      <th>params.target_variable</th>\n",
       "      <td>rating</td>\n",
       "      <td>rating</td>\n",
       "      <td>rating</td>\n",
       "    </tr>\n",
       "    <tr>\n",
       "      <th>tags.mlflow.databricks.notebookRevisionID</th>\n",
       "      <td>1671477792575</td>\n",
       "      <td>1671477753508</td>\n",
       "      <td>1671477719202</td>\n",
       "    </tr>\n",
       "    <tr>\n",
       "      <th>tags.mlflow.databricks.workspaceID</th>\n",
       "      <td>3013238818558545</td>\n",
       "      <td>3013238818558545</td>\n",
       "      <td>3013238818558545</td>\n",
       "    </tr>\n",
       "    <tr>\n",
       "      <th>tags.mlflow.source.name</th>\n",
       "      <td>/Users/mviol.exstudents2022@student.ie.edu/Fin...</td>\n",
       "      <td>/Users/mviol.exstudents2022@student.ie.edu/Fin...</td>\n",
       "      <td>/Users/mviol.exstudents2022@student.ie.edu/Fin...</td>\n",
       "    </tr>\n",
       "    <tr>\n",
       "      <th>tags.mlflow.databricks.notebookPath</th>\n",
       "      <td>/Users/mviol.exstudents2022@student.ie.edu/Fin...</td>\n",
       "      <td>/Users/mviol.exstudents2022@student.ie.edu/Fin...</td>\n",
       "      <td>/Users/mviol.exstudents2022@student.ie.edu/Fin...</td>\n",
       "    </tr>\n",
       "    <tr>\n",
       "      <th>tags.mlflow.databricks.notebookID</th>\n",
       "      <td>82594327502686</td>\n",
       "      <td>82594327502686</td>\n",
       "      <td>82594327502686</td>\n",
       "    </tr>\n",
       "    <tr>\n",
       "      <th>tags.sparkDatasourceInfo</th>\n",
       "      <td>path=dbfs:/FileStore/tables/df_silver.csv,form...</td>\n",
       "      <td>path=dbfs:/FileStore/tables/df_silver.csv,form...</td>\n",
       "      <td>path=dbfs:/FileStore/tables/df_silver.csv,form...</td>\n",
       "    </tr>\n",
       "    <tr>\n",
       "      <th>tags.mlflow.log-model.history</th>\n",
       "      <td>[{\"artifact_path\":\"SparkML-random-forest\",\"fla...</td>\n",
       "      <td>[{\"artifact_path\":\"SparkML-decision-tree\",\"fla...</td>\n",
       "      <td>[{\"artifact_path\":\"SparkML-linear-regression\",...</td>\n",
       "    </tr>\n",
       "    <tr>\n",
       "      <th>tags.mlflow.databricks.notebook.commandID</th>\n",
       "      <td>5758085053731996640_9203524734153436786_eb5c1f...</td>\n",
       "      <td>5758085053731996640_5075229127260517653_3d0e22...</td>\n",
       "      <td>5758085053731996640_8130618675562189933_27fe24...</td>\n",
       "    </tr>\n",
       "    <tr>\n",
       "      <th>tags.mlflow.source.type</th>\n",
       "      <td>NOTEBOOK</td>\n",
       "      <td>NOTEBOOK</td>\n",
       "      <td>NOTEBOOK</td>\n",
       "    </tr>\n",
       "    <tr>\n",
       "      <th>tags.mlflow.databricks.webappURL</th>\n",
       "      <td>https://community.cloud.databricks.com</td>\n",
       "      <td>https://community.cloud.databricks.com</td>\n",
       "      <td>https://community.cloud.databricks.com</td>\n",
       "    </tr>\n",
       "    <tr>\n",
       "      <th>tags.mlflow.databricks.cluster.libraries</th>\n",
       "      <td>{\"installable\":[],\"redacted\":[]}</td>\n",
       "      <td>{\"installable\":[],\"redacted\":[]}</td>\n",
       "      <td>{\"installable\":[],\"redacted\":[]}</td>\n",
       "    </tr>\n",
       "    <tr>\n",
       "      <th>tags.mlflow.user</th>\n",
       "      <td>mviol.exstudents2022@student.ie.edu</td>\n",
       "      <td>mviol.exstudents2022@student.ie.edu</td>\n",
       "      <td>mviol.exstudents2022@student.ie.edu</td>\n",
       "    </tr>\n",
       "    <tr>\n",
       "      <th>tags.mlflow.databricks.workspaceURL</th>\n",
       "      <td>https://community.cloud.databricks.com</td>\n",
       "      <td>https://community.cloud.databricks.com</td>\n",
       "      <td>https://community.cloud.databricks.com</td>\n",
       "    </tr>\n",
       "    <tr>\n",
       "      <th>tags.mlflow.runName</th>\n",
       "      <td>model_rf</td>\n",
       "      <td>model_dt</td>\n",
       "      <td>model_LR</td>\n",
       "    </tr>\n",
       "    <tr>\n",
       "      <th>tags.mlflow.databricks.cluster.info</th>\n",
       "      <td>{\"cluster_name\":\"final_projectt\",\"spark_versio...</td>\n",
       "      <td>{\"cluster_name\":\"final_projectt\",\"spark_versio...</td>\n",
       "      <td>{\"cluster_name\":\"final_projectt\",\"spark_versio...</td>\n",
       "    </tr>\n",
       "    <tr>\n",
       "      <th>tags.mlflow.databricks.cluster.id</th>\n",
       "      <td>1219-174551-5q7bnz6o</td>\n",
       "      <td>1219-174551-5q7bnz6o</td>\n",
       "      <td>1219-174551-5q7bnz6o</td>\n",
       "    </tr>\n",
       "  </tbody>\n",
       "</table>\n",
       "</div>"
      ]
     },
     "metadata": {
      "application/vnd.databricks.v1+output": {
       "addedWidgets": {},
       "arguments": {},
       "data": "<div>\n<style scoped>\n    .dataframe tbody tr th:only-of-type {\n        vertical-align: middle;\n    }\n\n    .dataframe tbody tr th {\n        vertical-align: top;\n    }\n\n    .dataframe thead th {\n        text-align: right;\n    }\n</style>\n<table border=\"1\" class=\"dataframe\">\n  <thead>\n    <tr style=\"text-align: right;\">\n      <th></th>\n      <th>0</th>\n      <th>1</th>\n      <th>2</th>\n    </tr>\n  </thead>\n  <tbody>\n    <tr>\n      <th>run_id</th>\n      <td>ee85c71d39c648cdb4e92f229ce9483a</td>\n      <td>7058e86692a0431e8d609051e1fd9fe6</td>\n      <td>98a49dd76bea42ef95687a18b3151005</td>\n    </tr>\n    <tr>\n      <th>experiment_id</th>\n      <td>221565742489086</td>\n      <td>221565742489086</td>\n      <td>221565742489086</td>\n    </tr>\n    <tr>\n      <th>status</th>\n      <td>FINISHED</td>\n      <td>FINISHED</td>\n      <td>FINISHED</td>\n    </tr>\n    <tr>\n      <th>artifact_uri</th>\n      <td>dbfs:/databricks/mlflow-tracking/2215657424890...</td>\n      <td>dbfs:/databricks/mlflow-tracking/2215657424890...</td>\n      <td>dbfs:/databricks/mlflow-tracking/2215657424890...</td>\n    </tr>\n    <tr>\n      <th>start_time</th>\n      <td>2022-12-19 19:22:33.556000+00:00</td>\n      <td>2022-12-19 19:21:59.225000+00:00</td>\n      <td>2022-12-19 19:21:26.063000+00:00</td>\n    </tr>\n    <tr>\n      <th>end_time</th>\n      <td>2022-12-19 19:23:12.332000+00:00</td>\n      <td>2022-12-19 19:22:33.347000+00:00</td>\n      <td>2022-12-19 19:21:59.043000+00:00</td>\n    </tr>\n    <tr>\n      <th>metrics.mae</th>\n      <td>0.271531</td>\n      <td>0.321453</td>\n      <td>0.279372</td>\n    </tr>\n    <tr>\n      <th>metrics.rmse</th>\n      <td>0.323026</td>\n      <td>0.424287</td>\n      <td>0.329652</td>\n    </tr>\n    <tr>\n      <th>params.target_variable</th>\n      <td>rating</td>\n      <td>rating</td>\n      <td>rating</td>\n    </tr>\n    <tr>\n      <th>tags.mlflow.databricks.notebookRevisionID</th>\n      <td>1671477792575</td>\n      <td>1671477753508</td>\n      <td>1671477719202</td>\n    </tr>\n    <tr>\n      <th>tags.mlflow.databricks.workspaceID</th>\n      <td>3013238818558545</td>\n      <td>3013238818558545</td>\n      <td>3013238818558545</td>\n    </tr>\n    <tr>\n      <th>tags.mlflow.source.name</th>\n      <td>/Users/mviol.exstudents2022@student.ie.edu/Fin...</td>\n      <td>/Users/mviol.exstudents2022@student.ie.edu/Fin...</td>\n      <td>/Users/mviol.exstudents2022@student.ie.edu/Fin...</td>\n    </tr>\n    <tr>\n      <th>tags.mlflow.databricks.notebookPath</th>\n      <td>/Users/mviol.exstudents2022@student.ie.edu/Fin...</td>\n      <td>/Users/mviol.exstudents2022@student.ie.edu/Fin...</td>\n      <td>/Users/mviol.exstudents2022@student.ie.edu/Fin...</td>\n    </tr>\n    <tr>\n      <th>tags.mlflow.databricks.notebookID</th>\n      <td>82594327502686</td>\n      <td>82594327502686</td>\n      <td>82594327502686</td>\n    </tr>\n    <tr>\n      <th>tags.sparkDatasourceInfo</th>\n      <td>path=dbfs:/FileStore/tables/df_silver.csv,form...</td>\n      <td>path=dbfs:/FileStore/tables/df_silver.csv,form...</td>\n      <td>path=dbfs:/FileStore/tables/df_silver.csv,form...</td>\n    </tr>\n    <tr>\n      <th>tags.mlflow.log-model.history</th>\n      <td>[{\"artifact_path\":\"SparkML-random-forest\",\"fla...</td>\n      <td>[{\"artifact_path\":\"SparkML-decision-tree\",\"fla...</td>\n      <td>[{\"artifact_path\":\"SparkML-linear-regression\",...</td>\n    </tr>\n    <tr>\n      <th>tags.mlflow.databricks.notebook.commandID</th>\n      <td>5758085053731996640_9203524734153436786_eb5c1f...</td>\n      <td>5758085053731996640_5075229127260517653_3d0e22...</td>\n      <td>5758085053731996640_8130618675562189933_27fe24...</td>\n    </tr>\n    <tr>\n      <th>tags.mlflow.source.type</th>\n      <td>NOTEBOOK</td>\n      <td>NOTEBOOK</td>\n      <td>NOTEBOOK</td>\n    </tr>\n    <tr>\n      <th>tags.mlflow.databricks.webappURL</th>\n      <td>https://community.cloud.databricks.com</td>\n      <td>https://community.cloud.databricks.com</td>\n      <td>https://community.cloud.databricks.com</td>\n    </tr>\n    <tr>\n      <th>tags.mlflow.databricks.cluster.libraries</th>\n      <td>{\"installable\":[],\"redacted\":[]}</td>\n      <td>{\"installable\":[],\"redacted\":[]}</td>\n      <td>{\"installable\":[],\"redacted\":[]}</td>\n    </tr>\n    <tr>\n      <th>tags.mlflow.user</th>\n      <td>mviol.exstudents2022@student.ie.edu</td>\n      <td>mviol.exstudents2022@student.ie.edu</td>\n      <td>mviol.exstudents2022@student.ie.edu</td>\n    </tr>\n    <tr>\n      <th>tags.mlflow.databricks.workspaceURL</th>\n      <td>https://community.cloud.databricks.com</td>\n      <td>https://community.cloud.databricks.com</td>\n      <td>https://community.cloud.databricks.com</td>\n    </tr>\n    <tr>\n      <th>tags.mlflow.runName</th>\n      <td>model_rf</td>\n      <td>model_dt</td>\n      <td>model_LR</td>\n    </tr>\n    <tr>\n      <th>tags.mlflow.databricks.cluster.info</th>\n      <td>{\"cluster_name\":\"final_projectt\",\"spark_versio...</td>\n      <td>{\"cluster_name\":\"final_projectt\",\"spark_versio...</td>\n      <td>{\"cluster_name\":\"final_projectt\",\"spark_versio...</td>\n    </tr>\n    <tr>\n      <th>tags.mlflow.databricks.cluster.id</th>\n      <td>1219-174551-5q7bnz6o</td>\n      <td>1219-174551-5q7bnz6o</td>\n      <td>1219-174551-5q7bnz6o</td>\n    </tr>\n  </tbody>\n</table>\n</div>",
       "datasetInfos": [],
       "metadata": {},
       "removedWidgets": [],
       "textData": null,
       "type": "htmlSandbox"
      }
     },
     "output_type": "display_data"
    }
   ],
   "source": [
    "# Get all runs for a given experiment\n",
    "experiment_id = run.info.experiment_id\n",
    "runs_df = mlflow.search_runs(experiment_id)\n",
    "\n",
    "# Display information\n",
    "runs_df.T"
   ]
  },
  {
   "cell_type": "markdown",
   "metadata": {
    "application/vnd.databricks.v1+cell": {
     "cellMetadata": {},
     "inputWidgets": {},
     "nuid": "7c8be957-42ef-4043-97f1-985cabb6554b",
     "showTitle": false,
     "title": ""
    }
   },
   "source": [
    "We see that that random forest has the lowest rmse and mae, so it has the best performance between all the tested models. However, when we performed other runs we found that linear regression was a good competitor as well (and we see here it is pretty close)"
   ]
  },
  {
   "cell_type": "code",
   "execution_count": 0,
   "metadata": {
    "application/vnd.databricks.v1+cell": {
     "cellMetadata": {},
     "inputWidgets": {},
     "nuid": "3910262f-27ac-4d54-a7de-ea2fd3fc20e0",
     "showTitle": false,
     "title": ""
    }
   },
   "outputs": [
    {
     "output_type": "stream",
     "name": "stdout",
     "output_type": "stream",
     "text": [
      "Out[69]: {'mae': 0.27153090764958965, 'rmse': 0.3230257782717405}"
     ]
    }
   ],
   "source": [
    "# Get the the latest run\n",
    "runs = MlflowClient().search_runs(experiment_id, order_by=[\"metrics.mae asc\"], max_results=1)\n",
    " \n",
    "# Get the metrics from the latest run\n",
    "runs[0].data.metrics"
   ]
  },
  {
   "cell_type": "markdown",
   "metadata": {
    "application/vnd.databricks.v1+cell": {
     "cellMetadata": {},
     "inputWidgets": {},
     "nuid": "c9bb2ca4-31a7-4eb1-a45f-e88cc567894e",
     "showTitle": false,
     "title": ""
    }
   },
   "source": [
    "Here we could order by time to get latest results, but to make it a bit different we ordered by the model having the best performance (in this case mae, but could also use rmse). Let's interpret these results and what they mean for us. This means that on this occasion we are making an error in rating prediction by approximately 0.27 (if we consider mae) to 0.32 (if we consider rmse which penalizes big errors more). And since our scale of ratings is from 0 to 5, we believe that this is very good since in practice if a restaurant is rated 4.27 or 4.0, it wouldn't matter that much for the user who is going to the restaurant. We conclude that random forest is the best model on this occasion and that a variation of 0.27 on average is very good considering the scale of the ratings."
   ]
  }
 ],
 "metadata": {
  "application/vnd.databricks.v1+notebook": {
   "dashboards": [],
   "language": "python",
   "notebookMetadata": {
    "mostRecentlyExecutedCommandWithImplicitDF": {
     "commandId": 4126304046688487,
     "dataframes": [
      "_sqldf"
     ]
    },
    "pythonIndentUnit": 4
   },
   "notebookName": "02_Data_Processing_and_Analysis",
   "widgets": {}
  }
 },
 "nbformat": 4,
 "nbformat_minor": 0
}
